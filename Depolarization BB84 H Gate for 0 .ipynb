{
 "cells": [
  {
   "cell_type": "code",
   "execution_count": 2,
   "id": "4f0e4eab-bc68-47b5-b84e-f7cd33b70917",
   "metadata": {},
   "outputs": [],
   "source": [
    "import numpy as np\n",
    "\n",
    "# Importing standard Qiskit libraries\n",
    "from qiskit import QuantumCircuit, transpile, Aer, IBMQ\n",
    "from qiskit.tools.jupyter import *\n",
    "from qiskit.visualization import *\n",
    "from ibm_quantum_widgets import *\n",
    "from qiskit.providers.aer import QasmSimulator\n",
    "\n",
    "# Loading your IBM Quantum account(s)\n",
    "provider = IBMQ.load_account()"
   ]
  },
  {
   "cell_type": "code",
   "execution_count": 3,
   "id": "80b4773a-5f03-4d69-87a0-c66b3d88a32b",
   "metadata": {},
   "outputs": [],
   "source": [
    "from qiskit.providers.aer.noise import NoiseModel\n",
    "from qiskit.providers.aer.noise.errors import pauli_error, depolarizing_error\n",
    "from qiskit import *\n",
    "from qiskit.visualization import plot_histogram\n",
    "import matplotlib.pyplot as plt\n",
    "import numpy as np\n",
    "%matplotlib inline"
   ]
  },
  {
   "cell_type": "code",
   "execution_count": 4,
   "id": "32ae19b7-1fa6-416c-8af0-5b9adae5f383",
   "metadata": {},
   "outputs": [],
   "source": [
    "def get_noise_dep(p_m, p_g):\n",
    "    error_m = pauli_error([('X',p_m),('I',1-p_m)])\n",
    "    error_g1 = depolarizing_error(p_g,1)\n",
    "    error_g2 = error_g1.tensor(error_g1)\n",
    "    \n",
    "    noise_model = NoiseModel()\n",
    "    \n",
    "    # measurement error is applied to measurements\n",
    "    noise_model.add_all_qubit_quantum_error(error_m, \"measure\")\n",
    "    # single qubit gate error is applied to x gates\n",
    "    noise_model.add_all_qubit_quantum_error(error_g1, [\"h\",\"x\",\"id\"])\n",
    "    # two qubit gate error is applied to cx gates\n",
    "    noise_model.add_all_qubit_quantum_error(error_g2, [\"cx\"])\n",
    "    return noise_model"
   ]
  },
  {
   "cell_type": "code",
   "execution_count": 48,
   "id": "e253fd4c-0b52-4da2-a090-d5d69cafad9a",
   "metadata": {},
   "outputs": [
    {
     "name": "stdout",
     "output_type": "stream",
     "text": [
      "[0, 0, 0, 0, 0, 0, 0, 0, 0, 0, 0, 0, 0, 0, 0, 0, 0, 0, 0, 0, 0, 0, 0, 0, 0, 0, 0, 0, 0, 0, 0, 0, 0, 0, 0, 0, 0, 0, 0, 0, 0, 0, 0, 0, 0, 0, 0, 0, 0, 0]\n",
      "\n",
      "\n",
      "No of identity Gate: 10\n",
      "('0', 978)\n",
      "No of identity Gate: 20\n",
      "('0', 977)\n",
      "No of identity Gate: 30\n",
      "('0', 964)\n",
      "No of identity Gate: 40\n",
      "('0', 961)\n",
      "No of identity Gate: 50\n",
      "('0', 966)\n",
      "No of identity Gate: 60\n",
      "('0', 958)\n",
      "No of identity Gate: 70\n",
      "('0', 956)\n",
      "No of identity Gate: 80\n",
      "('0', 979)\n",
      "No of identity Gate: 90\n",
      "('0', 966)\n",
      "No of identity Gate: 100\n",
      "('0', 970)\n",
      "No of identity Gate: 110\n",
      "('0', 959)\n",
      "No of identity Gate: 120\n",
      "('0', 967)\n",
      "No of identity Gate: 130\n",
      "('0', 968)\n",
      "No of identity Gate: 140\n",
      "('0', 964)\n",
      "No of identity Gate: 150\n",
      "('0', 964)\n",
      "No of identity Gate: 160\n",
      "('0', 976)\n",
      "No of identity Gate: 170\n",
      "('0', 955)\n",
      "No of identity Gate: 180\n",
      "('0', 954)\n",
      "No of identity Gate: 190\n",
      "('0', 967)\n",
      "No of identity Gate: 200\n",
      "('0', 974)\n",
      "No of identity Gate: 210\n",
      "('0', 964)\n",
      "No of identity Gate: 220\n",
      "('0', 963)\n",
      "No of identity Gate: 230\n",
      "('0', 959)\n",
      "No of identity Gate: 240\n",
      "('0', 968)\n",
      "No of identity Gate: 250\n",
      "('0', 964)\n",
      "No of identity Gate: 260\n",
      "('0', 976)\n",
      "No of identity Gate: 270\n",
      "('0', 962)\n",
      "No of identity Gate: 280\n",
      "('0', 962)\n",
      "No of identity Gate: 290\n",
      "('0', 970)\n",
      "No of identity Gate: 300\n",
      "('0', 959)\n",
      "No of identity Gate: 310\n",
      "('0', 960)\n",
      "No of identity Gate: 320\n",
      "('0', 965)\n",
      "No of identity Gate: 330\n",
      "('0', 958)\n",
      "No of identity Gate: 340\n",
      "('0', 965)\n",
      "No of identity Gate: 350\n",
      "('0', 966)\n",
      "No of identity Gate: 360\n",
      "('0', 966)\n",
      "No of identity Gate: 370\n",
      "('0', 953)\n",
      "No of identity Gate: 380\n",
      "('0', 951)\n",
      "No of identity Gate: 390\n",
      "('0', 962)\n",
      "No of identity Gate: 400\n",
      "('0', 963)\n",
      "No of identity Gate: 410\n",
      "('0', 970)\n",
      "No of identity Gate: 420\n",
      "('0', 956)\n",
      "No of identity Gate: 430\n",
      "('0', 962)\n",
      "No of identity Gate: 440\n",
      "('0', 962)\n",
      "No of identity Gate: 450\n",
      "('0', 973)\n",
      "No of identity Gate: 460\n",
      "('0', 970)\n",
      "No of identity Gate: 470\n",
      "('0', 958)\n",
      "No of identity Gate: 480\n",
      "('0', 963)\n",
      "No of identity Gate: 490\n",
      "('0', 954)\n",
      "No of identity Gate: 500\n",
      "('0', 970)\n",
      "[978, 977, 964, 961, 966, 958, 956, 979, 966, 970, 959, 967, 968, 964, 964, 976, 955, 954, 967, 974, 964, 963, 959, 968, 964, 976, 962, 962, 970, 959, 960, 965, 958, 965, 966, 966, 953, 951, 962, 963, 970, 956, 962, 962, 973, 970, 958, 963, 954, 970]\n"
     ]
    }
   ],
   "source": [
    "    bob_bits=[]\n",
    "    from qiskit.tools.monitor import backend_monitor\n",
    "    import matplotlib.pyplot as plt\n",
    "    from qiskit.tools.visualization import circuit_drawer\n",
    "    from qiskit import *\n",
    "    from qiskit.visualization import plot_histogram\n",
    "    from random import randrange, seed, sample\n",
    "    from sys import argv, exit\n",
    "    import random\n",
    "    #data = int(input('ENTER LENGTH OF BIT STREAM (example 5 For 10110):'))\n",
    "    data=50\n",
    "    ##########################################################################\n",
    "    h=0\n",
    "    #h=int(input())\n",
    "    def bit_stream(p):\n",
    "        key1 = \"\"\n",
    "        for i in range(p):\n",
    "            temp = str(random.randint(h,h))\n",
    "            key1 += temp\n",
    "        return(key1)\n",
    "    \n",
    "    bitstream= bit_stream(data)\n",
    "    digits = [int(x) for x in str(bitstream)]\n",
    "    print(digits)\n",
    "    ##########################################################################\n",
    "    #print('List of Bit Stream to transfer over Quantum Channel')\n",
    "    #print(digits)\n",
    "    print('\\n')\n",
    "    #n = len(digits)\n",
    "    \n",
    "    ##########################################################################\n",
    "    bob_bits=[]\n",
    "    from random import choice\n",
    "    m=0\n",
    "    n=50\n",
    "    for i in range(n):\n",
    "        m=m+10\n",
    "        print(\"No of identity Gate:\",m)\n",
    "        if digits[i] == 0:\n",
    "            q = QuantumRegister(1, 'q')\n",
    "            c = ClassicalRegister(1, 'c')\n",
    "            qc = QuantumCircuit(q, c)\n",
    "            qc.barrier()\n",
    "            qc.h(0)\n",
    "            qc.barrier()\n",
    "            for j in range(m):\n",
    "                qc.id(0)\n",
    "                qc.barrier()\n",
    "            qc.h(0)\n",
    "            qc.barrier()\n",
    "            qc.measure(q[0], c[0])\n",
    "            #print(qc)\n",
    "            # Perform a noise simulation\n",
    "            counts = execute(qc,Aer.get_backend('qasm_simulator'),noise_model=get_noise_dep(0.036,0.00036),shots=1000).result().get_counts()\n",
    "            #counts = result.get_counts(qc)\n",
    "            %matplotlib inline\n",
    "            #print(qc)\n",
    "            #qc.draw(output='mpl')\n",
    "            #plt.show()\n",
    "            #print(counts)\n",
    "            #plot_histogram(counts)\n",
    "            \n",
    "            itemMaxValue = max(counts.items(), key=lambda x : x[1])\n",
    "            print(itemMaxValue)\n",
    "            # Iterate over all the items in dictionary to find keys with max value\n",
    "            for key, value in counts.items():\n",
    "                if value == itemMaxValue[1]:\n",
    "                    bob_bits.append(value)\n",
    "            \n",
    "    print(bob_bits)"
   ]
  },
  {
   "cell_type": "markdown",
   "id": "72d251d0-f4b0-4e0b-ac58-dfb7a8e940ed",
   "metadata": {},
   "source": [
    "## 20 time Average"
   ]
  },
  {
   "cell_type": "code",
   "execution_count": null,
   "id": "8f1afe92-7be1-400d-b01a-c8c729fcb578",
   "metadata": {},
   "outputs": [],
   "source": [
    "x =[10, 20, 30, 40, 50, 60, 70, 80, 90, 100, 110, 120, 130, 140, 150, 160, 170, 180, 190, 200, 210, 220, 230, 240, 250, 260, 270, 280, 290, 300, 310, 320, 330, 340, 350, 360, 370, 380, 390, 400, 410, 420, 430, 440, 450, 460, 470, 480, 490, 500]\n",
    "y1=[969, 965, 960, 957, 967, 977, 964, 957, 953, 967, 960, 959, 966, 978, 967, 973, 969, 958, 961, 974, 950, 965, 959, 962, 964, 960, 971, 960, 973, 953, 956, 968, 963, 972, 965, 961, 960, 958, 960, 960, 958, 965, 968, 962, 964, 965, 973, 954, 958, 963]\n",
    "y2=[959, 962, 964, 962, 950, 961, 966, 961, 963, 962, 956, 963, 965, 959, 967, 968, 968, 970, 963, 964, 971, 964, 959, 973, 958, 964, 963, 947, 951, 964, 956, 952, 963, 961, 964, 959, 962, 966, 973, 966, 968, 975, 962, 964, 958, 960, 970, 950, 958, 959]\n",
    "y3=[965, 960, 963, 960, 960, 976, 966, 966, 969, 960, 974, 967, 966, 972, 962, 960, 972, 963, 965, 955, 967, 966, 962, 968, 961, 966, 972, 945, 958, 967, 959, 959, 965, 964, 965, 970, 971, 965, 959, 963, 959, 962, 963, 968, 958, 959, 966, 968, 963, 962]\n",
    "y4=[963, 967, 971, 955, 966, 966, 968, 970, 960, 955, 958, 967, 952, 955, 964, 959, 958, 971, 961, 964, 965, 973, 956, 954, 965, 958, 969, 970, 971, 960, 974, 960, 963, 971, 962, 960, 953, 968, 959, 960, 965, 953, 962, 961, 961, 961, 969, 957, 954, 959]\n",
    "y5=[969, 968, 959, 962, 965, 967, 964, 968, 966, 971, 964, 964, 966, 957, 958, 959, 967, 953, 958, 969, 962, 965, 971, 962, 962, 958, 960, 957, 968, 958, 969, 961, 971, 969, 973, 971, 965, 953, 972, 956, 955, 972, 975, 959, 958, 973, 959, 957, 963, 968]\n",
    "y6=[970, 965, 969, 965, 963, 967, 972, 964, 966, 961, 965, 968, 961, 974, 959, 954, 964, 966, 957, 963, 971, 972, 952, 962, 971, 964, 964, 967, 972, 957, 964, 965, 969, 957, 972, 964, 970, 957, 969, 973, 970, 948, 964, 967, 959, 965, 961, 974, 966, 972]\n",
    "y7=[967, 971, 967, 974, 962, 957, 961, 970, 962, 951, 964, 966, 973, 966, 958, 967, 962, 961, 962, 970, 963, 964, 966, 958, 963, 970, 959, 967, 958, 968, 966, 972, 965, 969, 963, 976, 952, 967, 969, 965, 968, 975, 959, 968, 962, 952, 962, 963, 962, 960]\n",
    "y8=[963, 967, 959, 961, 969, 968, 966, 963, 962, 974, 963, 970, 968, 960, 965, 961, 964, 961, 955, 967, 959, 967, 966, 970, 960, 958, 963, 953, 958, 964, 972, 961, 967, 963, 963, 964, 973, 971, 952, 960, 959, 965, 952, 960, 963, 959, 962, 964, 966, 961]\n",
    "y9=[967, 959, 959, 956, 961, 961, 971, 965, 955, 962, 970, 962, 965, 962, 963, 959, 955, 956, 964, 964, 963, 959, 964, 962, 966, 970, 966, 962, 963, 967, 968, 954, 966, 966, 962, 956, 966, 957, 955, 986, 955, 959, 961, 961, 968, 952, 962, 962, 962, 974]\n",
    "y10=[960, 968, 957, 969, 969, 970, 964, 963, 960, 956, 952, 974, 962, 959, 967, 958, 960, 966, 961, 964, 974, 971, 966, 961, 962, 964, 951, 959, 968, 956, 974, 964, 971, 964, 972, 963, 965, 959, 967, 941, 960, 969, 965, 964, 963, 972, 971, 962, 965, 965]\n",
    "y11=[972, 952, 963, 967, 959, 957, 963, 966, 967, 964, 968, 962, 960, 962, 955, 973, 965, 959, 969, 961, 969, 972, 963, 959, 962, 969, 970, 975, 967, 960, 967, 958, 956, 962, 962, 967, 970, 965, 957, 966, 972, 962, 958, 962, 966, 960, 961, 970, 961, 971]\n",
    "y12=[980, 966, 957, 965, 961, 966, 957, 967, 965, 965, 966, 960, 963, 967, 968, 957, 961, 957, 964, 955, 959, 969, 957, 965, 959, 964, 962, 955, 972, 960, 962, 961, 965, 958, 957, 960, 978, 957, 968, 957, 970, 966, 956, 955, 968, 961, 960, 955, 966, 962]\n",
    "y13=[966, 953, 954, 966, 964, 960, 964, 971, 958, 964, 965, 962, 978, 967, 957, 959, 970, 965, 964, 967, 966, 955, 961, 958, 962, 961, 967, 969, 966, 962, 965, 964, 959, 960, 967, 964, 968, 963, 968, 964, 971, 952, 968, 977, 966, 965, 971, 962, 970, 969]\n",
    "y14=[971, 966, 969, 958, 972, 965, 965, 962, 961, 958, 966, 968, 954, 963, 961, 967, 966, 970, 967, 957, 972, 962, 951, 962, 958, 960, 963, 965, 968, 970, 963, 961, 964, 963, 958, 971, 961, 970, 963, 961, 964, 965, 970, 960, 964, 958, 969, 969, 957, 969]\n",
    "y15=[971, 968, 971, 957, 971, 959, 969, 964, 971, 962, 970, 960, 953, 959, 962, 962, 967, 967, 961, 960, 961, 973, 958, 958, 969, 956, 958, 971, 970, 963, 961, 953, 964, 976, 968, 969, 963, 970, 958, 956, 956, 963, 961, 965, 964, 962, 954, 969, 953, 962]\n",
    "y16=[971, 959, 971, 964, 961, 968, 963, 965, 965, 967, 955, 981, 961, 948, 964, 969, 970, 959, 963, 964, 965, 967, 957, 961, 950, 972, 967, 965, 966, 949, 964, 963, 956, 962, 962, 968, 965, 965, 969, 963, 961, 964, 970, 960, 961, 960, 960, 967, 971, 969]\n",
    "y17=[952, 962, 963, 976, 970, 952, 968, 956, 964, 958, 964, 960, 970, 966, 966, 965, 963, 963, 958, 960, 959, 963, 957, 966, 962, 961, 965, 959, 961, 969, 967, 964, 956, 954, 967, 963, 959, 955, 963, 964, 962, 966, 963, 971, 945, 972, 961, 954, 964, 967]\n",
    "y18=[962, 965, 970, 959, 970, 975, 966, 966, 959, 958, 966, 959, 958, 963, 965, 970, 956, 965, 977, 965, 970, 956, 968, 971, 972, 955, 964, 957, 957, 966, 963, 961, 959, 971, 965, 965, 964, 962, 958, 956, 958, 964, 958, 963, 968, 969, 958, 964, 973, 959]\n",
    "y19=[976, 958, 968, 969, 953, 962, 954, 964, 969, 952, 962, 967, 958, 960, 955, 968, 966, 957, 962, 967, 962, 962, 970, 968, 954, 954, 963, 970, 960, 961, 967, 963, 961, 973, 965, 958, 952, 953, 961, 965, 966, 959, 971, 958, 967, 960, 974, 962, 965, 963]\n",
    "y20=[978, 977, 964, 961, 966, 958, 956, 979, 966, 970, 959, 967, 968, 964, 964, 976, 955, 954, 967, 974, 964, 963, 959, 968, 964, 976, 962, 962, 970, 959, 960, 965, 958, 965, 966, 966, 953, 951, 962, 963, 970, 956, 962, 962, 973, 970, 958, 963, 954, 970]\n",
    "\n",
    "avagarge =[967.55,963.9,963.9,963.15,963.95,964.6,964.35,965.35,963.05,961.85,963.35,965.3,963.35,963.05,962.35,964.2,963.9,962.05,962.95,964.2,964.6,965.4,961.1,963.4,962.2,963,963.95,961.75,964.85,961.65,964.85,961.45,963.05,965,964.9,964.75,963.5,961.6,963.1,962.25,963.35,963,963.4,963.35,962.8,962.75,964.05,962.3,962.55,965.2]\n"
   ]
  },
  {
   "cell_type": "markdown",
   "id": "fa70d531-1748-48c1-8d12-fb7fb4b312b6",
   "metadata": {},
   "source": [
    "## Map Plotting"
   ]
  },
  {
   "cell_type": "code",
   "execution_count": 61,
   "id": "e654c266-691a-4157-9c89-e28888e05852",
   "metadata": {},
   "outputs": [
    {
     "data": {
      "text/plain": [
       "<matplotlib.legend.Legend at 0x7f2392b2aa90>"
      ]
     },
     "execution_count": 61,
     "metadata": {},
     "output_type": "execute_result"
    },
    {
     "data": {
      "image/png": "[encoded data removed]",
      "text/plain": [
       "<Figure size 720x360 with 1 Axes>"
      ]
     },
     "metadata": {
      "needs_background": "light"
     },
     "output_type": "display_data"
    },
    {
     "data": {
      "text/plain": [
       "<Figure size 576x360 with 0 Axes>"
      ]
     },
     "metadata": {},
     "output_type": "display_data"
    }
   ],
   "source": [
    "%config InlineBackend.print_figure_kwargs={'facecolor' : \"w\"}\n",
    "import matplotlib.pyplot as plt\n",
    "from matplotlib.ticker import (AutoMinorLocator, MultipleLocator)\n",
    "fig, ax = plt.subplots(figsize=(10, 5))\n",
    "fig.suptitle('|0> probability for Depolarisation error BB84 Protocol with variable Identity Gate number as Quantum Channel',fontsize=15)\n",
    "# naming the x axis\n",
    "plt.xlabel('Varying Error Probability ',fontsize=14)\n",
    "# naming the y axis\n",
    "plt.ylabel('Probabilities',fontsize=14)\n",
    "# giving a title to my graph\n",
    "# Set axis ranges; by default this will put major ticks every 25.\n",
    "#ax.set_xlim(0, 300)\n",
    "#ax.set_ylim(0, 1)\n",
    "ax.set_xlim(10, 500)\n",
    "ax.set_ylim(0,1)\n",
    "fig = plt.figure(figsize=(8,5))\n",
    "# line 2 points\n",
    "y1 = [0.96755,0.9639,0.9639,0.96315,0.96395,0.9646,0.96435,0.96535,0.96305,0.96185,0.96335,0.9653,0.96335,0.96305,0.96235,0.9642,0.9639,0.96205,0.96295,0.9642,0.9646,0.9654,0.9611,0.9634,0.9622,0.963,0.96395,0.96175,0.96485,0.96165,0.96485,0.96145,0.96305,0.965,0.9649,0.96475,0.9635,0.9616,0.9631,0.96225,0.96335,0.963,0.9634,0.96335,0.9628,0.96275,0.96405,0.9623,0.96255,0.9652]\n",
    "x1 = [10, 20, 30, 40, 50, 60, 70, 80, 90, 100, 110, 120, 130, 140, 150, 160, 170, 180, 190, 200, 210, 220, 230, 240, 250, 260, 270, 280, 290, 300, 310, 320, 330, 340, 350, 360, 370, 380, 390, 400, 410, 420, 430, 440, 450, 460, 470, 480, 490, 500]\n",
    "\n",
    "# plotting the line 2 points\n",
    "ax.plot(x1, y1, label = \"|0>'s Probability\")\n",
    "#ax.axes.xaxis.set_ticks([])\n",
    "# show a legend on the plot\n",
    "ax.legend()"
   ]
  },
  {
   "cell_type": "code",
   "execution_count": 53,
   "id": "8d093a04-3372-45c9-bd28-479fb1d373f3",
   "metadata": {},
   "outputs": [
    {
     "name": "stdout",
     "output_type": "stream",
     "text": [
      "967.55 963.9 963.9 963.15 963.95 964.6 964.35 965.35 963.05 961.85 963.35 965.3 963.35 963.05 962.35 964.2 963.9 962.05 962.95 964.2 964.6 965.4 961.1 963.4 962.2 963 963.95 961.75 964.85 961.65 964.85 961.45 963.05 965 964.9 964.75 963.5 961.6 963.1 962.25 963.35 963 963.4 963.35 962.8 962.75 964.05 962.3 962.55 965.2\n"
     ]
    }
   ],
   "source": [
    "from statistics import mean\n",
    "a = [[969, 965, 960, 957, 967, 977, 964, 957, 953, 967, 960, 959, 966, 978, 967, 973, 969, 958, 961, 974, 950, 965, 959, 962, 964, 960, 971, 960, 973, 953, 956, 968, 963, 972, 965, 961, 960, 958, 960, 960, 958, 965, 968, 962, 964, 965, 973, 954, 958, 963],\n",
    "[959, 962, 964, 962, 950, 961, 966, 961, 963, 962, 956, 963, 965, 959, 967, 968, 968, 970, 963, 964, 971, 964, 959, 973, 958, 964, 963, 947, 951, 964, 956, 952, 963, 961, 964, 959, 962, 966, 973, 966, 968, 975, 962, 964, 958, 960, 970, 950, 958, 959],\n",
    "[965, 960, 963, 960, 960, 976, 966, 966, 969, 960, 974, 967, 966, 972, 962, 960, 972, 963, 965, 955, 967, 966, 962, 968, 961, 966, 972, 945, 958, 967, 959, 959, 965, 964, 965, 970, 971, 965, 959, 963, 959, 962, 963, 968, 958, 959, 966, 968, 963, 962],\n",
    "[963, 967, 971, 955, 966, 966, 968, 970, 960, 955, 958, 967, 952, 955, 964, 959, 958, 971, 961, 964, 965, 973, 956, 954, 965, 958, 969, 970, 971, 960, 974, 960, 963, 971, 962, 960, 953, 968, 959, 960, 965, 953, 962, 961, 961, 961, 969, 957, 954, 959],\n",
    "[969, 968, 959, 962, 965, 967, 964, 968, 966, 971, 964, 964, 966, 957, 958, 959, 967, 953, 958, 969, 962, 965, 971, 962, 962, 958, 960, 957, 968, 958, 969, 961, 971, 969, 973, 971, 965, 953, 972, 956, 955, 972, 975, 959, 958, 973, 959, 957, 963, 968],\n",
    "[970, 965, 969, 965, 963, 967, 972, 964, 966, 961, 965, 968, 961, 974, 959, 954, 964, 966, 957, 963, 971, 972, 952, 962, 971, 964, 964, 967, 972, 957, 964, 965, 969, 957, 972, 964, 970, 957, 969, 973, 970, 948, 964, 967, 959, 965, 961, 974, 966, 972],\n",
    "[967, 971, 967, 974, 962, 957, 961, 970, 962, 951, 964, 966, 973, 966, 958, 967, 962, 961, 962, 970, 963, 964, 966, 958, 963, 970, 959, 967, 958, 968, 966, 972, 965, 969, 963, 976, 952, 967, 969, 965, 968, 975, 959, 968, 962, 952, 962, 963, 962, 960],\n",
    "[963, 967, 959, 961, 969, 968, 966, 963, 962, 974, 963, 970, 968, 960, 965, 961, 964, 961, 955, 967, 959, 967, 966, 970, 960, 958, 963, 953, 958, 964, 972, 961, 967, 963, 963, 964, 973, 971, 952, 960, 959, 965, 952, 960, 963, 959, 962, 964, 966, 961],\n",
    "[967, 959, 959, 956, 961, 961, 971, 965, 955, 962, 970, 962, 965, 962, 963, 959, 955, 956, 964, 964, 963, 959, 964, 962, 966, 970, 966, 962, 963, 967, 968, 954, 966, 966, 962, 956, 966, 957, 955, 986, 955, 959, 961, 961, 968, 952, 962, 962, 962, 974],\n",
    "[960, 968, 957, 969, 969, 970, 964, 963, 960, 956, 952, 974, 962, 959, 967, 958, 960, 966, 961, 964, 974, 971, 966, 961, 962, 964, 951, 959, 968, 956, 974, 964, 971, 964, 972, 963, 965, 959, 967, 941, 960, 969, 965, 964, 963, 972, 971, 962, 965, 965],\n",
    "[972, 952, 963, 967, 959, 957, 963, 966, 967, 964, 968, 962, 960, 962, 955, 973, 965, 959, 969, 961, 969, 972, 963, 959, 962, 969, 970, 975, 967, 960, 967, 958, 956, 962, 962, 967, 970, 965, 957, 966, 972, 962, 958, 962, 966, 960, 961, 970, 961, 971],\n",
    "[980, 966, 957, 965, 961, 966, 957, 967, 965, 965, 966, 960, 963, 967, 968, 957, 961, 957, 964, 955, 959, 969, 957, 965, 959, 964, 962, 955, 972, 960, 962, 961, 965, 958, 957, 960, 978, 957, 968, 957, 970, 966, 956, 955, 968, 961, 960, 955, 966, 962],\n",
    "[966, 953, 954, 966, 964, 960, 964, 971, 958, 964, 965, 962, 978, 967, 957, 959, 970, 965, 964, 967, 966, 955, 961, 958, 962, 961, 967, 969, 966, 962, 965, 964, 959, 960, 967, 964, 968, 963, 968, 964, 971, 952, 968, 977, 966, 965, 971, 962, 970, 969],\n",
    "[971, 966, 969, 958, 972, 965, 965, 962, 961, 958, 966, 968, 954, 963, 961, 967, 966, 970, 967, 957, 972, 962, 951, 962, 958, 960, 963, 965, 968, 970, 963, 961, 964, 963, 958, 971, 961, 970, 963, 961, 964, 965, 970, 960, 964, 958, 969, 969, 957, 969],\n",
    "[971, 968, 971, 957, 971, 959, 969, 964, 971, 962, 970, 960, 953, 959, 962, 962, 967, 967, 961, 960, 961, 973, 958, 958, 969, 956, 958, 971, 970, 963, 961, 953, 964, 976, 968, 969, 963, 970, 958, 956, 956, 963, 961, 965, 964, 962, 954, 969, 953, 962],\n",
    "[971, 959, 971, 964, 961, 968, 963, 965, 965, 967, 955, 981, 961, 948, 964, 969, 970, 959, 963, 964, 965, 967, 957, 961, 950, 972, 967, 965, 966, 949, 964, 963, 956, 962, 962, 968, 965, 965, 969, 963, 961, 964, 970, 960, 961, 960, 960, 967, 971, 969],\n",
    "[952, 962, 963, 976, 970, 952, 968, 956, 964, 958, 964, 960, 970, 966, 966, 965, 963, 963, 958, 960, 959, 963, 957, 966, 962, 961, 965, 959, 961, 969, 967, 964, 956, 954, 967, 963, 959, 955, 963, 964, 962, 966, 963, 971, 945, 972, 961, 954, 964, 967],\n",
    "[962, 965, 970, 959, 970, 975, 966, 966, 959, 958, 966, 959, 958, 963, 965, 970, 956, 965, 977, 965, 970, 956, 968, 971, 972, 955, 964, 957, 957, 966, 963, 961, 959, 971, 965, 965, 964, 962, 958, 956, 958, 964, 958, 963, 968, 969, 958, 964, 973, 959],\n",
    "[976, 958, 968, 969, 953, 962, 954, 964, 969, 952, 962, 967, 958, 960, 955, 968, 966, 957, 962, 967, 962, 962, 970, 968, 954, 954, 963, 970, 960, 961, 967, 963, 961, 973, 965, 958, 952, 953, 961, 965, 966, 959, 971, 958, 967, 960, 974, 962, 965, 963],\n",
    "[978, 977, 964, 961, 966, 958, 956, 979, 966, 970, 959, 967, 968, 964, 964, 976, 955, 954, 967, 974, 964, 963, 959, 968, 964, 976, 962, 962, 970, 959, 960, 965, 958, 965, 966, 966, 953, 951, 962, 963, 970, 956, 962, 962, 973, 970, 958, 963, 954, 970]]\n",
    "\n",
    "\n",
    "print(*map(mean, zip(*a)))"
   ]
  },
  {
   "cell_type": "code",
   "execution_count": null,
   "id": "bb17ea12-1e56-46f4-8aeb-476da9b0e689",
   "metadata": {},
   "outputs": [],
   "source": [
    "[[969, 965, 960, 957, 967, 977, 964, 957, 953, 967, 960, 959, 966, 978, 967, 973, 969, 958, 961, 974, 950, 965, 959, 962, 964, 960, 971, 960, 973, 953, 956, 968, 963, 972, 965, 961, 960, 958, 960, 960, 958, 965, 968, 962, 964, 965, 973, 954, 958, 963],\n",
    "[959, 962, 964, 962, 950, 961, 966, 961, 963, 962, 956, 963, 965, 959, 967, 968, 968, 970, 963, 964, 971, 964, 959, 973, 958, 964, 963, 947, 951, 964, 956, 952, 963, 961, 964, 959, 962, 966, 973, 966, 968, 975, 962, 964, 958, 960, 970, 950, 958, 959],\n",
    "[965, 960, 963, 960, 960, 976, 966, 966, 969, 960, 974, 967, 966, 972, 962, 960, 972, 963, 965, 955, 967, 966, 962, 968, 961, 966, 972, 945, 958, 967, 959, 959, 965, 964, 965, 970, 971, 965, 959, 963, 959, 962, 963, 968, 958, 959, 966, 968, 963, 962],\n",
    "[963, 967, 971, 955, 966, 966, 968, 970, 960, 955, 958, 967, 952, 955, 964, 959, 958, 971, 961, 964, 965, 973, 956, 954, 965, 958, 969, 970, 971, 960, 974, 960, 963, 971, 962, 960, 953, 968, 959, 960, 965, 953, 962, 961, 961, 961, 969, 957, 954, 959],\n",
    "[969, 968, 959, 962, 965, 967, 964, 968, 966, 971, 964, 964, 966, 957, 958, 959, 967, 953, 958, 969, 962, 965, 971, 962, 962, 958, 960, 957, 968, 958, 969, 961, 971, 969, 973, 971, 965, 953, 972, 956, 955, 972, 975, 959, 958, 973, 959, 957, 963, 968],\n",
    "[970, 965, 969, 965, 963, 967, 972, 964, 966, 961, 965, 968, 961, 974, 959, 954, 964, 966, 957, 963, 971, 972, 952, 962, 971, 964, 964, 967, 972, 957, 964, 965, 969, 957, 972, 964, 970, 957, 969, 973, 970, 948, 964, 967, 959, 965, 961, 974, 966, 972],\n",
    "[967, 971, 967, 974, 962, 957, 961, 970, 962, 951, 964, 966, 973, 966, 958, 967, 962, 961, 962, 970, 963, 964, 966, 958, 963, 970, 959, 967, 958, 968, 966, 972, 965, 969, 963, 976, 952, 967, 969, 965, 968, 975, 959, 968, 962, 952, 962, 963, 962, 960],\n",
    "[963, 967, 959, 961, 969, 968, 966, 963, 962, 974, 963, 970, 968, 960, 965, 961, 964, 961, 955, 967, 959, 967, 966, 970, 960, 958, 963, 953, 958, 964, 972, 961, 967, 963, 963, 964, 973, 971, 952, 960, 959, 965, 952, 960, 963, 959, 962, 964, 966, 961],\n",
    "[967, 959, 959, 956, 961, 961, 971, 965, 955, 962, 970, 962, 965, 962, 963, 959, 955, 956, 964, 964, 963, 959, 964, 962, 966, 970, 966, 962, 963, 967, 968, 954, 966, 966, 962, 956, 966, 957, 955, 986, 955, 959, 961, 961, 968, 952, 962, 962, 962, 974],\n",
    "[960, 968, 957, 969, 969, 970, 964, 963, 960, 956, 952, 974, 962, 959, 967, 958, 960, 966, 961, 964, 974, 971, 966, 961, 962, 964, 951, 959, 968, 956, 974, 964, 971, 964, 972, 963, 965, 959, 967, 941, 960, 969, 965, 964, 963, 972, 971, 962, 965, 965],\n",
    "[972, 952, 963, 967, 959, 957, 963, 966, 967, 964, 968, 962, 960, 962, 955, 973, 965, 959, 969, 961, 969, 972, 963, 959, 962, 969, 970, 975, 967, 960, 967, 958, 956, 962, 962, 967, 970, 965, 957, 966, 972, 962, 958, 962, 966, 960, 961, 970, 961, 971],\n",
    "[980, 966, 957, 965, 961, 966, 957, 967, 965, 965, 966, 960, 963, 967, 968, 957, 961, 957, 964, 955, 959, 969, 957, 965, 959, 964, 962, 955, 972, 960, 962, 961, 965, 958, 957, 960, 978, 957, 968, 957, 970, 966, 956, 955, 968, 961, 960, 955, 966, 962],\n",
    "[966, 953, 954, 966, 964, 960, 964, 971, 958, 964, 965, 962, 978, 967, 957, 959, 970, 965, 964, 967, 966, 955, 961, 958, 962, 961, 967, 969, 966, 962, 965, 964, 959, 960, 967, 964, 968, 963, 968, 964, 971, 952, 968, 977, 966, 965, 971, 962, 970, 969],\n",
    "[971, 966, 969, 958, 972, 965, 965, 962, 961, 958, 966, 968, 954, 963, 961, 967, 966, 970, 967, 957, 972, 962, 951, 962, 958, 960, 963, 965, 968, 970, 963, 961, 964, 963, 958, 971, 961, 970, 963, 961, 964, 965, 970, 960, 964, 958, 969, 969, 957, 969],\n",
    "[971, 968, 971, 957, 971, 959, 969, 964, 971, 962, 970, 960, 953, 959, 962, 962, 967, 967, 961, 960, 961, 973, 958, 958, 969, 956, 958, 971, 970, 963, 961, 953, 964, 976, 968, 969, 963, 970, 958, 956, 956, 963, 961, 965, 964, 962, 954, 969, 953, 962],\n",
    "[971, 959, 971, 964, 961, 968, 963, 965, 965, 967, 955, 981, 961, 948, 964, 969, 970, 959, 963, 964, 965, 967, 957, 961, 950, 972, 967, 965, 966, 949, 964, 963, 956, 962, 962, 968, 965, 965, 969, 963, 961, 964, 970, 960, 961, 960, 960, 967, 971, 969],\n",
    "[952, 962, 963, 976, 970, 952, 968, 956, 964, 958, 964, 960, 970, 966, 966, 965, 963, 963, 958, 960, 959, 963, 957, 966, 962, 961, 965, 959, 961, 969, 967, 964, 956, 954, 967, 963, 959, 955, 963, 964, 962, 966, 963, 971, 945, 972, 961, 954, 964, 967],\n",
    "[962, 965, 970, 959, 970, 975, 966, 966, 959, 958, 966, 959, 958, 963, 965, 970, 956, 965, 977, 965, 970, 956, 968, 971, 972, 955, 964, 957, 957, 966, 963, 961, 959, 971, 965, 965, 964, 962, 958, 956, 958, 964, 958, 963, 968, 969, 958, 964, 973, 959],\n",
    "[976, 958, 968, 969, 953, 962, 954, 964, 969, 952, 962, 967, 958, 960, 955, 968, 966, 957, 962, 967, 962, 962, 970, 968, 954, 954, 963, 970, 960, 961, 967, 963, 961, 973, 965, 958, 952, 953, 961, 965, 966, 959, 971, 958, 967, 960, 974, 962, 965, 963],\n",
    "[978, 977, 964, 961, 966, 958, 956, 979, 966, 970, 959, 967, 968, 964, 964, 976, 955, 954, 967, 974, 964, 963, 959, 968, 964, 976, 962, 962, 970, 959, 960, 965, 958, 965, 966, 966, 953, 951, 962, 963, 970, 956, 962, 962, 973, 970, 958, 963, 954, 970]]\n",
    "\n"
   ]
  },
  {
   "cell_type": "markdown",
   "id": "f68f4089-7934-4159-8457-a5f500afed93",
   "metadata": {},
   "source": [
    "## Sir's Code"
   ]
  },
  {
   "cell_type": "code",
   "execution_count": 58,
   "id": "f31f8b99-b8de-42fe-bb05-376a272a182e",
   "metadata": {},
   "outputs": [
    {
     "name": "stdout",
     "output_type": "stream",
     "text": [
      "        ┌───┐ ░ ┌───┐ ░ ┌───┐ ░ ┌───┐ ░ ┌───┐ ░ ┌───┐ ░ ┌───┐ ░ ┌───┐ ░ ┌───┐»\n",
      "   q_0: ┤ H ├─░─┤ I ├─░─┤ I ├─░─┤ I ├─░─┤ I ├─░─┤ I ├─░─┤ I ├─░─┤ I ├─░─┤ I ├»\n",
      "        └───┘ ░ └───┘ ░ └───┘ ░ └───┘ ░ └───┘ ░ └───┘ ░ └───┘ ░ └───┘ ░ └───┘»\n",
      "meas: 1/═════════════════════════════════════════════════════════════════════»\n",
      "                                                                             »\n",
      "«         ░ ┌───┐ ░ ┌───┐ ░ ┌───┐ ░ ┌─┐\n",
      "«   q_0: ─░─┤ I ├─░─┤ I ├─░─┤ H ├─░─┤M├\n",
      "«         ░ └───┘ ░ └───┘ ░ └───┘ ░ └╥┘\n",
      "«meas: 1/════════════════════════════╩═\n",
      "«                                    0 \n"
     ]
    },
    {
     "data": {
      "image/png": "[encoded data removed]",
      "text/plain": [
       "<Figure size 504x360 with 1 Axes>"
      ]
     },
     "execution_count": 58,
     "metadata": {},
     "output_type": "execute_result"
    }
   ],
   "source": [
    "qc = QuantumCircuit(1)\n",
    "qc.h(0)\n",
    "qc.barrier()\n",
    "for i in range(10):\n",
    "    qc.i(0)\n",
    "    qc.barrier()\n",
    "qc.h(0)\n",
    "qc.measure_all()\n",
    "print(qc)\n",
    "\n",
    "counts = execute(qc,Aer.get_backend('qasm_simulator'),noise_model=get_noise_dep(0.036,0.00036),shots=2048).result().get_counts()\n",
    "plot_histogram(counts)"
   ]
  },
  {
   "cell_type": "code",
   "execution_count": 64,
   "id": "212f2870-f391-41fd-ab4a-291cd3e4a596",
   "metadata": {},
   "outputs": [
    {
     "data": {
      "image/png": "[encoded data removed]",
      "text/plain": [
       "<Figure size 504x360 with 1 Axes>"
      ]
     },
     "execution_count": 64,
     "metadata": {},
     "output_type": "execute_result"
    }
   ],
   "source": [
    "qc = QuantumCircuit(1)\n",
    "qc.h(0)\n",
    "qc.barrier()\n",
    "for i in range(10000):\n",
    "    qc.i(0)\n",
    "    qc.barrier()\n",
    "qc.h(0)\n",
    "qc.measure_all()\n",
    "#print(qc)\n",
    "\n",
    "counts = execute(qc,Aer.get_backend('qasm_simulator'),noise_model=get_noise_dep(0.036,0.00036),shots=2048).result().get_counts()\n",
    "plot_histogram(counts)"
   ]
  },
  {
   "cell_type": "code",
   "execution_count": 5,
   "id": "107dc189-0bf4-4992-a24e-26fdce4a0e4f",
   "metadata": {},
   "outputs": [
    {
     "data": {
      "image/png": "[encoded data removed]",
      "text/plain": [
       "<Figure size 504x360 with 1 Axes>"
      ]
     },
     "execution_count": 5,
     "metadata": {},
     "output_type": "execute_result"
    }
   ],
   "source": [
    "qc = QuantumCircuit(1)\n",
    "qc.h(0)\n",
    "qc.barrier()\n",
    "for i in range(500):\n",
    "    qc.i(0)\n",
    "    qc.barrier()\n",
    "qc.h(0)\n",
    "qc.measure_all()\n",
    "#print(qc)\n",
    "\n",
    "counts = execute(qc,Aer.get_backend('qasm_simulator'),noise_model=get_noise_dep(0.036,0.00036),shots=2048).result().get_counts()\n",
    "plot_histogram(counts)"
   ]
  },
  {
   "cell_type": "code",
   "execution_count": 6,
   "id": "3d17754e-e7d7-4c7a-a939-dbe6f19b0ee9",
   "metadata": {},
   "outputs": [
    {
     "data": {
      "image/png": "[encoded data removed]",
      "text/plain": [
       "<Figure size 504x360 with 1 Axes>"
      ]
     },
     "execution_count": 6,
     "metadata": {},
     "output_type": "execute_result"
    }
   ],
   "source": [
    "qc = QuantumCircuit(1)\n",
    "qc.h(0)\n",
    "qc.barrier()\n",
    "for i in range(500):\n",
    "    qc.i(0)\n",
    "    qc.barrier()\n",
    "qc.h(0)\n",
    "qc.measure_all()\n",
    "#print(qc)\n",
    "\n",
    "counts = execute(qc,Aer.get_backend('qasm_simulator'),noise_model=get_noise_dep(0.036,0.00036),shots=1000).result().get_counts()\n",
    "plot_histogram(counts)"
   ]
  },
  {
   "cell_type": "code",
   "execution_count": null,
   "id": "31310bd2-a08c-4275-bb2b-14b807c74570",
   "metadata": {},
   "outputs": [],
   "source": []
  }
 ],
 "metadata": {
  "kernelspec": {
   "display_name": "Qiskit v0.31.0 (ipykernel)",
   "language": "python",
   "name": "python3"
  },
  "language_info": {
   "codemirror_mode": {
    "name": "ipython",
    "version": 3
   },
   "file_extension": ".py",
   "mimetype": "text/x-python",
   "name": "python",
   "nbconvert_exporter": "python",
   "pygments_lexer": "ipython3",
   "version": "3.8.10"
  },
  "widgets": {
   "application/vnd.jupyter.widget-state+json": {
    "state": {},
    "version_major": 2,
    "version_minor": 0
   }
  }
 },
 "nbformat": 4,
 "nbformat_minor": 5
}
