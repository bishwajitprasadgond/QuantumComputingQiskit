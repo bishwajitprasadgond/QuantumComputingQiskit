{
 "cells": [
  {
   "cell_type": "code",
   "execution_count": 2,
   "id": "4f0e4eab-bc68-47b5-b84e-f7cd33b70917",
   "metadata": {},
   "outputs": [],
   "source": [
    "import numpy as np\n",
    "\n",
    "# Importing standard Qiskit libraries\n",
    "from qiskit import QuantumCircuit, transpile, Aer, IBMQ\n",
    "from qiskit.tools.jupyter import *\n",
    "from qiskit.visualization import *\n",
    "from ibm_quantum_widgets import *\n",
    "from qiskit.providers.aer import QasmSimulator\n",
    "\n",
    "# Loading your IBM Quantum account(s)\n",
    "provider = IBMQ.load_account()"
   ]
  },
  {
   "cell_type": "code",
   "execution_count": 3,
   "id": "80b4773a-5f03-4d69-87a0-c66b3d88a32b",
   "metadata": {},
   "outputs": [],
   "source": [
    "from qiskit.providers.aer.noise import NoiseModel\n",
    "from qiskit.providers.aer.noise.errors import pauli_error, depolarizing_error\n",
    "from qiskit import *\n",
    "from qiskit.visualization import plot_histogram\n",
    "import matplotlib.pyplot as plt\n",
    "import numpy as np\n",
    "%matplotlib inline"
   ]
  },
  {
   "cell_type": "code",
   "execution_count": 4,
   "id": "32ae19b7-1fa6-416c-8af0-5b9adae5f383",
   "metadata": {},
   "outputs": [],
   "source": [
    "def get_noise_dep(p_m, p_g):\n",
    "    error_m = pauli_error([('X',p_m),('I',1-p_m)])\n",
    "    error_g1 = depolarizing_error(p_g,1)\n",
    "    error_g2 = error_g1.tensor(error_g1)\n",
    "    \n",
    "    noise_model = NoiseModel()\n",
    "    \n",
    "    # measurement error is applied to measurements\n",
    "    noise_model.add_all_qubit_quantum_error(error_m, \"measure\")\n",
    "    # single qubit gate error is applied to x gates\n",
    "    noise_model.add_all_qubit_quantum_error(error_g1, [\"h\",\"x\",\"id\"])\n",
    "    # two qubit gate error is applied to cx gates\n",
    "    noise_model.add_all_qubit_quantum_error(error_g2, [\"cx\"])\n",
    "    return noise_model"
   ]
  },
  {
   "cell_type": "code",
   "execution_count": 23,
   "id": "e253fd4c-0b52-4da2-a090-d5d69cafad9a",
   "metadata": {},
   "outputs": [
    {
     "name": "stdout",
     "output_type": "stream",
     "text": [
      "[0, 0, 0, 0, 0, 0, 0, 0, 0, 0, 0, 0, 0, 0, 0, 0, 0, 0, 0, 0, 0, 0, 0, 0, 0, 0, 0, 0, 0, 0, 0, 0, 0, 0, 0, 0, 0, 0, 0, 0, 0, 0, 0, 0, 0, 0, 0, 0, 0, 0]\n",
      "\n",
      "\n",
      "[957, 965, 966, 963, 959, 962, 968, 964, 964, 960, 966, 968, 963, 958, 969, 951, 965, 969, 964, 971, 963, 960, 969, 962, 962, 951, 955, 970, 965, 961, 963, 956, 967, 963, 979, 953, 964, 973, 960, 961, 973, 966, 953, 961, 960, 958, 958, 962, 958, 968]\n"
     ]
    }
   ],
   "source": [
    "    bob_bits=[]\n",
    "    from qiskit.tools.monitor import backend_monitor\n",
    "    import matplotlib.pyplot as plt\n",
    "    from qiskit.tools.visualization import circuit_drawer\n",
    "    from qiskit import *\n",
    "    from qiskit.visualization import plot_histogram\n",
    "    from random import randrange, seed, sample\n",
    "    from sys import argv, exit\n",
    "    import random\n",
    "    #data = int(input('ENTER LENGTH OF BIT STREAM (example 5 For 10110):'))\n",
    "    data=50\n",
    "    ##########################################################################\n",
    "    h=0\n",
    "    #h=int(input())\n",
    "    def bit_stream(p):\n",
    "        key1 = \"\"\n",
    "        for i in range(p):\n",
    "            temp = str(random.randint(h,h))\n",
    "            key1 += temp\n",
    "        return(key1)\n",
    "    \n",
    "    bitstream= bit_stream(data)\n",
    "    digits = [int(x) for x in str(bitstream)]\n",
    "    print(digits)\n",
    "    ##########################################################################\n",
    "    #print('List of Bit Stream to transfer over Quantum Channel')\n",
    "    #print(digits)\n",
    "    print('\\n')\n",
    "    #n = len(digits)\n",
    "    \n",
    "    ##########################################################################\n",
    "    bob_bits=[]\n",
    "    from random import choice\n",
    "    m=0\n",
    "    n=50\n",
    "    for i in range(n):\n",
    "        m=m+10\n",
    "        #print(\"No of identity Gate:\",m)\n",
    "        if digits[i] == 0:\n",
    "            q = QuantumRegister(1, 'q')\n",
    "            c = ClassicalRegister(1, 'c')\n",
    "            qc = QuantumCircuit(q, c)\n",
    "           \n",
    "            for j in range(m):\n",
    "                qc.id(0)\n",
    "                qc.barrier()\n",
    "            qc.measure(q[0], c[0])\n",
    "            #print(qc)\n",
    "            # Perform a noise simulation\n",
    "            counts = execute(qc,Aer.get_backend('qasm_simulator'),noise_model=get_noise_dep(0.036,0.00036),shots=1000).result().get_counts()\n",
    "            #counts = result.get_counts(qc)\n",
    "            %matplotlib inline\n",
    "            #print(qc)\n",
    "            #qc.draw(output='mpl')\n",
    "            #plt.show()\n",
    "            #print(counts)\n",
    "            #plot_histogram(counts)\n",
    "            \n",
    "            itemMaxValue = max(counts.items(), key=lambda x : x[1])\n",
    "            #print(itemMaxValue)\n",
    "            # Iterate over all the items in dictionary to find keys with max value\n",
    "            for key, value in counts.items():\n",
    "                if value == itemMaxValue[1]:\n",
    "                    bob_bits.append(value)\n",
    "            \n",
    "    print(bob_bits)"
   ]
  },
  {
   "cell_type": "markdown",
   "id": "72d251d0-f4b0-4e0b-ac58-dfb7a8e940ed",
   "metadata": {},
   "source": [
    "## 20 time Average"
   ]
  },
  {
   "cell_type": "code",
   "execution_count": null,
   "id": "8f1afe92-7be1-400d-b01a-c8c729fcb578",
   "metadata": {},
   "outputs": [],
   "source": [
    "x =[10, 20, 30, 40, 50, 60, 70, 80, 90, 100, 110, 120, 130, 140, 150, 160, 170, 180, 190, 200, 210, 220, 230, 240, 250, 260, 270, 280, 290, 300, 310, 320, 330, 340, 350, 360, 370, 380, 390, 400, 410, 420, 430, 440, 450, 460, 470, 480, 490, 500]\n",
    "y1=[[963, 964, 971, 976, 971, 962, 961, 962, 965, 973, 955, 964, 973, 964, 969, 957, 969, 969, 960, 963, 953, 969, 964, 970, 954, 957, 965, 969, 961, 969, 959, 974, 968, 972, 961, 973, 955, 959, 962, 965, 966, 958, 970, 961, 956, 961, 968, 966, 961, 969],\n",
    "[973, 975, 961, 966, 959, 969, 955, 965, 956, 962, 968, 966, 962, 967, 959, 959, 963, 965, 963, 961, 960, 963, 963, 964, 954, 961, 964, 971, 963, 962, 970, 963, 969, 964, 970, 960, 970, 969, 965, 960, 974, 972, 973, 957, 964, 964, 963, 958, 966, 968],\n",
    "[961, 956, 962, 958, 962, 953, 968, 967, 968, 959, 964, 956, 959, 964, 956, 944, 958, 960, 969, 968, 965, 963, 962, 965, 960, 962, 965, 969, 967, 961, 959, 964, 967, 972, 970, 960, 966, 966, 961, 968, 977, 956, 962, 966, 961, 962, 966, 961, 971, 958],\n",
    "[956, 953, 957, 979, 964, 962, 966, 964, 958, 969, 972, 973, 968, 966, 962, 963, 960, 952, 965, 965, 965, 965, 970, 957, 959, 955, 962, 954, 964, 956, 964, 971, 967, 960, 964, 969, 976, 972, 964, 966, 964, 964, 959, 963, 968, 956, 962, 975, 964, 955],\n",
    "[965, 961, 962, 970, 967, 973, 965, 960, 961, 965, 965, 953, 972, 973, 958, 962, 965, 960, 961, 956, 965, 961, 964, 961, 963, 966, 960, 964, 966, 965, 972, 964, 963, 960, 965, 974, 970, 965, 973, 962, 947, 960, 973, 963, 957, 960, 962, 965, 968, 961],\n",
    "[963, 961, 973, 961, 968, 968, 967, 972, 968, 973, 976, 967, 967, 967, 963, 971, 953, 951, 954, 966, 962, 962, 969, 954, 964, 967, 957, 970, 971, 965, 958, 945, 970, 955, 978, 962, 971, 963, 969, 977, 961, 966, 966, 955, 954, 959, 963, 957, 960, 967],    \n",
    "[962, 965, 955, 949, 956, 958, 954, 975, 969, 965, 956, 970, 968, 967, 964, 962, 972, 959, 962, 963, 968, 964, 956, 960, 959, 966, 964, 968, 967, 966, 961, 962, 975, 961, 961, 969, 964, 964, 969, 956, 960, 959, 968, 966, 966, 964, 966, 965, 968, 966],   \n",
    "[959, 966, 956, 967, 965, 956, 964, 965, 962, 981, 956, 963, 959, 967, 967, 957, 969, 971, 954, 971, 959, 962, 966, 963, 962, 960, 965, 972, 967, 967, 962, 971, 969, 968, 966, 970, 965, 972, 974, 971, 962, 965, 961, 958, 963, 963, 974, 966, 958, 969],   \n",
    "[967, 966, 968, 961, 962, 973, 954, 964, 964, 954, 962, 947, 959, 958, 960, 966, 970, 962, 953, 977, 960, 969, 973, 971, 960, 967, 968, 959, 959, 977, 976, 967, 954, 970, 958, 964, 958, 966, 951, 966, 964, 963, 957, 968, 963, 970, 964, 965, 963, 961],    \n",
    "[956, 970, 966, 967, 965, 962, 960, 966, 968, 958, 980, 968, 963, 959, 967, 954, 967, 970, 968, 947, 969, 964, 970, 956, 977, 972, 958, 963, 960, 978, 973, 967, 966, 970, 972, 950, 952, 970, 964, 958, 973, 972, 965, 955, 960, 959, 965, 969, 968, 957],   \n",
    "[950, 965, 965, 963, 977, 966, 968, 966, 962, 969, 962, 972, 974, 973, 962, 964, 963, 969, 963, 965, 965, 966, 968, 957, 954, 958, 971, 962, 961, 967, 958, 961, 965, 965, 965, 966, 955, 967, 965, 964, 965, 956, 960, 964, 960, 955, 959, 963, 956, 968],   \n",
    "[950, 965, 965, 963, 977, 966, 968, 966, 962, 969, 962, 972, 974, 973, 962, 964, 963, 969, 963, 965, 965, 966, 968, 957, 954, 958, 971, 962, 961, 967, 958, 961, 965, 965, 965, 966, 955, 967, 965, 964, 965, 956, 960, 964, 960, 955, 959, 963, 956, 968],\n",
    "[965, 951, 960, 960, 960, 975, 960, 977, 960, 965, 960, 974, 962, 961, 965, 960, 958, 962, 965, 968, 966, 957, 959, 977, 959, 945, 974, 960, 972, 974, 971, 969, 968, 961, 972, 962, 962, 974, 965, 954, 970, 979, 963, 966, 971, 962, 960, 958, 966, 964],\n",
    "[972, 956, 956, 966, 952, 964, 967, 963, 966, 968, 967, 958, 963, 973, 964, 966, 966, 950, 964, 961, 967, 959, 966, 965, 956, 968, 949, 975, 962, 960, 971, 949, 958, 951, 960, 968, 968, 965, 971, 966, 957, 974, 960, 967, 962, 953, 961, 977, 971, 969],\n",
    "[962, 958, 960, 970, 970, 969, 965, 960, 964, 973, 965, 963, 964, 955, 965, 962, 962, 957, 964, 961, 965, 966, 962, 962, 949, 965, 972, 957, 967, 947, 965, 963, 950, 963, 975, 965, 952, 967, 967, 975, 970, 967, 958, 957, 969, 964, 964, 964, 977, 961],\n",
    "[954, 967, 961, 957, 964, 970, 967, 966, 965, 960, 964, 965, 964, 962, 965, 962, 965, 965, 966, 956, 962, 962, 957, 970, 960, 970, 962, 954, 974, 964, 969, 967, 964, 962, 961, 971, 961, 961, 964, 962, 963, 961, 966, 968, 957, 964, 959, 967, 959, 968],    \n",
    "[965, 962, 951, 968, 960, 966, 971, 967, 972, 966, 956, 963, 968, 961, 956, 970, 945, 961, 957, 969, 971, 972, 949, 971, 961, 956, 969, 970, 969, 959, 981, 968, 961, 954, 966, 955, 972, 967, 957, 965, 978, 971, 967, 969, 976, 973, 959, 959, 966, 950],   \n",
    "[971, 958, 957, 964, 965, 967, 963, 971, 964, 952, 976, 963, 962, 969, 959, 973, 966, 957, 956, 966, 961, 969, 963, 969, 964, 967, 961, 959, 962, 964, 959, 968, 966, 956, 970, 960, 957, 969, 968, 970, 963, 960, 969, 959, 974, 965, 964, 961, 962, 964],   \n",
    "[965, 972, 956, 947, 965, 964, 968, 962, 972, 964, 969, 953, 963, 961, 962, 955, 970, 965, 960, 961, 969, 968, 959, 965, 966, 964, 978, 971, 965, 967, 968, 965, 960, 955, 968, 958, 973, 964, 968, 968, 962, 971, 957, 963, 966, 960, 976, 958, 961, 972],\n",
    "[957, 965, 966, 963, 959, 962, 968, 964, 964, 960, 966, 968, 963, 958, 969, 951, 965, 969, 964, 971, 963, 960, 969, 962, 962, 951, 955, 970, 965, 961, 963, 956, 967, 963, 979, 953, 964, 973, 960, 961, 973, 966, 953, 961, 960, 958, 958, 962, 958, 968]]\n",
    "\n",
    "Average = [961.8 962.8 961.4 963.75 964.4 965.25 963.95 966.1 964.5 965.25 965.05 963.9 965.35 964.9 962.7 961.1 963.45 962.15 961.55 964 964 964.35 963.85 963.8 959.85 961.75 964.5 964.95 965.15 964.8 965.85 963.75 964.6 962.35 967.3 963.75 963.3 967 965.1 964.9 965.7 964.8 963.35 962.5 963.35 961.35 963.6 963.95 963.95 964.15]"
   ]
  },
  {
   "cell_type": "markdown",
   "id": "11bb8d09-82f0-4dc2-b013-963e482c3198",
   "metadata": {},
   "source": [
    "## Converting the average in plotable format (Divided by 1000)"
   ]
  },
  {
   "cell_type": "code",
   "execution_count": null,
   "id": "5533dd36-0bb1-43b3-a726-a49d52f44e04",
   "metadata": {},
   "outputs": [],
   "source": [
    "\n",
    "Average = [961.8 962.8 961.4 963.75 964.4 965.25 963.95 966.1 964.5 965.25 965.05 963.9 965.35 964.9 962.7 961.1 963.45 962.15 961.55 964 964 964.35 963.85 963.8 959.85 961.75 964.5 964.95 965.15 964.8 965.85 963.75 964.6 962.35 967.3 963.75 963.3 967 965.1 964.9 965.7 964.8 963.35 962.5 963.35 961.35 963.6 963.95 963.95 964.15]\n",
    "\n",
    "y1=[0.9618,0.9628,0.9614,0.96375,0.9644,0.96525,0.96395,0.9661,0.9645,0.96525,0.96505,0.9639,0.96535,0.9649,0.9627,0.9611,0.96345,0.96215,0.96155,0.964,0.964,0.96435,0.96385,0.9638,0.95985,0.96175,0.9645,0.96495,0.96515,0.9648,0.96585,0.96375,0.9646,0.96235,0.9673,0.96375,0.9633,0.967,0.9651,0.9649,0.9657,0.9648,0.96335,0.9625,0.96335,0.96135,0.9636,0.96395,0.96395,0.96415]"
   ]
  },
  {
   "cell_type": "markdown",
   "id": "fa70d531-1748-48c1-8d12-fb7fb4b312b6",
   "metadata": {},
   "source": [
    "## Map Plotting"
   ]
  },
  {
   "cell_type": "code",
   "execution_count": 26,
   "id": "e654c266-691a-4157-9c89-e28888e05852",
   "metadata": {},
   "outputs": [
    {
     "data": {
      "text/plain": [
       "<matplotlib.legend.Legend at 0x7f727664a280>"
      ]
     },
     "execution_count": 26,
     "metadata": {},
     "output_type": "execute_result"
    },
    {
     "data": {
      "image/png": "[encoded data removed]",
      "text/plain": [
       "<Figure size 720x360 with 1 Axes>"
      ]
     },
     "metadata": {
      "needs_background": "light"
     },
     "output_type": "display_data"
    },
    {
     "data": {
      "text/plain": [
       "<Figure size 1152x720 with 0 Axes>"
      ]
     },
     "metadata": {},
     "output_type": "display_data"
    }
   ],
   "source": [
    "%config InlineBackend.print_figure_kwargs={'facecolor' : \"w\"}\n",
    "import matplotlib.pyplot as plt\n",
    "from matplotlib.ticker import (AutoMinorLocator, MultipleLocator)\n",
    "fig, ax = plt.subplots(figsize=(10, 5))\n",
    "fig.suptitle('Depolarisation error BB84 Protocol Using Z Basis with variable I Gate as Quantum Channel',fontsize=14)\n",
    "# naming the x axis\n",
    "plt.xlabel('Varying Error Probability ',fontsize=14)\n",
    "# naming the y axis\n",
    "plt.ylabel('Probabilities',fontsize=14)\n",
    "# giving a title to my graph\n",
    "# Set axis ranges; by default this will put major ticks every 25.\n",
    "#ax.set_xlim(0, 300)\n",
    "#ax.set_ylim(0, 1)\n",
    "ax.set_xlim(10, 500)\n",
    "ax.set_ylim(0,1)\n",
    "fig = plt.figure(figsize=(16,10))\n",
    "# line 2 points\n",
    "y1=[0.9618,0.9628,0.9614,0.96375,0.9644,0.96525,0.96395,0.9661,0.9645,0.96525,0.96505,0.9639,0.96535,0.9649,0.9627,0.9611,0.96345,0.96215,0.96155,0.964,0.964,0.96435,0.96385,0.9638,0.95985,0.96175,0.9645,0.96495,0.96515,0.9648,0.96585,0.96375,0.9646,0.96235,0.9673,0.96375,0.9633,0.967,0.9651,0.9649,0.9657,0.9648,0.96335,0.9625,0.96335,0.96135,0.9636,0.96395,0.96395,0.96415]\n",
    "x1 = [10, 20, 30, 40, 50, 60, 70, 80, 90, 100, 110, 120, 130, 140, 150, 160, 170, 180, 190, 200, 210, 220, 230, 240, 250, 260, 270, 280, 290, 300, 310, 320, 330, 340, 350, 360, 370, 380, 390, 400, 410, 420, 430, 440, 450, 460, 470, 480, 490, 500]\n",
    "\n",
    "# plotting the line 2 points\n",
    "ax.plot(x1, y1, label = \"|0>'s Probability\")\n",
    "#ax.axes.xaxis.set_ticks([])\n",
    "# show a legend on the plot\n",
    "ax.legend()"
   ]
  },
  {
   "cell_type": "markdown",
   "id": "66d57be8-0de4-41f6-a5ad-fb3bac092cad",
   "metadata": {},
   "source": [
    "## Mean"
   ]
  },
  {
   "cell_type": "code",
   "execution_count": 24,
   "id": "8d093a04-3372-45c9-bd28-479fb1d373f3",
   "metadata": {},
   "outputs": [
    {
     "name": "stdout",
     "output_type": "stream",
     "text": [
      "961.8 962.8 961.4 963.75 964.4 965.25 963.95 966.1 964.5 965.25 965.05 963.9 965.35 964.9 962.7 961.1 963.45 962.15 961.55 964 964 964.35 963.85 963.8 959.85 961.75 964.5 964.95 965.15 964.8 965.85 963.75 964.6 962.35 967.3 963.75 963.3 967 965.1 964.9 965.7 964.8 963.35 962.5 963.35 961.35 963.6 963.95 963.95 964.15\n"
     ]
    }
   ],
   "source": [
    "from statistics import mean\n",
    "a=[[963, 964, 971, 976, 971, 962, 961, 962, 965, 973, 955, 964, 973, 964, 969, 957, 969, 969, 960, 963, 953, 969, 964, 970, 954, 957, 965, 969, 961, 969, 959, 974, 968, 972, 961, 973, 955, 959, 962, 965, 966, 958, 970, 961, 956, 961, 968, 966, 961, 969],\n",
    "[973, 975, 961, 966, 959, 969, 955, 965, 956, 962, 968, 966, 962, 967, 959, 959, 963, 965, 963, 961, 960, 963, 963, 964, 954, 961, 964, 971, 963, 962, 970, 963, 969, 964, 970, 960, 970, 969, 965, 960, 974, 972, 973, 957, 964, 964, 963, 958, 966, 968],\n",
    "[961, 956, 962, 958, 962, 953, 968, 967, 968, 959, 964, 956, 959, 964, 956, 944, 958, 960, 969, 968, 965, 963, 962, 965, 960, 962, 965, 969, 967, 961, 959, 964, 967, 972, 970, 960, 966, 966, 961, 968, 977, 956, 962, 966, 961, 962, 966, 961, 971, 958],\n",
    "[956, 953, 957, 979, 964, 962, 966, 964, 958, 969, 972, 973, 968, 966, 962, 963, 960, 952, 965, 965, 965, 965, 970, 957, 959, 955, 962, 954, 964, 956, 964, 971, 967, 960, 964, 969, 976, 972, 964, 966, 964, 964, 959, 963, 968, 956, 962, 975, 964, 955],\n",
    "[965, 961, 962, 970, 967, 973, 965, 960, 961, 965, 965, 953, 972, 973, 958, 962, 965, 960, 961, 956, 965, 961, 964, 961, 963, 966, 960, 964, 966, 965, 972, 964, 963, 960, 965, 974, 970, 965, 973, 962, 947, 960, 973, 963, 957, 960, 962, 965, 968, 961],\n",
    "[963, 961, 973, 961, 968, 968, 967, 972, 968, 973, 976, 967, 967, 967, 963, 971, 953, 951, 954, 966, 962, 962, 969, 954, 964, 967, 957, 970, 971, 965, 958, 945, 970, 955, 978, 962, 971, 963, 969, 977, 961, 966, 966, 955, 954, 959, 963, 957, 960, 967],    \n",
    "[962, 965, 955, 949, 956, 958, 954, 975, 969, 965, 956, 970, 968, 967, 964, 962, 972, 959, 962, 963, 968, 964, 956, 960, 959, 966, 964, 968, 967, 966, 961, 962, 975, 961, 961, 969, 964, 964, 969, 956, 960, 959, 968, 966, 966, 964, 966, 965, 968, 966],   \n",
    "[959, 966, 956, 967, 965, 956, 964, 965, 962, 981, 956, 963, 959, 967, 967, 957, 969, 971, 954, 971, 959, 962, 966, 963, 962, 960, 965, 972, 967, 967, 962, 971, 969, 968, 966, 970, 965, 972, 974, 971, 962, 965, 961, 958, 963, 963, 974, 966, 958, 969],   \n",
    "[967, 966, 968, 961, 962, 973, 954, 964, 964, 954, 962, 947, 959, 958, 960, 966, 970, 962, 953, 977, 960, 969, 973, 971, 960, 967, 968, 959, 959, 977, 976, 967, 954, 970, 958, 964, 958, 966, 951, 966, 964, 963, 957, 968, 963, 970, 964, 965, 963, 961],    \n",
    "[956, 970, 966, 967, 965, 962, 960, 966, 968, 958, 980, 968, 963, 959, 967, 954, 967, 970, 968, 947, 969, 964, 970, 956, 977, 972, 958, 963, 960, 978, 973, 967, 966, 970, 972, 950, 952, 970, 964, 958, 973, 972, 965, 955, 960, 959, 965, 969, 968, 957],   \n",
    "[950, 965, 965, 963, 977, 966, 968, 966, 962, 969, 962, 972, 974, 973, 962, 964, 963, 969, 963, 965, 965, 966, 968, 957, 954, 958, 971, 962, 961, 967, 958, 961, 965, 965, 965, 966, 955, 967, 965, 964, 965, 956, 960, 964, 960, 955, 959, 963, 956, 968],   \n",
    "[950, 965, 965, 963, 977, 966, 968, 966, 962, 969, 962, 972, 974, 973, 962, 964, 963, 969, 963, 965, 965, 966, 968, 957, 954, 958, 971, 962, 961, 967, 958, 961, 965, 965, 965, 966, 955, 967, 965, 964, 965, 956, 960, 964, 960, 955, 959, 963, 956, 968],\n",
    "[965, 951, 960, 960, 960, 975, 960, 977, 960, 965, 960, 974, 962, 961, 965, 960, 958, 962, 965, 968, 966, 957, 959, 977, 959, 945, 974, 960, 972, 974, 971, 969, 968, 961, 972, 962, 962, 974, 965, 954, 970, 979, 963, 966, 971, 962, 960, 958, 966, 964],\n",
    "[972, 956, 956, 966, 952, 964, 967, 963, 966, 968, 967, 958, 963, 973, 964, 966, 966, 950, 964, 961, 967, 959, 966, 965, 956, 968, 949, 975, 962, 960, 971, 949, 958, 951, 960, 968, 968, 965, 971, 966, 957, 974, 960, 967, 962, 953, 961, 977, 971, 969],\n",
    "[962, 958, 960, 970, 970, 969, 965, 960, 964, 973, 965, 963, 964, 955, 965, 962, 962, 957, 964, 961, 965, 966, 962, 962, 949, 965, 972, 957, 967, 947, 965, 963, 950, 963, 975, 965, 952, 967, 967, 975, 970, 967, 958, 957, 969, 964, 964, 964, 977, 961],\n",
    "[954, 967, 961, 957, 964, 970, 967, 966, 965, 960, 964, 965, 964, 962, 965, 962, 965, 965, 966, 956, 962, 962, 957, 970, 960, 970, 962, 954, 974, 964, 969, 967, 964, 962, 961, 971, 961, 961, 964, 962, 963, 961, 966, 968, 957, 964, 959, 967, 959, 968],    \n",
    "[965, 962, 951, 968, 960, 966, 971, 967, 972, 966, 956, 963, 968, 961, 956, 970, 945, 961, 957, 969, 971, 972, 949, 971, 961, 956, 969, 970, 969, 959, 981, 968, 961, 954, 966, 955, 972, 967, 957, 965, 978, 971, 967, 969, 976, 973, 959, 959, 966, 950],   \n",
    "[971, 958, 957, 964, 965, 967, 963, 971, 964, 952, 976, 963, 962, 969, 959, 973, 966, 957, 956, 966, 961, 969, 963, 969, 964, 967, 961, 959, 962, 964, 959, 968, 966, 956, 970, 960, 957, 969, 968, 970, 963, 960, 969, 959, 974, 965, 964, 961, 962, 964],   \n",
    "[965, 972, 956, 947, 965, 964, 968, 962, 972, 964, 969, 953, 963, 961, 962, 955, 970, 965, 960, 961, 969, 968, 959, 965, 966, 964, 978, 971, 965, 967, 968, 965, 960, 955, 968, 958, 973, 964, 968, 968, 962, 971, 957, 963, 966, 960, 976, 958, 961, 972],\n",
    "[957, 965, 966, 963, 959, 962, 968, 964, 964, 960, 966, 968, 963, 958, 969, 951, 965, 969, 964, 971, 963, 960, 969, 962, 962, 951, 955, 970, 965, 961, 963, 956, 967, 963, 979, 953, 964, 973, 960, 961, 973, 966, 953, 961, 960, 958, 958, 962, 958, 968]]\n",
    "\n",
    "print(*map(mean, zip(*a)))"
   ]
  },
  {
   "cell_type": "code",
   "execution_count": null,
   "id": "bb17ea12-1e56-46f4-8aeb-476da9b0e689",
   "metadata": {},
   "outputs": [],
   "source": []
  },
  {
   "cell_type": "markdown",
   "id": "f68f4089-7934-4159-8457-a5f500afed93",
   "metadata": {},
   "source": [
    "## Sir's Code"
   ]
  },
  {
   "cell_type": "code",
   "execution_count": 28,
   "id": "f31f8b99-b8de-42fe-bb05-376a272a182e",
   "metadata": {},
   "outputs": [
    {
     "name": "stdout",
     "output_type": "stream",
     "text": [
      "        ┌───┐ ░ ┌───┐ ░ ┌───┐ ░ ┌───┐ ░ ┌───┐ ░ ┌───┐ ░ ┌───┐ ░ ┌───┐ ░ ┌───┐»\n",
      "   q_0: ┤ I ├─░─┤ I ├─░─┤ I ├─░─┤ I ├─░─┤ I ├─░─┤ I ├─░─┤ I ├─░─┤ I ├─░─┤ I ├»\n",
      "        └───┘ ░ └───┘ ░ └───┘ ░ └───┘ ░ └───┘ ░ └───┘ ░ └───┘ ░ └───┘ ░ └───┘»\n",
      "meas: 1/═════════════════════════════════════════════════════════════════════»\n",
      "                                                                             »\n",
      "«         ░ ┌───┐ ░  ░ ┌─┐\n",
      "«   q_0: ─░─┤ I ├─░──░─┤M├\n",
      "«         ░ └───┘ ░  ░ └╥┘\n",
      "«meas: 1/═══════════════╩═\n",
      "«                       0 \n"
     ]
    },
    {
     "data": {
      "image/png": "[encoded data removed]",
      "text/plain": [
       "<Figure size 504x360 with 1 Axes>"
      ]
     },
     "execution_count": 28,
     "metadata": {},
     "output_type": "execute_result"
    }
   ],
   "source": [
    "qc = QuantumCircuit(1)\n",
    "for i in range(10):\n",
    "    qc.i(0)\n",
    "    qc.barrier()\n",
    "qc.measure_all()\n",
    "print(qc)\n",
    "\n",
    "counts = execute(qc,Aer.get_backend('qasm_simulator'),noise_model=get_noise_dep(0.036,0.00036),shots=2048).result().get_counts()\n",
    "plot_histogram(counts)"
   ]
  },
  {
   "cell_type": "code",
   "execution_count": 29,
   "id": "212f2870-f391-41fd-ab4a-291cd3e4a596",
   "metadata": {},
   "outputs": [
    {
     "data": {
      "image/png": "[encoded data removed]",
      "text/plain": [
       "<Figure size 504x360 with 1 Axes>"
      ]
     },
     "execution_count": 29,
     "metadata": {},
     "output_type": "execute_result"
    }
   ],
   "source": [
    "qc = QuantumCircuit(1)\n",
    "\n",
    "\n",
    "for i in range(10000):\n",
    "    qc.i(0)\n",
    "    qc.barrier()\n",
    "qc.measure_all()\n",
    "#print(qc)\n",
    "\n",
    "counts = execute(qc,Aer.get_backend('qasm_simulator'),noise_model=get_noise_dep(0.036,0.00036),shots=2048).result().get_counts()\n",
    "plot_histogram(counts)"
   ]
  },
  {
   "cell_type": "code",
   "execution_count": 37,
   "id": "107dc189-0bf4-4992-a24e-26fdce4a0e4f",
   "metadata": {},
   "outputs": [
    {
     "data": {
      "image/png": "[encoded data removed]",
      "text/plain": [
       "<Figure size 504x360 with 1 Axes>"
      ]
     },
     "execution_count": 37,
     "metadata": {},
     "output_type": "execute_result"
    }
   ],
   "source": [
    "qc = QuantumCircuit(1)\n",
    "\n",
    "for i in range(500):\n",
    "    qc.i(0)\n",
    "    qc.barrier()\n",
    "qc.measure_all()\n",
    "#print(qc)\n",
    "\n",
    "counts = execute(qc,Aer.get_backend('qasm_simulator'),noise_model=get_noise_dep(0.036,0.00036),shots=2048).result().get_counts()\n",
    "plot_histogram(counts)"
   ]
  },
  {
   "cell_type": "code",
   "execution_count": 30,
   "id": "3d17754e-e7d7-4c7a-a939-dbe6f19b0ee9",
   "metadata": {},
   "outputs": [
    {
     "data": {
      "image/png": "[encoded data removed]",
      "text/plain": [
       "<Figure size 504x360 with 1 Axes>"
      ]
     },
     "execution_count": 30,
     "metadata": {},
     "output_type": "execute_result"
    }
   ],
   "source": [
    "qc = QuantumCircuit(1)\n",
    "\n",
    "for i in range(500):\n",
    "    qc.i(0)\n",
    "    qc.barrier()\n",
    "qc.measure_all()\n",
    "#print(qc)\n",
    "\n",
    "counts = execute(qc,Aer.get_backend('qasm_simulator'),noise_model=get_noise_dep(0.036,0.00036),shots=1000).result().get_counts()\n",
    "plot_histogram(counts)"
   ]
  },
  {
   "cell_type": "code",
   "execution_count": null,
   "id": "31310bd2-a08c-4275-bb2b-14b807c74570",
   "metadata": {},
   "outputs": [],
   "source": []
  }
 ],
 "metadata": {
  "kernelspec": {
   "display_name": "Qiskit v0.31.0 (ipykernel)",
   "language": "python",
   "name": "python3"
  },
  "language_info": {
   "codemirror_mode": {
    "name": "ipython",
    "version": 3
   },
   "file_extension": ".py",
   "mimetype": "text/x-python",
   "name": "python",
   "nbconvert_exporter": "python",
   "pygments_lexer": "ipython3",
   "version": "3.8.10"
  },
  "widgets": {
   "application/vnd.jupyter.widget-state+json": {
    "state": {
     "059625fa06b34c5ab781b662562c44c5": {
      "model_module": "@jupyter-widgets/base",
      "model_module_version": "1.2.0",
      "model_name": "LayoutModel",
      "state": {
       "width": "95px"
      }
     },
     "061dc3084c954810a1b08082ad52c945": {
      "model_module": "@jupyter-widgets/base",
      "model_module_version": "1.2.0",
      "model_name": "LayoutModel",
      "state": {
       "width": "70px"
      }
     },
     "0ba191f3195d46bfa2c807c68bf85b40": {
      "model_module": "@jupyter-widgets/controls",
      "model_module_version": "1.5.0",
      "model_name": "GridBoxModel",
      "state": {
       "children": [
        "IPY_MODEL_88f00e1efb3e49ae9edab3980e076750"
       ],
       "layout": "IPY_MODEL_940a5f73be234ac0a1402214a29e751c"
      }
     },
     "131ebf29fd824237aa3d4fbf844a93f4": {
      "model_module": "@jupyter-widgets/controls",
      "model_module_version": "1.5.0",
      "model_name": "DescriptionStyleModel",
      "state": {
       "description_width": ""
      }
     },
     "199b9691d2e94098937e4a138a259c18": {
      "model_module": "@jupyter-widgets/base",
      "model_module_version": "1.2.0",
      "model_name": "LayoutModel",
      "state": {
       "width": "190px"
      }
     },
     "1fb71b6a9a374118822c43641665f83d": {
      "model_module": "@jupyter-widgets/controls",
      "model_module_version": "1.5.0",
      "model_name": "DescriptionStyleModel",
      "state": {
       "description_width": ""
      }
     },
     "3f6f33059ccb46c9ad107810ded2238f": {
      "model_module": "@jupyter-widgets/controls",
      "model_module_version": "1.5.0",
      "model_name": "HTMLModel",
      "state": {
       "layout": "IPY_MODEL_dc8bd728beb249f3a09ddc02633fd5d1",
       "style": "IPY_MODEL_8da006d3a2224320be991073fe971899",
       "value": "<h5>Backend</h5>"
      }
     },
     "48395101dbce41b49497261afe587034": {
      "model_module": "@jupyter-widgets/base",
      "model_module_version": "1.2.0",
      "model_name": "LayoutModel",
      "state": {
       "margin": "0px 0px 0px 37px",
       "width": "600px"
      }
     },
     "5f8a6d1865e040d89f3b1448e5a1b0b7": {
      "model_module": "@jupyter-widgets/controls",
      "model_module_version": "1.5.0",
      "model_name": "DescriptionStyleModel",
      "state": {
       "description_width": ""
      }
     },
     "64ea736a49a148fe9a083e415b5deece": {
      "model_module": "@jupyter-widgets/controls",
      "model_module_version": "1.5.0",
      "model_name": "DescriptionStyleModel",
      "state": {
       "description_width": ""
      }
     },
     "6c43256b824f40a6b2da06486598c460": {
      "model_module": "@jupyter-widgets/controls",
      "model_module_version": "1.5.0",
      "model_name": "HTMLModel",
      "state": {
       "layout": "IPY_MODEL_f510836b8ffc49ed990923c6bfb4fa8d",
       "style": "IPY_MODEL_64ea736a49a148fe9a083e415b5deece",
       "value": "<p style='font-family: IBM Plex Sans, Arial, Helvetica, sans-serif; font-size: 20px; font-weight: medium;'>Circuit Properties</p>"
      }
     },
     "7e6292f1486549e09da64012e5e04895": {
      "model_module": "@jupyter-widgets/base",
      "model_module_version": "1.2.0",
      "model_name": "LayoutModel",
      "state": {}
     },
     "88f00e1efb3e49ae9edab3980e076750": {
      "model_module": "@jupyter-widgets/controls",
      "model_module_version": "1.5.0",
      "model_name": "ButtonModel",
      "state": {
       "button_style": "primary",
       "description": "Clear",
       "layout": "IPY_MODEL_9afe4e1802e143cc9417a2223bd6670c",
       "style": "IPY_MODEL_a545bff507d6431aacfad987823682e0"
      }
     },
     "8da006d3a2224320be991073fe971899": {
      "model_module": "@jupyter-widgets/controls",
      "model_module_version": "1.5.0",
      "model_name": "DescriptionStyleModel",
      "state": {
       "description_width": ""
      }
     },
     "940a5f73be234ac0a1402214a29e751c": {
      "model_module": "@jupyter-widgets/base",
      "model_module_version": "1.2.0",
      "model_name": "LayoutModel",
      "state": {
       "grid_template_areas": "\n                                       \". . . . right \"\n                                        ",
       "grid_template_columns": "20% 20% 20% 20% 20%",
       "width": "100%"
      }
     },
     "9afe4e1802e143cc9417a2223bd6670c": {
      "model_module": "@jupyter-widgets/base",
      "model_module_version": "1.2.0",
      "model_name": "LayoutModel",
      "state": {
       "grid_area": "right",
       "padding": "0px 0px 0px 0px",
       "width": "70px"
      }
     },
     "a545bff507d6431aacfad987823682e0": {
      "model_module": "@jupyter-widgets/controls",
      "model_module_version": "1.5.0",
      "model_name": "ButtonStyleModel",
      "state": {}
     },
     "afd1380b0da6411688ecb170d392d646": {
      "model_module": "@jupyter-widgets/controls",
      "model_module_version": "1.5.0",
      "model_name": "DescriptionStyleModel",
      "state": {
       "description_width": ""
      }
     },
     "b871be4bc8ec49b39d422c0106e6daf5": {
      "model_module": "@jupyter-widgets/controls",
      "model_module_version": "1.5.0",
      "model_name": "HTMLModel",
      "state": {
       "layout": "IPY_MODEL_7e6292f1486549e09da64012e5e04895",
       "style": "IPY_MODEL_1fb71b6a9a374118822c43641665f83d",
       "value": "<h5>Message</h5>"
      }
     },
     "ca33ab20f1de423da854a94a8a85fe03": {
      "model_module": "@jupyter-widgets/controls",
      "model_module_version": "1.5.0",
      "model_name": "HBoxModel",
      "state": {
       "children": [
        "IPY_MODEL_fba0256032e1469b9ac4b288ef7b21bf",
        "IPY_MODEL_3f6f33059ccb46c9ad107810ded2238f",
        "IPY_MODEL_d3c2dc1bd73a462da4c3ef90b2451606",
        "IPY_MODEL_e5ba247cd42647d4927c0abda2a6c43e",
        "IPY_MODEL_b871be4bc8ec49b39d422c0106e6daf5"
       ],
       "layout": "IPY_MODEL_48395101dbce41b49497261afe587034"
      }
     },
     "d3c2dc1bd73a462da4c3ef90b2451606": {
      "model_module": "@jupyter-widgets/controls",
      "model_module_version": "1.5.0",
      "model_name": "HTMLModel",
      "state": {
       "layout": "IPY_MODEL_059625fa06b34c5ab781b662562c44c5",
       "style": "IPY_MODEL_afd1380b0da6411688ecb170d392d646",
       "value": "<h5>Status</h5>"
      }
     },
     "dc8bd728beb249f3a09ddc02633fd5d1": {
      "model_module": "@jupyter-widgets/base",
      "model_module_version": "1.2.0",
      "model_name": "LayoutModel",
      "state": {
       "width": "145px"
      }
     },
     "e5ba247cd42647d4927c0abda2a6c43e": {
      "model_module": "@jupyter-widgets/controls",
      "model_module_version": "1.5.0",
      "model_name": "HTMLModel",
      "state": {
       "layout": "IPY_MODEL_061dc3084c954810a1b08082ad52c945",
       "style": "IPY_MODEL_131ebf29fd824237aa3d4fbf844a93f4",
       "value": "<h5>Queue</h5>"
      }
     },
     "f510836b8ffc49ed990923c6bfb4fa8d": {
      "model_module": "@jupyter-widgets/base",
      "model_module_version": "1.2.0",
      "model_name": "LayoutModel",
      "state": {
       "margin": "0px 0px 10px 0px"
      }
     },
     "fba0256032e1469b9ac4b288ef7b21bf": {
      "model_module": "@jupyter-widgets/controls",
      "model_module_version": "1.5.0",
      "model_name": "HTMLModel",
      "state": {
       "layout": "IPY_MODEL_199b9691d2e94098937e4a138a259c18",
       "style": "IPY_MODEL_5f8a6d1865e040d89f3b1448e5a1b0b7",
       "value": "<h5>Job ID</h5>"
      }
     }
    },
    "version_major": 2,
    "version_minor": 0
   }
  }
 },
 "nbformat": 4,
 "nbformat_minor": 5
}
