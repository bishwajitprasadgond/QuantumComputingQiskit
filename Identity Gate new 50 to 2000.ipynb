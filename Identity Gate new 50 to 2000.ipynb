{
 "cells": [
  {
   "cell_type": "code",
   "execution_count": 2,
   "id": "92a3052d-5213-42fa-baa9-2789770e9824",
   "metadata": {
    "tags": []
   },
   "outputs": [],
   "source": [
    "import numpy as np\n",
    "\n",
    "# Importing standard Qiskit libraries\n",
    "from qiskit import QuantumCircuit, transpile, Aer, IBMQ\n",
    "from qiskit.tools.jupyter import *\n",
    "from qiskit.visualization import *\n",
    "from ibm_quantum_widgets import *\n",
    "from qiskit.providers.aer import QasmSimulator\n",
    "\n",
    "# Loading your IBM Quantum account(s)\n",
    "provider = IBMQ.load_account()"
   ]
  },
  {
   "cell_type": "code",
   "execution_count": 3,
   "id": "45f2e3b9-0505-46ff-95af-ecb810a030fb",
   "metadata": {},
   "outputs": [
    {
     "name": "stdout",
     "output_type": "stream",
     "text": [
      "No of identity Gate: 50\n",
      "Job Status: job has successfully run\n",
      "{'0': 81, '1': 919}\n",
      "No of identity Gate: 100\n",
      "Job Status: job has successfully run\n",
      "{'0': 79, '1': 921}\n",
      "No of identity Gate: 150\n",
      "Job Status: job has successfully run\n",
      "{'0': 97, '1': 903}\n",
      "No of identity Gate: 200\n",
      "Job Status: job has successfully run\n",
      "{'0': 86, '1': 914}\n",
      "No of identity Gate: 250\n",
      "Job Status: job has successfully run\n",
      "{'0': 111, '1': 889}\n",
      "No of identity Gate: 300\n",
      "Job Status: job has successfully run\n",
      "{'0': 90, '1': 910}\n",
      "No of identity Gate: 350\n",
      "Job Status: job has successfully run\n",
      "{'0': 72, '1': 928}\n",
      "No of identity Gate: 400\n",
      "Job Status: job has successfully run\n",
      "{'0': 73, '1': 927}\n",
      "No of identity Gate: 450\n",
      "Job Status: job has successfully run\n",
      "{'0': 96, '1': 904}\n",
      "No of identity Gate: 500\n",
      "Job Status: job has successfully run\n",
      "{'0': 94, '1': 906}\n",
      "No of identity Gate: 550\n",
      "Job Status: job has successfully run\n",
      "{'0': 83, '1': 917}\n",
      "No of identity Gate: 600\n",
      "Job Status: job has successfully run\n",
      "{'0': 107, '1': 893}\n",
      "No of identity Gate: 650\n",
      "Job Status: job has successfully run\n",
      "{'0': 101, '1': 899}\n",
      "No of identity Gate: 700\n",
      "Job Status: job has successfully run\n",
      "{'0': 100, '1': 900}\n",
      "No of identity Gate: 750\n",
      "Job Status: job has successfully run\n",
      "{'0': 115, '1': 885}\n",
      "No of identity Gate: 800\n",
      "Job Status: job has successfully run\n",
      "{'0': 99, '1': 901}\n",
      "No of identity Gate: 850\n",
      "Job Status: job has successfully run\n",
      "{'0': 104, '1': 896}\n",
      "No of identity Gate: 900\n",
      "Job Status: job has successfully run\n",
      "{'0': 93, '1': 907}\n",
      "No of identity Gate: 950\n",
      "Job Status: job has successfully run\n",
      "{'0': 91, '1': 909}\n",
      "No of identity Gate: 1000\n",
      "Job Status: job has successfully run\n",
      "{'0': 75, '1': 925}\n",
      "No of identity Gate: 1050\n",
      "Job Status: job has successfully run\n",
      "{'0': 93, '1': 907}\n",
      "No of identity Gate: 1100\n",
      "Job Status: job has successfully run\n",
      "{'0': 93, '1': 907}\n",
      "No of identity Gate: 1150\n",
      "Job Status: job has successfully run\n",
      "{'0': 87, '1': 913}\n",
      "No of identity Gate: 1200\n",
      "Job Status: job has successfully run\n",
      "{'0': 94, '1': 906}\n",
      "No of identity Gate: 1250\n",
      "Job Status: job has successfully run\n",
      "{'0': 98, '1': 902}\n",
      "No of identity Gate: 1300\n",
      "Job Status: job has successfully run\n",
      "{'0': 109, '1': 891}\n",
      "No of identity Gate: 1350\n",
      "Job Status: job has successfully run\n",
      "{'0': 91, '1': 909}\n",
      "No of identity Gate: 1400\n",
      "Job Status: job has successfully run\n",
      "{'0': 94, '1': 906}\n",
      "No of identity Gate: 1450\n",
      "Job Status: job has successfully run\n",
      "{'0': 101, '1': 899}\n",
      "No of identity Gate: 1500\n",
      "Job Status: job has successfully run\n",
      "{'0': 76, '1': 924}\n",
      "No of identity Gate: 1550\n",
      "Job Status: job has successfully run\n",
      "{'0': 95, '1': 905}\n",
      "No of identity Gate: 1600\n",
      "Job Status: job has successfully run\n",
      "{'0': 94, '1': 906}\n",
      "No of identity Gate: 1650\n",
      "Job Status: job has successfully run\n",
      "{'0': 96, '1': 904}\n",
      "No of identity Gate: 1700\n",
      "Job Status: job has successfully run\n",
      "{'0': 106, '1': 894}\n",
      "No of identity Gate: 1750\n",
      "Job Status: job has successfully run\n",
      "{'0': 100, '1': 900}\n",
      "No of identity Gate: 1800\n",
      "Job Status: job has successfully run\n",
      "{'0': 95, '1': 905}\n",
      "No of identity Gate: 1850\n",
      "Job Status: job has successfully run\n",
      "{'0': 84, '1': 916}\n",
      "No of identity Gate: 1900\n",
      "Job Status: job has successfully run\n",
      "{'0': 85, '1': 915}\n",
      "No of identity Gate: 1950\n",
      "Job Status: job has successfully run\n",
      "{'0': 94, '1': 906}\n",
      "No of identity Gate: 2000\n",
      "Job Status: job has successfully run\n",
      "{'0': 84, '1': 916}\n"
     ]
    }
   ],
   "source": [
    "from qiskit.tools.monitor import backend_monitor\n",
    "from qiskit import *\n",
    "from qiskit.visualization import plot_histogram\n",
    "from random import randrange, seed, sample\n",
    "from random import choice\n",
    "n=40\n",
    "m=0\n",
    "for i in range(n):\n",
    "    m=m+50\n",
    "    print(\"No of identity Gate:\",m)\n",
    "    qc= QuantumCircuit(1,1)\n",
    "    qc.x(0)\n",
    "    qc.barrier()\n",
    "    #m = int(input('Enter the length of Identity Gate Between Quantum Channel: '))\n",
    "\n",
    "    for j in range(m):\n",
    "        qc.id(0)\n",
    "        qc.barrier()\n",
    "    qc.measure(range(1), range(1))\n",
    "    #%matplotlib inline\n",
    "    #qc.draw(output='mpl')\n",
    "    #print(qc)\n",
    "    from qiskit.tools.monitor import backend_monitor\n",
    "    #IBMQ.load_account()\n",
    "    provider = IBMQ.get_provider(hub='ibm-q')\n",
    "    device = provider.get_backend('ibmq_armonk')\n",
    "    job = execute(qc, backend=device, shots=1000)\n",
    "    #print(job.job_id())\n",
    "    from qiskit.tools.monitor import job_monitor\n",
    "    job_monitor(job)\n",
    "    result = job.result()\n",
    "    #plot_histogram(device_result.get_counts(qc))\n",
    "    counts = result.get_counts(qc)\n",
    "    #plot_histogram(counts)\n",
    "    bits = (result.get_counts(qc))\n",
    "    print(bits)"
   ]
  },
  {
   "cell_type": "code",
   "execution_count": 3,
   "id": "f1979887-81aa-4254-880c-ac4d1e30687e",
   "metadata": {},
   "outputs": [
    {
     "data": {
      "text/plain": [
       "<matplotlib.legend.Legend at 0x7fe6304123a0>"
      ]
     },
     "execution_count": 3,
     "metadata": {},
     "output_type": "execute_result"
    },
    {
     "data": {
      "image/png": "[encoded data removed]",
      "text/plain": [
       "<Figure size 720x360 with 1 Axes>"
      ]
     },
     "metadata": {
      "needs_background": "light"
     },
     "output_type": "display_data"
    },
    {
     "data": {
      "text/plain": [
       "<Figure size 576x360 with 0 Axes>"
      ]
     },
     "metadata": {},
     "output_type": "display_data"
    }
   ],
   "source": [
    "import matplotlib.pyplot as plt\n",
    "from matplotlib.ticker import (AutoMinorLocator, MultipleLocator)\n",
    "fig, ax = plt.subplots(figsize=(10, 5))\n",
    "fig.suptitle('|0> probability of Varying Identity Gate number as Quantum Channel',fontsize=15)\n",
    "# naming the x axis\n",
    "plt.xlabel('Varying Error Probability ',fontsize=14)\n",
    "# naming the y axis\n",
    "plt.ylabel('Probabilities',fontsize=14)\n",
    "# giving a title to my graph\n",
    "# Set axis ranges; by default this will put major ticks every 25.\n",
    "#ax.set_xlim(0, 300)\n",
    "#ax.set_ylim(0, 1)\n",
    "ax.set_xlim(50,2000)\n",
    "ax.set_ylim(0, 1)\n",
    "fig = plt.figure(figsize=(8,5))\n",
    "# line 2 points\n",
    "y2 = [0.919,0.921,0.903,0.914,0.889,0.910,0.928,0.927,0.904,0.906,0.917,0.893,0.899,0.900,0.885,0.901,0.896,0.907,0.909,0.925,0.907,0.907,0.913,0.906,0.902,0.891,0.909,0.906,0.899,0.924,0.905,0.906,0.904,0.894,0.900,0.905,0.916,0.915,0.906,0.916]\n",
    "x2 = [50,100,150,200,250,300,350,400,450,500,550,600,650,700,750,800,850,900,950,1000,1050,1100,1150,1200,1250,1300,1350,1400,1450,1500,1550,1600,1650,1700,1750,1800,1850,1900,1950,2000]\n",
    "# plotting the line 2 points\n",
    "ax.plot(x2, y2, label = \"|1>'s Probability\")\n",
    "#ax.axes.xaxis.set_ticks([])\n",
    "# show a legend on the plot\n",
    "ax.legend()"
   ]
  },
  {
   "cell_type": "code",
   "execution_count": null,
   "id": "d6ef964e-17dc-4705-931c-4b211d75b7da",
   "metadata": {},
   "outputs": [],
   "source": []
  }
 ],
 "metadata": {
  "kernelspec": {
   "display_name": "Qiskit v0.31.0 (ipykernel)",
   "language": "python",
   "name": "python3"
  },
  "language_info": {
   "codemirror_mode": {
    "name": "ipython",
    "version": 3
   },
   "file_extension": ".py",
   "mimetype": "text/x-python",
   "name": "python",
   "nbconvert_exporter": "python",
   "pygments_lexer": "ipython3",
   "version": "3.8.10"
  },
  "widgets": {
   "application/vnd.jupyter.widget-state+json": {
    "state": {},
    "version_major": 2,
    "version_minor": 0
   }
  }
 },
 "nbformat": 4,
 "nbformat_minor": 5
}
