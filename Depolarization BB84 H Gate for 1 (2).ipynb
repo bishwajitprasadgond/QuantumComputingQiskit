{
 "cells": [
  {
   "cell_type": "code",
   "execution_count": 2,
   "id": "4f0e4eab-bc68-47b5-b84e-f7cd33b70917",
   "metadata": {},
   "outputs": [],
   "source": [
    "import numpy as np\n",
    "\n",
    "# Importing standard Qiskit libraries\n",
    "from qiskit import QuantumCircuit, transpile, Aer, IBMQ\n",
    "from qiskit.tools.jupyter import *\n",
    "from qiskit.visualization import *\n",
    "from ibm_quantum_widgets import *\n",
    "from qiskit.providers.aer import QasmSimulator\n",
    "\n",
    "# Loading your IBM Quantum account(s)\n",
    "provider = IBMQ.load_account()"
   ]
  },
  {
   "cell_type": "code",
   "execution_count": 2,
   "id": "80b4773a-5f03-4d69-87a0-c66b3d88a32b",
   "metadata": {},
   "outputs": [],
   "source": [
    "from qiskit.providers.aer.noise import NoiseModel\n",
    "from qiskit.providers.aer.noise.errors import pauli_error, depolarizing_error\n",
    "from qiskit import *\n",
    "from qiskit.visualization import plot_histogram\n",
    "import matplotlib.pyplot as plt\n",
    "import numpy as np\n",
    "%matplotlib inline"
   ]
  },
  {
   "cell_type": "code",
   "execution_count": 3,
   "id": "32ae19b7-1fa6-416c-8af0-5b9adae5f383",
   "metadata": {},
   "outputs": [],
   "source": [
    "def get_noise_dep(p_m, p_g):\n",
    "    error_m = pauli_error([('X',p_m),('I',1-p_m)])\n",
    "    error_g1 = depolarizing_error(p_g,1)\n",
    "    error_g2 = error_g1.tensor(error_g1)\n",
    "    \n",
    "    noise_model = NoiseModel()\n",
    "    \n",
    "    # measurement error is applied to measurements\n",
    "    noise_model.add_all_qubit_quantum_error(error_m, \"measure\")\n",
    "    # single qubit gate error is applied to x gates\n",
    "    noise_model.add_all_qubit_quantum_error(error_g1, [\"h\",\"x\",\"id\"])\n",
    "    # two qubit gate error is applied to cx gates\n",
    "    noise_model.add_all_qubit_quantum_error(error_g2, [\"cx\"])\n",
    "    return noise_model"
   ]
  },
  {
   "cell_type": "code",
   "execution_count": 23,
   "id": "e253fd4c-0b52-4da2-a090-d5d69cafad9a",
   "metadata": {},
   "outputs": [
    {
     "name": "stdout",
     "output_type": "stream",
     "text": [
      "[1, 1, 1, 1, 1, 1, 1, 1, 1, 1, 1, 1, 1, 1, 1, 1, 1, 1, 1, 1, 1, 1, 1, 1, 1, 1, 1, 1, 1, 1, 1, 1, 1, 1, 1, 1, 1, 1, 1, 1, 1, 1, 1, 1, 1, 1, 1, 1, 1, 1]\n",
      "\n",
      "\n",
      "No of identity Gate: 10\n",
      "('1', 966)\n",
      "No of identity Gate: 20\n",
      "('1', 966)\n",
      "No of identity Gate: 30\n",
      "('1', 967)\n",
      "No of identity Gate: 40\n",
      "('1', 960)\n",
      "No of identity Gate: 50\n",
      "('1', 973)\n",
      "No of identity Gate: 60\n",
      "('1', 964)\n",
      "No of identity Gate: 70\n",
      "('1', 958)\n",
      "No of identity Gate: 80\n",
      "('1', 957)\n",
      "No of identity Gate: 90\n",
      "('1', 970)\n",
      "No of identity Gate: 100\n",
      "('1', 963)\n",
      "No of identity Gate: 110\n",
      "('1', 948)\n",
      "No of identity Gate: 120\n",
      "('1', 966)\n",
      "No of identity Gate: 130\n",
      "('1', 957)\n",
      "No of identity Gate: 140\n",
      "('1', 963)\n",
      "No of identity Gate: 150\n",
      "('1', 966)\n",
      "No of identity Gate: 160\n",
      "('1', 975)\n",
      "No of identity Gate: 170\n",
      "('1', 966)\n",
      "No of identity Gate: 180\n",
      "('1', 960)\n",
      "No of identity Gate: 190\n",
      "('1', 964)\n",
      "No of identity Gate: 200\n",
      "('1', 967)\n",
      "No of identity Gate: 210\n",
      "('1', 957)\n",
      "No of identity Gate: 220\n",
      "('1', 965)\n",
      "No of identity Gate: 230\n",
      "('1', 957)\n",
      "No of identity Gate: 240\n",
      "('1', 968)\n",
      "No of identity Gate: 250\n",
      "('1', 966)\n",
      "No of identity Gate: 260\n",
      "('1', 961)\n",
      "No of identity Gate: 270\n",
      "('1', 957)\n",
      "No of identity Gate: 280\n",
      "('1', 967)\n",
      "No of identity Gate: 290\n",
      "('1', 961)\n",
      "No of identity Gate: 300\n",
      "('1', 962)\n",
      "No of identity Gate: 310\n",
      "('1', 963)\n",
      "No of identity Gate: 320\n",
      "('1', 969)\n",
      "No of identity Gate: 330\n",
      "('1', 964)\n",
      "No of identity Gate: 340\n",
      "('1', 961)\n",
      "No of identity Gate: 350\n",
      "('1', 957)\n",
      "No of identity Gate: 360\n",
      "('1', 964)\n",
      "No of identity Gate: 370\n",
      "('1', 974)\n",
      "No of identity Gate: 380\n",
      "('1', 958)\n",
      "No of identity Gate: 390\n",
      "('1', 964)\n",
      "No of identity Gate: 400\n",
      "('1', 961)\n",
      "No of identity Gate: 410\n",
      "('1', 963)\n",
      "No of identity Gate: 420\n",
      "('1', 956)\n",
      "No of identity Gate: 430\n",
      "('1', 959)\n",
      "No of identity Gate: 440\n",
      "('1', 976)\n",
      "No of identity Gate: 450\n",
      "('1', 957)\n",
      "No of identity Gate: 460\n",
      "('1', 967)\n",
      "No of identity Gate: 470\n",
      "('1', 970)\n",
      "No of identity Gate: 480\n",
      "('1', 961)\n",
      "No of identity Gate: 490\n",
      "('1', 958)\n",
      "No of identity Gate: 500\n",
      "('1', 965)\n",
      "[966, 966, 967, 960, 973, 964, 958, 957, 970, 963, 948, 966, 957, 963, 966, 975, 966, 960, 964, 967, 957, 965, 957, 968, 966, 961, 957, 967, 961, 962, 963, 969, 964, 961, 957, 964, 974, 958, 964, 961, 963, 956, 959, 976, 957, 967, 970, 961, 958, 965]\n"
     ]
    }
   ],
   "source": [
    "    bob_bits=[]\n",
    "    from qiskit.tools.monitor import backend_monitor\n",
    "    import matplotlib.pyplot as plt\n",
    "    from qiskit.tools.visualization import circuit_drawer\n",
    "    from qiskit import *\n",
    "    from qiskit.visualization import plot_histogram\n",
    "    from random import randrange, seed, sample\n",
    "    from sys import argv, exit\n",
    "    import random\n",
    "    #data = int(input('ENTER LENGTH OF BIT STREAM (example 5 For 10110):'))\n",
    "    data=50\n",
    "    ##########################################################################\n",
    "    h=1\n",
    "    #h=int(input())\n",
    "    def bit_stream(p):\n",
    "        key1 = \"\"\n",
    "        for i in range(p):\n",
    "            temp = str(random.randint(h,h))\n",
    "            key1 += temp\n",
    "        return(key1)\n",
    "    \n",
    "    bitstream= bit_stream(data)\n",
    "    digits = [int(x) for x in str(bitstream)]\n",
    "    print(digits)\n",
    "    ##########################################################################\n",
    "    #print('List of Bit Stream to transfer over Quantum Channel')\n",
    "    #print(digits)\n",
    "    print('\\n')\n",
    "    #n = len(digits)\n",
    "    \n",
    "    ##########################################################################\n",
    "    bob_bits=[]\n",
    "    from random import choice\n",
    "    m=0\n",
    "    n=50\n",
    "    for i in range(n):\n",
    "        m=m+10\n",
    "        print(\"No of identity Gate:\",m)\n",
    "        if digits[i] == 1:\n",
    "            q = QuantumRegister(1, 'q')\n",
    "            c = ClassicalRegister(1, 'c')\n",
    "            qc = QuantumCircuit(q, c)\n",
    "            qc.x(0)\n",
    "            qc.barrier()\n",
    "            qc.h(0)\n",
    "            qc.barrier()\n",
    "            for j in range(m):\n",
    "                qc.id(0)\n",
    "                qc.barrier()\n",
    "            qc.h(0)\n",
    "            qc.barrier()\n",
    "            qc.measure(q[0], c[0])\n",
    "            #print(qc)\n",
    "            # Perform a noise simulation\n",
    "            counts = execute(qc,Aer.get_backend('qasm_simulator'),noise_model=get_noise_dep(0.036,0.00036),shots=1000).result().get_counts()\n",
    "            #counts = result.get_counts(qc)\n",
    "            %matplotlib inline\n",
    "            #print(qc)\n",
    "            #qc.draw(output='mpl')\n",
    "            #plt.show()\n",
    "            #print(counts)\n",
    "            #plot_histogram(counts)\n",
    "            \n",
    "            itemMaxValue = max(counts.items(), key=lambda x : x[1])\n",
    "            print(itemMaxValue)\n",
    "            # Iterate over all the items in dictionary to find keys with max value\n",
    "            for key, value in counts.items():\n",
    "                if value == itemMaxValue[1]:\n",
    "                    bob_bits.append(value)\n",
    "            \n",
    "    print(bob_bits)"
   ]
  },
  {
   "cell_type": "markdown",
   "id": "72d251d0-f4b0-4e0b-ac58-dfb7a8e940ed",
   "metadata": {},
   "source": [
    "## 20 time Average"
   ]
  },
  {
   "cell_type": "code",
   "execution_count": null,
   "id": "8f1afe92-7be1-400d-b01a-c8c729fcb578",
   "metadata": {},
   "outputs": [],
   "source": [
    "x =[10, 20, 30, 40, 50, 60, 70, 80, 90, 100, 110, 120, 130, 140, 150, 160, 170, 180, 190, 200, 210, 220, 230, 240, 250, 260, 270, 280, 290, 300, 310, 320, 330, 340, 350, 360, 370, 380, 390, 400, 410, 420, 430, 440, 450, 460, 470, 480, 490, 500]\n",
    "y1=[[966, 961, 959, 957, 961, 957, 965, 962, 970, 958, 969, 975, 964, 959, 967, 955, 971, 967, 960, 965, 958, 960, 954, 954, 962, 969, 973, 967, 963, 964, 966, 973, 970, 961, 960, 967, 962, 956, 967, 963, 962, 971, 969, 962, 961, 970, 960, 956, 956, 968],\n",
    "[964, 964, 964, 961, 963, 954, 953, 958, 963, 952, 963, 959, 960, 956, 958, 967, 966, 965, 960, 959, 952, 955, 953, 968, 964, 962, 963, 964, 968, 964, 962, 954, 965, 967, 968, 958, 958, 957, 959, 965, 968, 966, 960, 968, 961, 961, 960, 962, 959, 960],\n",
    "[961, 965, 970, 951, 971, 964, 957, 957, 970, 971, 968, 963, 957, 959, 968, 967, 971, 973, 967, 964, 950, 964, 963, 962, 960, 969, 971, 961, 953, 964, 961, 958, 971, 963, 963, 957, 969, 965, 978, 955, 960, 970, 982, 969, 960, 962, 963, 957, 958, 968],\n",
    "[955, 964, 967, 943, 966, 958, 961, 959, 964, 971, 966, 956, 971, 970, 965, 962, 958, 974, 960, 952, 967, 976, 962, 967, 971, 963, 952, 968, 970, 961, 961, 962, 961, 968, 971, 968, 967, 965, 957, 963, 959, 953, 966, 970, 964, 951, 965, 972, 966, 968],\n",
    "[969, 972, 955, 960, 967, 955, 964, 971, 958, 957, 960, 965, 960, 966, 959, 962, 965, 955, 956, 964, 953, 959, 962, 968, 957, 965, 976, 962, 959, 957, 964, 953, 955, 969, 963, 957, 964, 964, 973, 964, 968, 970, 960, 957, 964, 966, 956, 963, 973, 961],\n",
    "[963, 955, 969, 961, 972, 973, 959, 969, 964, 962, 966, 974, 961, 966, 965, 954, 966, 964, 957, 968, 960, 974, 965, 970, 968, 966, 970, 969, 968, 965, 961, 958, 962, 956, 960, 967, 972, 972, 958, 961, 965, 951, 965, 960, 957, 963, 972, 960, 956, 964],\n",
    "[970, 958, 966, 962, 961, 959, 977, 963, 965, 964, 966, 965, 962, 964, 972, 966, 968, 965, 961, 958, 962, 959, 961, 960, 969, 963, 967, 965, 962, 963, 964, 967, 965, 967, 959, 960, 962, 964, 962, 966, 962, 963, 967, 962, 967, 964, 963, 963, 971, 963],\n",
    "[948, 964, 962, 966, 962, 959, 956, 959, 966, 957, 955, 965, 957, 960, 967, 967, 952, 968, 977, 960, 962, 968, 959, 965, 962, 970, 964, 964, 960, 968, 959, 968, 949, 964, 951, 963, 968, 964, 970, 961, 961, 956, 971, 958, 967, 959, 961, 974, 949, 974],\n",
    "[964, 959, 962, 957, 972, 966, 971, 966, 962, 958, 962, 968, 968, 968, 956, 972, 953, 960, 972, 952, 972, 966, 968, 951, 980, 958, 954, 953, 963, 963, 970, 960, 966, 963, 964, 961, 959, 960, 949, 956, 977, 952, 961, 963, 954, 956, 967, 968, 965, 960],\n",
    "[969, 955, 960, 963, 964, 962, 967, 964, 960, 974, 965, 956, 974, 959, 968, 960, 970, 949, 959, 967, 960, 967, 958, 978, 976, 955, 963, 960, 959, 965, 960, 953, 960, 960, 961, 963, 961, 961, 969, 960, 960, 958, 962, 964, 960, 965, 963, 959, 969, 958],\n",
    "[964, 964, 962, 956, 962, 962, 965, 964, 952, 967, 967, 959, 962, 957, 968, 962, 961, 959, 957, 968, 955, 969, 957, 961, 964, 968, 962, 965, 960, 963, 974, 963, 955, 960, 961, 960, 964, 964, 954, 968, 961, 958, 955, 967, 969, 963, 966, 964, 958, 971],\n",
    "[964, 971, 961, 973, 970, 958, 957, 965, 965, 958, 960, 969, 962, 970, 971, 962, 973, 964, 956, 968, 957, 952, 960, 962, 956, 967, 949, 957, 965, 962, 956, 962, 959, 969, 964, 973, 962, 966, 966, 958, 962, 952, 967, 971, 958, 962, 960, 953, 957, 974],\n",
    "[966, 966, 959, 962, 967, 959, 963, 963, 953, 968, 954, 968, 959, 964, 960, 955, 970, 958, 962, 956, 957, 974, 963, 958, 962, 967, 969, 964, 959, 964, 968, 965, 962, 963, 967, 966, 958, 964, 956, 966, 972, 964, 954, 960, 965, 963, 972, 961, 970, 955],\n",
    "[966, 965, 963, 959, 969, 962, 949, 969, 969, 961, 962, 968, 972, 964, 963, 968, 952, 963, 970, 960, 969, 973, 955, 972, 970, 958, 957, 959, 960, 964, 969, 974, 961, 969, 973, 976, 967, 972, 965, 966, 964, 963, 963, 961, 973, 963, 964, 962, 967, 969],\n",
    "[965, 965, 961, 963, 976, 972, 973, 973, 963, 962, 964, 968, 964, 962, 975, 953, 966, 960, 962, 960, 967, 965, 965, 961, 965, 962, 967, 974, 967, 972, 956, 956, 965, 955, 953, 958, 970, 963, 962, 967, 969, 966, 962, 952, 962, 960, 954, 962, 967, 958],\n",
    "[977, 960, 976, 957, 962, 960, 955, 962, 963, 972, 965, 960, 970, 955, 975, 960, 965, 960, 952, 967, 964, 973, 959, 963, 974, 965, 979, 966, 969, 966, 956, 962, 955, 952, 963, 960, 964, 971, 964, 960, 957, 954, 964, 960, 959, 959, 962, 958, 962, 963],\n",
    "[954, 969, 965, 962, 953, 960, 965, 970, 973, 970, 953, 956, 970, 963, 964, 973, 966, 966, 969, 965, 958, 950, 968, 952, 967, 962, 965, 973, 956, 965, 971, 969, 959, 954, 960, 975, 964, 964, 964, 959, 973, 968, 958, 974, 964, 962, 950, 972, 968, 968],\n",
    "[959, 960, 964, 960, 958, 959, 964, 970, 954, 969, 967, 972, 965, 957, 968, 963, 967, 966, 966, 971, 957, 959, 969, 969, 963, 964, 957, 964, 965, 963, 971, 963, 951, 961, 962, 958, 959, 961, 973, 974, 954, 965, 960, 963, 951, 963, 966, 951, 965, 960],\n",
    "[959, 960, 964, 960, 958, 959, 964, 970, 954, 969, 967, 972, 965, 957, 968, 963, 967, 966, 966, 971, 957, 959, 969, 969, 963, 964, 957, 964, 965, 963, 971, 963, 951, 961, 962, 958, 959, 961, 973, 974, 954, 965, 960, 963, 951, 963, 966, 951, 965, 960],\n",
    "[966, 966, 967, 960, 973, 964, 958, 957, 970, 963, 948, 966, 957, 963, 966, 975, 966, 960, 964, 967, 957, 965, 957, 968, 966, 961, 957, 967, 961, 962, 963, 969, 964, 961, 957, 964, 974, 958, 964, 961, 963, 956, 959, 976, 957, 967, 970, 961, 958, 965]]\n",
    "\n",
    "Avearge= [963.45 963.15 963.8 959.65 965.35 961.1 962.15 964.55 962.9 964.15 962.35 965.2 964 961.95 966.15 963.3 964.65 963.1 962.65 963.1 959.7 964.35 961.35 963.9 965.95 963.9 963.6 964.3 962.6 963.9 964.15 962.6 960.3 962.15 962.1 963.45 964.15 963.6 964.15 963.35 963.55 961.05 963.25 964 961.2 962.1 963 961.45 962.95 964.35]\n"
   ]
  },
  {
   "cell_type": "markdown",
   "id": "11bb8d09-82f0-4dc2-b013-963e482c3198",
   "metadata": {},
   "source": [
    "## Converting the average in plotable format (Divided by 1000)"
   ]
  },
  {
   "cell_type": "code",
   "execution_count": null,
   "id": "5533dd36-0bb1-43b3-a726-a49d52f44e04",
   "metadata": {},
   "outputs": [],
   "source": [
    "Avearge= [963.45 963.15 963.8 959.65 965.35 961.1 962.15 964.55 962.9 964.15 962.35 965.2 964 961.95 966.15 963.3 964.65 963.1 962.65 963.1 959.7 964.35 961.35 963.9 965.95 963.9 963.6 964.3 962.6 963.9 964.15 962.6 960.3 962.15 962.1 963.45 964.15 963.6 964.15 963.35 963.55 961.05 963.25 964 961.2 962.1 963 961.45 962.95 964.35]\n",
    "\n",
    "y1=[0.96345,0.96315,0.9638,0.95965,0.96535,0.9611,0.96215,0.96455,0.9629,0.96415,0.96235,0.9652,0.964,0.96195,0.96615,0.9633,0.96465,0.9631,0.96265,0.9631,0.9597,0.96435,0.96135,0.9639,0.96595,0.9639,0.9636,0.9643,0.9626,0.9639,0.96415,0.9626,0.9603,0.96215,0.9621,0.96345,0.96415,0.9636,0.96415,0.96335,0.96355,0.96105,0.96325,0.964,0.9612,0.9621,0.963,0.96145,0.96295,0.96435]"
   ]
  },
  {
   "cell_type": "markdown",
   "id": "fa70d531-1748-48c1-8d12-fb7fb4b312b6",
   "metadata": {},
   "source": [
    "## Map Plotting"
   ]
  },
  {
   "cell_type": "code",
   "execution_count": 30,
   "id": "e654c266-691a-4157-9c89-e28888e05852",
   "metadata": {},
   "outputs": [
    {
     "data": {
      "text/plain": [
       "<matplotlib.legend.Legend at 0x7fe39f68d6a0>"
      ]
     },
     "execution_count": 30,
     "metadata": {},
     "output_type": "execute_result"
    },
    {
     "data": {
      "image/png": "[encoded data removed]",
      "text/plain": [
       "<Figure size 720x360 with 1 Axes>"
      ]
     },
     "metadata": {
      "needs_background": "light"
     },
     "output_type": "display_data"
    },
    {
     "data": {
      "text/plain": [
       "<Figure size 1152x720 with 0 Axes>"
      ]
     },
     "metadata": {},
     "output_type": "display_data"
    }
   ],
   "source": [
    "%config InlineBackend.print_figure_kwargs={'facecolor' : \"w\"}\n",
    "import matplotlib.pyplot as plt\n",
    "from matplotlib.ticker import (AutoMinorLocator, MultipleLocator)\n",
    "fig, ax = plt.subplots(figsize=(10, 5))\n",
    "fig.suptitle('Depolarisation error BB84 Protocol Using H Basis with variable I Gate as Quantum Channel',fontsize=14)\n",
    "# naming the x axis\n",
    "plt.xlabel('Varying Error Probability ',fontsize=14)\n",
    "# naming the y axis\n",
    "plt.ylabel('Probabilities',fontsize=14)\n",
    "# giving a title to my graph\n",
    "# Set axis ranges; by default this will put major ticks every 25.\n",
    "#ax.set_xlim(0, 300)\n",
    "#ax.set_ylim(0, 1)\n",
    "ax.set_xlim(10, 500)\n",
    "ax.set_ylim(0,1)\n",
    "fig = plt.figure(figsize=(16,10))\n",
    "# line 2 points\n",
    "y1=[0.96345,0.96315,0.9638,0.95965,0.96535,0.9611,0.96215,0.96455,0.9629,0.96415,0.96235,0.9652,0.964,0.96195,0.96615,0.9633,0.96465,0.9631,0.96265,0.9631,0.9597,0.96435,0.96135,0.9639,0.96595,0.9639,0.9636,0.9643,0.9626,0.9639,0.96415,0.9626,0.9603,0.96215,0.9621,0.96345,0.96415,0.9636,0.96415,0.96335,0.96355,0.96105,0.96325,0.964,0.9612,0.9621,0.963,0.96145,0.96295,0.96435]\n",
    "x1 = [10, 20, 30, 40, 50, 60, 70, 80, 90, 100, 110, 120, 130, 140, 150, 160, 170, 180, 190, 200, 210, 220, 230, 240, 250, 260, 270, 280, 290, 300, 310, 320, 330, 340, 350, 360, 370, 380, 390, 400, 410, 420, 430, 440, 450, 460, 470, 480, 490, 500]\n",
    "\n",
    "# plotting the line 2 points\n",
    "ax.plot(x1, y1, label = \"|1>'s Probability\")\n",
    "#ax.axes.xaxis.set_ticks([])\n",
    "# show a legend on the plot\n",
    "ax.legend()"
   ]
  },
  {
   "cell_type": "code",
   "execution_count": 24,
   "id": "8d093a04-3372-45c9-bd28-479fb1d373f3",
   "metadata": {},
   "outputs": [
    {
     "name": "stdout",
     "output_type": "stream",
     "text": [
      "963.45 963.15 963.8 959.65 965.35 961.1 962.15 964.55 962.9 964.15 962.35 965.2 964 961.95 966.15 963.3 964.65 963.1 962.65 963.1 959.7 964.35 961.35 963.9 965.95 963.9 963.6 964.3 962.6 963.9 964.15 962.6 960.3 962.15 962.1 963.45 964.15 963.6 964.15 963.35 963.55 961.05 963.25 964 961.2 962.1 963 961.45 962.95 964.35\n"
     ]
    }
   ],
   "source": [
    "from statistics import mean\n",
    "a=[[966, 961, 959, 957, 961, 957, 965, 962, 970, 958, 969, 975, 964, 959, 967, 955, 971, 967, 960, 965, 958, 960, 954, 954, 962, 969, 973, 967, 963, 964, 966, 973, 970, 961, 960, 967, 962, 956, 967, 963, 962, 971, 969, 962, 961, 970, 960, 956, 956, 968],\n",
    "[964, 964, 964, 961, 963, 954, 953, 958, 963, 952, 963, 959, 960, 956, 958, 967, 966, 965, 960, 959, 952, 955, 953, 968, 964, 962, 963, 964, 968, 964, 962, 954, 965, 967, 968, 958, 958, 957, 959, 965, 968, 966, 960, 968, 961, 961, 960, 962, 959, 960],\n",
    "[961, 965, 970, 951, 971, 964, 957, 957, 970, 971, 968, 963, 957, 959, 968, 967, 971, 973, 967, 964, 950, 964, 963, 962, 960, 969, 971, 961, 953, 964, 961, 958, 971, 963, 963, 957, 969, 965, 978, 955, 960, 970, 982, 969, 960, 962, 963, 957, 958, 968],\n",
    "[955, 964, 967, 943, 966, 958, 961, 959, 964, 971, 966, 956, 971, 970, 965, 962, 958, 974, 960, 952, 967, 976, 962, 967, 971, 963, 952, 968, 970, 961, 961, 962, 961, 968, 971, 968, 967, 965, 957, 963, 959, 953, 966, 970, 964, 951, 965, 972, 966, 968],\n",
    "[969, 972, 955, 960, 967, 955, 964, 971, 958, 957, 960, 965, 960, 966, 959, 962, 965, 955, 956, 964, 953, 959, 962, 968, 957, 965, 976, 962, 959, 957, 964, 953, 955, 969, 963, 957, 964, 964, 973, 964, 968, 970, 960, 957, 964, 966, 956, 963, 973, 961],\n",
    "[963, 955, 969, 961, 972, 973, 959, 969, 964, 962, 966, 974, 961, 966, 965, 954, 966, 964, 957, 968, 960, 974, 965, 970, 968, 966, 970, 969, 968, 965, 961, 958, 962, 956, 960, 967, 972, 972, 958, 961, 965, 951, 965, 960, 957, 963, 972, 960, 956, 964],\n",
    "[970, 958, 966, 962, 961, 959, 977, 963, 965, 964, 966, 965, 962, 964, 972, 966, 968, 965, 961, 958, 962, 959, 961, 960, 969, 963, 967, 965, 962, 963, 964, 967, 965, 967, 959, 960, 962, 964, 962, 966, 962, 963, 967, 962, 967, 964, 963, 963, 971, 963],\n",
    "[948, 964, 962, 966, 962, 959, 956, 959, 966, 957, 955, 965, 957, 960, 967, 967, 952, 968, 977, 960, 962, 968, 959, 965, 962, 970, 964, 964, 960, 968, 959, 968, 949, 964, 951, 963, 968, 964, 970, 961, 961, 956, 971, 958, 967, 959, 961, 974, 949, 974],\n",
    "[964, 959, 962, 957, 972, 966, 971, 966, 962, 958, 962, 968, 968, 968, 956, 972, 953, 960, 972, 952, 972, 966, 968, 951, 980, 958, 954, 953, 963, 963, 970, 960, 966, 963, 964, 961, 959, 960, 949, 956, 977, 952, 961, 963, 954, 956, 967, 968, 965, 960],\n",
    "[969, 955, 960, 963, 964, 962, 967, 964, 960, 974, 965, 956, 974, 959, 968, 960, 970, 949, 959, 967, 960, 967, 958, 978, 976, 955, 963, 960, 959, 965, 960, 953, 960, 960, 961, 963, 961, 961, 969, 960, 960, 958, 962, 964, 960, 965, 963, 959, 969, 958],\n",
    "[964, 964, 962, 956, 962, 962, 965, 964, 952, 967, 967, 959, 962, 957, 968, 962, 961, 959, 957, 968, 955, 969, 957, 961, 964, 968, 962, 965, 960, 963, 974, 963, 955, 960, 961, 960, 964, 964, 954, 968, 961, 958, 955, 967, 969, 963, 966, 964, 958, 971],\n",
    "[964, 971, 961, 973, 970, 958, 957, 965, 965, 958, 960, 969, 962, 970, 971, 962, 973, 964, 956, 968, 957, 952, 960, 962, 956, 967, 949, 957, 965, 962, 956, 962, 959, 969, 964, 973, 962, 966, 966, 958, 962, 952, 967, 971, 958, 962, 960, 953, 957, 974],\n",
    "[966, 966, 959, 962, 967, 959, 963, 963, 953, 968, 954, 968, 959, 964, 960, 955, 970, 958, 962, 956, 957, 974, 963, 958, 962, 967, 969, 964, 959, 964, 968, 965, 962, 963, 967, 966, 958, 964, 956, 966, 972, 964, 954, 960, 965, 963, 972, 961, 970, 955],\n",
    "[966, 965, 963, 959, 969, 962, 949, 969, 969, 961, 962, 968, 972, 964, 963, 968, 952, 963, 970, 960, 969, 973, 955, 972, 970, 958, 957, 959, 960, 964, 969, 974, 961, 969, 973, 976, 967, 972, 965, 966, 964, 963, 963, 961, 973, 963, 964, 962, 967, 969],\n",
    "[965, 965, 961, 963, 976, 972, 973, 973, 963, 962, 964, 968, 964, 962, 975, 953, 966, 960, 962, 960, 967, 965, 965, 961, 965, 962, 967, 974, 967, 972, 956, 956, 965, 955, 953, 958, 970, 963, 962, 967, 969, 966, 962, 952, 962, 960, 954, 962, 967, 958],\n",
    "[977, 960, 976, 957, 962, 960, 955, 962, 963, 972, 965, 960, 970, 955, 975, 960, 965, 960, 952, 967, 964, 973, 959, 963, 974, 965, 979, 966, 969, 966, 956, 962, 955, 952, 963, 960, 964, 971, 964, 960, 957, 954, 964, 960, 959, 959, 962, 958, 962, 963],\n",
    "[954, 969, 965, 962, 953, 960, 965, 970, 973, 970, 953, 956, 970, 963, 964, 973, 966, 966, 969, 965, 958, 950, 968, 952, 967, 962, 965, 973, 956, 965, 971, 969, 959, 954, 960, 975, 964, 964, 964, 959, 973, 968, 958, 974, 964, 962, 950, 972, 968, 968],\n",
    "[959, 960, 964, 960, 958, 959, 964, 970, 954, 969, 967, 972, 965, 957, 968, 963, 967, 966, 966, 971, 957, 959, 969, 969, 963, 964, 957, 964, 965, 963, 971, 963, 951, 961, 962, 958, 959, 961, 973, 974, 954, 965, 960, 963, 951, 963, 966, 951, 965, 960],\n",
    "[959, 960, 964, 960, 958, 959, 964, 970, 954, 969, 967, 972, 965, 957, 968, 963, 967, 966, 966, 971, 957, 959, 969, 969, 963, 964, 957, 964, 965, 963, 971, 963, 951, 961, 962, 958, 959, 961, 973, 974, 954, 965, 960, 963, 951, 963, 966, 951, 965, 960],\n",
    "[966, 966, 967, 960, 973, 964, 958, 957, 970, 963, 948, 966, 957, 963, 966, 975, 966, 960, 964, 967, 957, 965, 957, 968, 966, 961, 957, 967, 961, 962, 963, 969, 964, 961, 957, 964, 974, 958, 964, 961, 963, 956, 959, 976, 957, 967, 970, 961, 958, 965]]\n",
    "\n",
    "print(*map(mean, zip(*a)))"
   ]
  },
  {
   "cell_type": "code",
   "execution_count": null,
   "id": "bb17ea12-1e56-46f4-8aeb-476da9b0e689",
   "metadata": {},
   "outputs": [],
   "source": []
  },
  {
   "cell_type": "markdown",
   "id": "f68f4089-7934-4159-8457-a5f500afed93",
   "metadata": {},
   "source": [
    "## Sir's Code"
   ]
  },
  {
   "cell_type": "code",
   "execution_count": 31,
   "id": "f31f8b99-b8de-42fe-bb05-376a272a182e",
   "metadata": {},
   "outputs": [
    {
     "name": "stdout",
     "output_type": "stream",
     "text": [
      "        ┌───┐ ░ ┌───┐ ░ ┌───┐ ░ ┌───┐ ░ ┌───┐ ░ ┌───┐ ░ ┌───┐ ░ ┌───┐ ░ ┌───┐»\n",
      "   q_0: ┤ X ├─░─┤ H ├─░─┤ I ├─░─┤ I ├─░─┤ I ├─░─┤ I ├─░─┤ I ├─░─┤ I ├─░─┤ I ├»\n",
      "        └───┘ ░ └───┘ ░ └───┘ ░ └───┘ ░ └───┘ ░ └───┘ ░ └───┘ ░ └───┘ ░ └───┘»\n",
      "meas: 1/═════════════════════════════════════════════════════════════════════»\n",
      "                                                                             »\n",
      "«         ░ ┌───┐ ░ ┌───┐ ░ ┌───┐ ░ ┌───┐ ░ ┌─┐\n",
      "«   q_0: ─░─┤ I ├─░─┤ I ├─░─┤ I ├─░─┤ H ├─░─┤M├\n",
      "«         ░ └───┘ ░ └───┘ ░ └───┘ ░ └───┘ ░ └╥┘\n",
      "«meas: 1/════════════════════════════════════╩═\n",
      "«                                            0 \n"
     ]
    },
    {
     "data": {
      "image/png": "[encoded data removed]",
      "text/plain": [
       "<Figure size 504x360 with 1 Axes>"
      ]
     },
     "execution_count": 31,
     "metadata": {},
     "output_type": "execute_result"
    }
   ],
   "source": [
    "qc = QuantumCircuit(1)\n",
    "qc.x(0)\n",
    "qc.barrier()\n",
    "qc.h(0)\n",
    "qc.barrier()\n",
    "for i in range(10):\n",
    "    qc.i(0)\n",
    "    qc.barrier()\n",
    "qc.h(0)\n",
    "qc.measure_all()\n",
    "print(qc)\n",
    "\n",
    "counts = execute(qc,Aer.get_backend('qasm_simulator'),noise_model=get_noise_dep(0.036,0.00036),shots=2048).result().get_counts()\n",
    "plot_histogram(counts)"
   ]
  },
  {
   "cell_type": "code",
   "execution_count": 32,
   "id": "212f2870-f391-41fd-ab4a-291cd3e4a596",
   "metadata": {},
   "outputs": [
    {
     "data": {
      "image/png": "[encoded data removed]",
      "text/plain": [
       "<Figure size 504x360 with 1 Axes>"
      ]
     },
     "execution_count": 32,
     "metadata": {},
     "output_type": "execute_result"
    }
   ],
   "source": [
    "qc = QuantumCircuit(1)\n",
    "qc.x(0)\n",
    "qc.barrier()\n",
    "qc.h(0)\n",
    "qc.barrier()\n",
    "for i in range(10000):\n",
    "    qc.i(0)\n",
    "    qc.barrier()\n",
    "qc.h(0)\n",
    "qc.measure_all()\n",
    "#print(qc)\n",
    "\n",
    "counts = execute(qc,Aer.get_backend('qasm_simulator'),noise_model=get_noise_dep(0.036,0.00036),shots=2048).result().get_counts()\n",
    "plot_histogram(counts)"
   ]
  },
  {
   "cell_type": "code",
   "execution_count": 33,
   "id": "107dc189-0bf4-4992-a24e-26fdce4a0e4f",
   "metadata": {},
   "outputs": [
    {
     "data": {
      "image/png": "[encoded data removed]",
      "text/plain": [
       "<Figure size 504x360 with 1 Axes>"
      ]
     },
     "execution_count": 33,
     "metadata": {},
     "output_type": "execute_result"
    }
   ],
   "source": [
    "qc = QuantumCircuit(1)\n",
    "qc.x(0)\n",
    "qc.barrier()\n",
    "qc.h(0)\n",
    "qc.barrier()\n",
    "for i in range(500):\n",
    "    qc.i(0)\n",
    "    qc.barrier()\n",
    "qc.h(0)\n",
    "qc.measure_all()\n",
    "#print(qc)\n",
    "\n",
    "counts = execute(qc,Aer.get_backend('qasm_simulator'),noise_model=get_noise_dep(0.036,0.00036),shots=2048).result().get_counts()\n",
    "plot_histogram(counts)"
   ]
  },
  {
   "cell_type": "code",
   "execution_count": 34,
   "id": "3d17754e-e7d7-4c7a-a939-dbe6f19b0ee9",
   "metadata": {},
   "outputs": [
    {
     "data": {
      "image/png": "[encoded data removed]",
      "text/plain": [
       "<Figure size 504x360 with 1 Axes>"
      ]
     },
     "execution_count": 34,
     "metadata": {},
     "output_type": "execute_result"
    }
   ],
   "source": [
    "qc = QuantumCircuit(1)\n",
    "qc.x(0)\n",
    "qc.barrier()\n",
    "qc.h(0)\n",
    "qc.barrier()\n",
    "for i in range(500):\n",
    "    qc.i(0)\n",
    "    qc.barrier()\n",
    "qc.h(0)\n",
    "qc.measure_all()\n",
    "#print(qc)\n",
    "\n",
    "counts = execute(qc,Aer.get_backend('qasm_simulator'),noise_model=get_noise_dep(0.036,0.00036),shots=1000).result().get_counts()\n",
    "plot_histogram(counts)"
   ]
  },
  {
   "cell_type": "code",
   "execution_count": null,
   "id": "31310bd2-a08c-4275-bb2b-14b807c74570",
   "metadata": {},
   "outputs": [],
   "source": []
  }
 ],
 "metadata": {
  "kernelspec": {
   "display_name": "Qiskit v0.31.0 (ipykernel)",
   "language": "python",
   "name": "python3"
  },
  "language_info": {
   "codemirror_mode": {
    "name": "ipython",
    "version": 3
   },
   "file_extension": ".py",
   "mimetype": "text/x-python",
   "name": "python",
   "nbconvert_exporter": "python",
   "pygments_lexer": "ipython3",
   "version": "3.8.10"
  },
  "widgets": {
   "application/vnd.jupyter.widget-state+json": {
    "state": {},
    "version_major": 2,
    "version_minor": 0
   }
  }
 },
 "nbformat": 4,
 "nbformat_minor": 5
}
