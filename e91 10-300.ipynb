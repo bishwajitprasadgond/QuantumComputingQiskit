{
 "cells": [
  {
   "cell_type": "code",
   "execution_count": 1,
   "id": "47e1da43-bdb0-4a2d-a48f-d9ec28d66baf",
   "metadata": {},
   "outputs": [],
   "source": [
    "import numpy as np\n",
    "\n",
    "# Importing standard Qiskit libraries\n",
    "from qiskit import QuantumCircuit, transpile, Aer, IBMQ\n",
    "from qiskit.tools.jupyter import *\n",
    "from qiskit.visualization import *\n",
    "from ibm_quantum_widgets import *\n",
    "from qiskit.providers.aer import QasmSimulator\n",
    "\n",
    "# Loading your IBM Quantum account(s)\n",
    "provider = IBMQ.load_account()"
   ]
  },
  {
   "cell_type": "code",
   "execution_count": null,
   "id": "3b104f77-c96e-4d92-8684-82c4e240f169",
   "metadata": {},
   "outputs": [],
   "source": [
    "from qiskit.tools.monitor import backend_monitor\n",
    "from qiskit import *\n",
    "from qiskit.visualization import plot_histogram\n",
    "from random import randrange, seed, sample\n",
    "from sys import argv, exit\n",
    "import random\n",
    "\n",
    "data = 30\n",
    "##########################################################################\n",
    "print(\"0 for 00\")\n",
    "h=0\n",
    "def bit_stream(p):\n",
    "    key1 = \"\"\n",
    "    for i in range(p):\n",
    "        temp = str(random.randint(h,h))\n",
    "        key1 += temp\n",
    "    return(key1)\n",
    "\n",
    "bitstream= bit_stream(data)\n",
    "digits = [int(x) for x in str(bitstream)]\n",
    "##########################################################################\n",
    "#print('List of Bit Stream to transfer over Quantum Channel')\n",
    "#print(digits)\n",
    "print('\\n')\n",
    "n = len(digits)\n",
    "##########################################################################\n",
    "\n",
    "bob_bits=[]\n",
    "from random import choice\n",
    "m=0\n",
    "for i in range(n):\n",
    "    m=m+10\n",
    "    print(\"No of identity Gate:\",m)\n",
    "    if digits[i] == 1:\n",
    "        q = QuantumRegister(2, 'q')\n",
    "        c = ClassicalRegister(2, 'c')\n",
    "        qc = QuantumCircuit(q, c)\n",
    "        \n",
    "        qc.h(0) \n",
    "        qc.barrier()\n",
    "        qc.cx(q[0], q[1])\n",
    "        qc.barrier()\n",
    "        for j in range(m):\n",
    "            qc.id(1)\n",
    "            qc.barrier()\n",
    "        qc.x(0) \n",
    "        #qc.barrier()\n",
    "        qc.x(1) \n",
    "        qc.barrier()\n",
    "        qc.measure(q[0], c[0])\n",
    "        qc.measure(q[1], c[1])\n",
    "        from qiskit.tools.monitor import backend_monitor\n",
    "        IBMQ.load_account()\n",
    "        provider = IBMQ.get_provider(hub='ibm-q')\n",
    "        device = provider.get_backend('ibmq_lima')\n",
    "        #device = Aer.get_backend('qasm_simulator')          # Enable for simulator\n",
    "        job = execute(qc, backend=device, shots=1000)\n",
    "        print(job.job_id())\n",
    "        from qiskit.tools.monitor import job_monitor\n",
    "        job_monitor(job)\n",
    "        device_result = job.result()\n",
    "        plot_histogram(device_result.get_counts(qc))\n",
    "        bits = (device_result.get_counts(qc))\n",
    "        print(bits)\n",
    "        print(bits.get('00'))\n",
    "            print('\\n')"
   ]
  }
 ],
 "metadata": {
  "kernelspec": {
   "display_name": "Qiskit v0.29.0",
   "language": "python",
   "name": "python3"
  },
  "language_info": {
   "codemirror_mode": {
    "name": "ipython",
    "version": 3
   },
   "file_extension": ".py",
   "mimetype": "text/x-python",
   "name": "python",
   "nbconvert_exporter": "python",
   "pygments_lexer": "ipython3",
   "version": "3.8.10"
  },
  "widgets": {
   "application/vnd.jupyter.widget-state+json": {
    "state": {
     "1c7b63ef6d674a44a3387e7410c86524": {
      "model_module": "@jupyter-widgets/controls",
      "model_module_version": "1.5.0",
      "model_name": "GridBoxModel",
      "state": {
       "children": [
        "IPY_MODEL_74d6c366f3984bd5965a40bac07c82ce"
       ],
       "layout": "IPY_MODEL_e61d1bd5332440d7b746733ab8e288ab"
      }
     },
     "278248b8f7664addb3f8ef3389206629": {
      "model_module": "@jupyter-widgets/base",
      "model_module_version": "1.2.0",
      "model_name": "LayoutModel",
      "state": {
       "width": "70px"
      }
     },
     "419728d0dbbd4e6e801f626fda0987c8": {
      "model_module": "@jupyter-widgets/base",
      "model_module_version": "1.2.0",
      "model_name": "LayoutModel",
      "state": {}
     },
     "463f8e3c92b242918e8d55bc61175e95": {
      "model_module": "@jupyter-widgets/base",
      "model_module_version": "1.2.0",
      "model_name": "LayoutModel",
      "state": {
       "width": "95px"
      }
     },
     "46af98b1cfdd41a59307b277d144d803": {
      "model_module": "@jupyter-widgets/controls",
      "model_module_version": "1.5.0",
      "model_name": "HTMLModel",
      "state": {
       "layout": "IPY_MODEL_b54ecd3400744825b704532b3bae817d",
       "style": "IPY_MODEL_d8aa6efb720349f087b20572356e877b",
       "value": "<p style='font-family: IBM Plex Sans, Arial, Helvetica, sans-serif; font-size: 20px; font-weight: medium;'>Circuit Properties</p>"
      }
     },
     "4bda43dd3263497fab26fb9baf75914a": {
      "model_module": "@jupyter-widgets/controls",
      "model_module_version": "1.5.0",
      "model_name": "HTMLModel",
      "state": {
       "layout": "IPY_MODEL_e3a371a99c9e43088aa837d44c679286",
       "style": "IPY_MODEL_61d137054966449fbbef9f6c47e3df69",
       "value": "<h5>Job ID</h5>"
      }
     },
     "50201e47e44044d685ef41d202b7096e": {
      "model_module": "@jupyter-widgets/controls",
      "model_module_version": "1.5.0",
      "model_name": "HTMLModel",
      "state": {
       "layout": "IPY_MODEL_7374461db38c4083b9a05405625f3e10",
       "style": "IPY_MODEL_8a9183c1a1b5474aba12e4ec5cf92463",
       "value": "<h5>Backend</h5>"
      }
     },
     "550456ba18a74df78df545c904cdd7b6": {
      "model_module": "@jupyter-widgets/controls",
      "model_module_version": "1.5.0",
      "model_name": "HTMLModel",
      "state": {
       "layout": "IPY_MODEL_463f8e3c92b242918e8d55bc61175e95",
       "style": "IPY_MODEL_646f272a6c49481eaab4f52cae4cd9ac",
       "value": "<h5>Status</h5>"
      }
     },
     "61d137054966449fbbef9f6c47e3df69": {
      "model_module": "@jupyter-widgets/controls",
      "model_module_version": "1.5.0",
      "model_name": "DescriptionStyleModel",
      "state": {
       "description_width": ""
      }
     },
     "646f272a6c49481eaab4f52cae4cd9ac": {
      "model_module": "@jupyter-widgets/controls",
      "model_module_version": "1.5.0",
      "model_name": "DescriptionStyleModel",
      "state": {
       "description_width": ""
      }
     },
     "7374461db38c4083b9a05405625f3e10": {
      "model_module": "@jupyter-widgets/base",
      "model_module_version": "1.2.0",
      "model_name": "LayoutModel",
      "state": {
       "width": "145px"
      }
     },
     "74d6c366f3984bd5965a40bac07c82ce": {
      "model_module": "@jupyter-widgets/controls",
      "model_module_version": "1.5.0",
      "model_name": "ButtonModel",
      "state": {
       "button_style": "primary",
       "description": "Clear",
       "layout": "IPY_MODEL_a0dc2c6856bd4fbb9d88e2c067b98983",
       "style": "IPY_MODEL_cc63526780de4a6f932dab3af89a4a64"
      }
     },
     "759ba1b253fe41f788905655de12aa1c": {
      "model_module": "@jupyter-widgets/controls",
      "model_module_version": "1.5.0",
      "model_name": "DescriptionStyleModel",
      "state": {
       "description_width": ""
      }
     },
     "799b11fdf31e48a0afec1cdcad02c7a6": {
      "model_module": "@jupyter-widgets/base",
      "model_module_version": "1.2.0",
      "model_name": "LayoutModel",
      "state": {
       "margin": "0px 0px 0px 37px",
       "width": "600px"
      }
     },
     "8a9183c1a1b5474aba12e4ec5cf92463": {
      "model_module": "@jupyter-widgets/controls",
      "model_module_version": "1.5.0",
      "model_name": "DescriptionStyleModel",
      "state": {
       "description_width": ""
      }
     },
     "a0dc2c6856bd4fbb9d88e2c067b98983": {
      "model_module": "@jupyter-widgets/base",
      "model_module_version": "1.2.0",
      "model_name": "LayoutModel",
      "state": {
       "grid_area": "right",
       "padding": "0px 0px 0px 0px",
       "width": "70px"
      }
     },
     "b54ecd3400744825b704532b3bae817d": {
      "model_module": "@jupyter-widgets/base",
      "model_module_version": "1.2.0",
      "model_name": "LayoutModel",
      "state": {
       "margin": "0px 0px 10px 0px"
      }
     },
     "c3c467d9c439406e833c7595d9cfec94": {
      "model_module": "@jupyter-widgets/controls",
      "model_module_version": "1.5.0",
      "model_name": "HTMLModel",
      "state": {
       "layout": "IPY_MODEL_419728d0dbbd4e6e801f626fda0987c8",
       "style": "IPY_MODEL_759ba1b253fe41f788905655de12aa1c",
       "value": "<h5>Message</h5>"
      }
     },
     "cc63526780de4a6f932dab3af89a4a64": {
      "model_module": "@jupyter-widgets/controls",
      "model_module_version": "1.5.0",
      "model_name": "ButtonStyleModel",
      "state": {}
     },
     "d8aa6efb720349f087b20572356e877b": {
      "model_module": "@jupyter-widgets/controls",
      "model_module_version": "1.5.0",
      "model_name": "DescriptionStyleModel",
      "state": {
       "description_width": ""
      }
     },
     "e3a371a99c9e43088aa837d44c679286": {
      "model_module": "@jupyter-widgets/base",
      "model_module_version": "1.2.0",
      "model_name": "LayoutModel",
      "state": {
       "width": "190px"
      }
     },
     "e61d1bd5332440d7b746733ab8e288ab": {
      "model_module": "@jupyter-widgets/base",
      "model_module_version": "1.2.0",
      "model_name": "LayoutModel",
      "state": {
       "grid_template_areas": "\n                                       \". . . . right \"\n                                        ",
       "grid_template_columns": "20% 20% 20% 20% 20%",
       "width": "100%"
      }
     },
     "ec0b975985684ccf906d3bdb328cea90": {
      "model_module": "@jupyter-widgets/controls",
      "model_module_version": "1.5.0",
      "model_name": "HBoxModel",
      "state": {
       "children": [
        "IPY_MODEL_4bda43dd3263497fab26fb9baf75914a",
        "IPY_MODEL_50201e47e44044d685ef41d202b7096e",
        "IPY_MODEL_550456ba18a74df78df545c904cdd7b6",
        "IPY_MODEL_f2d33536b61a487fb39a44368eef3fff",
        "IPY_MODEL_c3c467d9c439406e833c7595d9cfec94"
       ],
       "layout": "IPY_MODEL_799b11fdf31e48a0afec1cdcad02c7a6"
      }
     },
     "f2d33536b61a487fb39a44368eef3fff": {
      "model_module": "@jupyter-widgets/controls",
      "model_module_version": "1.5.0",
      "model_name": "HTMLModel",
      "state": {
       "layout": "IPY_MODEL_278248b8f7664addb3f8ef3389206629",
       "style": "IPY_MODEL_fbf6cbfe24d94e9cb8e1d551923a334d",
       "value": "<h5>Queue</h5>"
      }
     },
     "fbf6cbfe24d94e9cb8e1d551923a334d": {
      "model_module": "@jupyter-widgets/controls",
      "model_module_version": "1.5.0",
      "model_name": "DescriptionStyleModel",
      "state": {
       "description_width": ""
      }
     }
    },
    "version_major": 2,
    "version_minor": 0
   }
  }
 },
 "nbformat": 4,
 "nbformat_minor": 5
}
