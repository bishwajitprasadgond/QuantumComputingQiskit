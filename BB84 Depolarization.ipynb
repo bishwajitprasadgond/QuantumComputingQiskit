{
 "cells": [
  {
   "cell_type": "code",
   "execution_count": 1,
   "id": "eb9f780d-a83c-47c1-97da-dfd17eec2a6e",
   "metadata": {},
   "outputs": [],
   "source": [
    "import numpy as np\n",
    "\n",
    "# Importing standard Qiskit libraries\n",
    "from qiskit import QuantumCircuit, transpile, Aer, IBMQ\n",
    "from qiskit.tools.jupyter import *\n",
    "from qiskit.visualization import *\n",
    "from ibm_quantum_widgets import *\n",
    "from qiskit.providers.aer import QasmSimulator\n",
    "\n",
    "# Loading your IBM Quantum account(s)\n",
    "provider = IBMQ.load_account()"
   ]
  },
  {
   "cell_type": "code",
   "execution_count": 6,
   "id": "a0e7aec5-b5e8-42a8-9173-908fec5377c1",
   "metadata": {},
   "outputs": [
    {
     "name": "stdout",
     "output_type": "stream",
     "text": [
      "[0.001, 0.002, 0.003, 0.004, 0.005, 0.006, 0.007, 0.008, 0.009000000000000001, 0.010000000000000002]\n",
      "0.001\n",
      "NoiseModel:\n",
      "  Basis gates: ['cx', 'id', 'rz', 'sx', 'u1', 'u2', 'u3']\n",
      "  Instructions with noise: ['u2', 'u3', 'u1', 'cx']\n",
      "  All-qubits errors: ['u1', 'u2', 'u3', 'cx']\n",
      "|00>\n",
      "\n",
      "\n",
      "{'0': 1000}\n",
      "0.002\n",
      "NoiseModel:\n",
      "  Basis gates: ['cx', 'id', 'rz', 'sx', 'u1', 'u2', 'u3']\n",
      "  Instructions with noise: ['u2', 'u3', 'u1', 'cx']\n",
      "  All-qubits errors: ['u1', 'u2', 'u3', 'cx']\n",
      "|00>\n",
      "\n",
      "\n",
      "{'0': 1000}\n",
      "0.003\n",
      "NoiseModel:\n",
      "  Basis gates: ['cx', 'id', 'rz', 'sx', 'u1', 'u2', 'u3']\n",
      "  Instructions with noise: ['u2', 'u3', 'u1', 'cx']\n",
      "  All-qubits errors: ['u1', 'u2', 'u3', 'cx']\n",
      "|00>\n",
      "\n",
      "\n",
      "{'1': 1, '0': 999}\n",
      "0.004\n",
      "NoiseModel:\n",
      "  Basis gates: ['cx', 'id', 'rz', 'sx', 'u1', 'u2', 'u3']\n",
      "  Instructions with noise: ['u2', 'u3', 'u1', 'cx']\n",
      "  All-qubits errors: ['u1', 'u2', 'u3', 'cx']\n",
      "|00>\n",
      "\n",
      "\n",
      "{'1': 5, '0': 995}\n",
      "0.005\n",
      "NoiseModel:\n",
      "  Basis gates: ['cx', 'id', 'rz', 'sx', 'u1', 'u2', 'u3']\n",
      "  Instructions with noise: ['u2', 'u3', 'u1', 'cx']\n",
      "  All-qubits errors: ['u1', 'u2', 'u3', 'cx']\n",
      "|00>\n",
      "\n",
      "\n",
      "{'1': 8, '0': 992}\n",
      "0.006\n",
      "NoiseModel:\n",
      "  Basis gates: ['cx', 'id', 'rz', 'sx', 'u1', 'u2', 'u3']\n",
      "  Instructions with noise: ['u2', 'u3', 'u1', 'cx']\n",
      "  All-qubits errors: ['u1', 'u2', 'u3', 'cx']\n",
      "|00>\n",
      "\n",
      "\n",
      "{'1': 4, '0': 996}\n",
      "0.007\n",
      "NoiseModel:\n",
      "  Basis gates: ['cx', 'id', 'rz', 'sx', 'u1', 'u2', 'u3']\n",
      "  Instructions with noise: ['u2', 'u3', 'u1', 'cx']\n",
      "  All-qubits errors: ['u1', 'u2', 'u3', 'cx']\n",
      "|00>\n",
      "\n",
      "\n",
      "{'1': 5, '0': 995}\n",
      "0.008\n",
      "NoiseModel:\n",
      "  Basis gates: ['cx', 'id', 'rz', 'sx', 'u1', 'u2', 'u3']\n",
      "  Instructions with noise: ['u2', 'u3', 'u1', 'cx']\n",
      "  All-qubits errors: ['u1', 'u2', 'u3', 'cx']\n",
      "|00>\n",
      "\n",
      "\n",
      "{'1': 7, '0': 993}\n",
      "0.009000000000000001\n",
      "NoiseModel:\n",
      "  Basis gates: ['cx', 'id', 'rz', 'sx', 'u1', 'u2', 'u3']\n",
      "  Instructions with noise: ['u2', 'u3', 'u1', 'cx']\n",
      "  All-qubits errors: ['u1', 'u2', 'u3', 'cx']\n",
      "|00>\n",
      "\n",
      "\n",
      "{'1': 6, '0': 994}\n",
      "0.010000000000000002\n",
      "NoiseModel:\n",
      "  Basis gates: ['cx', 'id', 'rz', 'sx', 'u1', 'u2', 'u3']\n",
      "  Instructions with noise: ['u2', 'u3', 'u1', 'cx']\n",
      "  All-qubits errors: ['u1', 'u2', 'u3', 'cx']\n",
      "|00>\n",
      "\n",
      "\n",
      "{'1': 12, '0': 988}\n"
     ]
    }
   ],
   "source": [
    "from qiskit import QuantumCircuit, execute, Aer\n",
    "from qiskit.visualization import plot_histogram\n",
    "import qiskit.providers.aer.noise as noise\n",
    "# Error probabilities\n",
    "res = []\n",
    "r1=0.001\n",
    "r2=0.01\n",
    "while(r1 < r2+0.001 ):\n",
    "    res.append(r1)\n",
    "    r1 += 0.001\n",
    "print(res)\n",
    "\n",
    "for i in range(len(res)):\n",
    "    prob_1 = prob_2 = float(res[i])\n",
    "    print(prob_1)\n",
    "    # Depolarizing quantum errors\n",
    "    error_1 = noise.depolarizing_error(prob_1, 1)\n",
    "    error_2 = noise.depolarizing_error(prob_2, 2)\n",
    "    # Add errors to noise model\n",
    "    noise_model = noise.NoiseModel()\n",
    "    noise_model.add_all_qubit_quantum_error(error_1, ['u1', 'u2', 'u3'])\n",
    "    noise_model.add_all_qubit_quantum_error(error_2, ['cx'])\n",
    "    print(noise_model)\n",
    "    # Get basis gates from noise model\n",
    "    basis_gates = noise_model.basis_gates\n",
    "    \n",
    "    from qiskit.tools.monitor import backend_monitor\n",
    "    from qiskit import *\n",
    "    from qiskit.visualization import plot_histogram\n",
    "    from random import randrange, seed, sample\n",
    "    from sys import argv, exit\n",
    "    import random\n",
    "    #data = int(input('ENTER LENGTH OF BIT STREAM (example 5 For 10110):'))\n",
    "    data=1\n",
    "    ##########################################################################\n",
    "    print('|00>')\n",
    "    h=0\n",
    "    #h=int(input())\n",
    "    def bit_stream(p):\n",
    "        key1 = \"\"\n",
    "        for i in range(p):\n",
    "            temp = str(random.randint(h,h))\n",
    "            key1 += temp\n",
    "        return(key1)\n",
    "    \n",
    "    bitstream= bit_stream(data)\n",
    "    digits = [int(x) for x in str(bitstream)]\n",
    "    ##########################################################################\n",
    "    #print('List of Bit Stream to transfer over Quantum Channel')\n",
    "    #print(digits)\n",
    "    print('\\n')\n",
    "    #n = len(digits)\n",
    "    n=1\n",
    "    ##########################################################################\n",
    "    bob_bits=[]\n",
    "    from random import choice\n",
    "    #m=0\n",
    "    for i in range(n):\n",
    "        #m=m+10\n",
    "        #print(\"No of identity Gate:\",m)\n",
    "        if digits[i] == 0:\n",
    "            q = QuantumRegister(1, 'q')\n",
    "            c = ClassicalRegister(1, 'c')\n",
    "            qc = QuantumCircuit(q, c)\n",
    "            qc.barrier()\n",
    "            qc.h(0)\n",
    "            qc.barrier()\n",
    "            for j in range(10):\n",
    "                qc.id(0)\n",
    "                qc.barrier()\n",
    "            qc.h(0)\n",
    "            qc.barrier()\n",
    "            qc.measure(q[0], c[0])\n",
    "            #print(qc)\n",
    "            # Perform a noise simulation\n",
    "            result = execute(qc, Aer.get_backend('qasm_simulator'),basis_gates=basis_gates,noise_model=noise_model,shots=1000).result()\n",
    "            counts = result.get_counts(qc)\n",
    "            plot_histogram(counts)\n",
    "            #print(qc)\n",
    "            bits = (result.get_counts(qc))\n",
    "            print(bits)\n",
    "            #print(bits)\n",
    "            #itemMaxValue = max(bits.items(), key=lambda x : x[1])\n",
    "            #print(itemMaxValue)\n",
    "            #print(bits.get('0'))\n",
    "            #print('\\n')\n",
    "            #print(\"==========================================================\")"
   ]
  },
  {
   "cell_type": "code",
   "execution_count": 4,
   "id": "8696a728-1a4e-46fc-b4d5-f09450eb8bf6",
   "metadata": {},
   "outputs": [
    {
     "data": {
      "text/plain": [
       "<matplotlib.legend.Legend at 0x7f88842538e0>"
      ]
     },
     "execution_count": 4,
     "metadata": {},
     "output_type": "execute_result"
    },
    {
     "data": {
      "image/png": "[encoded data removed]",
      "text/plain": [
       "<Figure size 720x360 with 1 Axes>"
      ]
     },
     "metadata": {
      "needs_background": "light"
     },
     "output_type": "display_data"
    },
    {
     "data": {
      "text/plain": [
       "<Figure size 576x360 with 0 Axes>"
      ]
     },
     "metadata": {},
     "output_type": "display_data"
    }
   ],
   "source": [
    "import matplotlib.pyplot as plt\n",
    "from matplotlib.ticker import (AutoMinorLocator, MultipleLocator)\n",
    "fig, ax = plt.subplots(figsize=(10, 5))\n",
    "fig.suptitle('|0> probability Using BB84 Protocol & 10 Identity Gate number as Quantum Channel',fontsize=15)\n",
    "# naming the x axis\n",
    "plt.xlabel('Varying Error Probability ',fontsize=14)\n",
    "# naming the y axis\n",
    "plt.ylabel('Probabilities',fontsize=14)\n",
    "# giving a title to my graph\n",
    "# Set axis ranges; by default this will put major ticks every 25.\n",
    "#ax.set_xlim(0, 300)\n",
    "#ax.set_ylim(0, 1)\n",
    "ax.set_xlim(0.001, 0.01)\n",
    "ax.set_ylim(0.97, 1)\n",
    "fig = plt.figure(figsize=(8,5))\n",
    "# line 2 points\n",
    "y2 = [1.000,0.999,1.000,0.996,0.996,0.999,0.994,0.998,0.995,0.984]\n",
    "x2 = [0.001, 0.002, 0.003, 0.004, 0.005, 0.006, 0.007, 0.008, 0.009, 0.01]\n",
    "# plotting the line 2 points\n",
    "ax.plot(x2, y2, label = \"|0>'s Probability\")\n",
    "#ax.axes.xaxis.set_ticks([])\n",
    "# show a legend on the plot\n",
    "ax.legend()"
   ]
  },
  {
   "cell_type": "code",
   "execution_count": null,
   "id": "437d2297-d549-4b40-bfd1-fc6049114649",
   "metadata": {},
   "outputs": [],
   "source": []
  }
 ],
 "metadata": {
  "kernelspec": {
   "display_name": "Qiskit v0.31.0 (ipykernel)",
   "language": "python",
   "name": "python3"
  },
  "language_info": {
   "codemirror_mode": {
    "name": "ipython",
    "version": 3
   },
   "file_extension": ".py",
   "mimetype": "text/x-python",
   "name": "python",
   "nbconvert_exporter": "python",
   "pygments_lexer": "ipython3",
   "version": "3.8.10"
  },
  "widgets": {
   "application/vnd.jupyter.widget-state+json": {
    "state": {
     "1101592b99694c20837cad41cf7749f5": {
      "model_module": "@jupyter-widgets/controls",
      "model_module_version": "1.5.0",
      "model_name": "HTMLModel",
      "state": {
       "layout": "IPY_MODEL_9e6c42ae15d24c86ab0b25031c30c116",
       "style": "IPY_MODEL_f97822b1f560459b9fe34c6a6714f612",
       "value": "<h5>Job ID</h5>"
      }
     },
     "1ab36ca65b0d4ddea56b85784aee42e3": {
      "model_module": "@jupyter-widgets/controls",
      "model_module_version": "1.5.0",
      "model_name": "DescriptionStyleModel",
      "state": {
       "description_width": ""
      }
     },
     "1ac3a716666644f5a7775338b4f4f352": {
      "model_module": "@jupyter-widgets/controls",
      "model_module_version": "1.5.0",
      "model_name": "HTMLModel",
      "state": {
       "layout": "IPY_MODEL_bd05c742ad0247fa99121d992011ba05",
       "style": "IPY_MODEL_1e708a4f3904415d83390ab1b61726e1",
       "value": "<p style='font-family: IBM Plex Sans, Arial, Helvetica, sans-serif; font-size: 20px; font-weight: medium;'>Circuit Properties</p>"
      }
     },
     "1e708a4f3904415d83390ab1b61726e1": {
      "model_module": "@jupyter-widgets/controls",
      "model_module_version": "1.5.0",
      "model_name": "DescriptionStyleModel",
      "state": {
       "description_width": ""
      }
     },
     "204b7a0b183d454b9d71a9df256023cd": {
      "model_module": "@jupyter-widgets/base",
      "model_module_version": "1.2.0",
      "model_name": "LayoutModel",
      "state": {
       "width": "70px"
      }
     },
     "3650f97b8de84fad914565a5a9acfebd": {
      "model_module": "@jupyter-widgets/base",
      "model_module_version": "1.2.0",
      "model_name": "LayoutModel",
      "state": {
       "width": "145px"
      }
     },
     "46d1c44371f84b1bb9a708dc7bcb580e": {
      "model_module": "@jupyter-widgets/controls",
      "model_module_version": "1.5.0",
      "model_name": "GridBoxModel",
      "state": {
       "children": [
        "IPY_MODEL_8a00778057fa4e1c89e8a53a9f2b9702"
       ],
       "layout": "IPY_MODEL_855a7718fbb64d1cb11ddf6dd3068f95"
      }
     },
     "77988f0ff1734e23b7f99c9f76e4b57f": {
      "model_module": "@jupyter-widgets/controls",
      "model_module_version": "1.5.0",
      "model_name": "DescriptionStyleModel",
      "state": {
       "description_width": ""
      }
     },
     "7f6b07a6c14544e1878df0f77bf5b592": {
      "model_module": "@jupyter-widgets/controls",
      "model_module_version": "1.5.0",
      "model_name": "HTMLModel",
      "state": {
       "layout": "IPY_MODEL_3650f97b8de84fad914565a5a9acfebd",
       "style": "IPY_MODEL_77988f0ff1734e23b7f99c9f76e4b57f",
       "value": "<h5>Backend</h5>"
      }
     },
     "84faf020bcb548b5a8ff51e91b100578": {
      "model_module": "@jupyter-widgets/controls",
      "model_module_version": "1.5.0",
      "model_name": "HTMLModel",
      "state": {
       "layout": "IPY_MODEL_ebb7e55add3149da9606ad190c6461d2",
       "style": "IPY_MODEL_1ab36ca65b0d4ddea56b85784aee42e3",
       "value": "<h5>Status</h5>"
      }
     },
     "855a7718fbb64d1cb11ddf6dd3068f95": {
      "model_module": "@jupyter-widgets/base",
      "model_module_version": "1.2.0",
      "model_name": "LayoutModel",
      "state": {
       "grid_template_areas": "\n                                       \". . . . right \"\n                                        ",
       "grid_template_columns": "20% 20% 20% 20% 20%",
       "width": "100%"
      }
     },
     "8a00778057fa4e1c89e8a53a9f2b9702": {
      "model_module": "@jupyter-widgets/controls",
      "model_module_version": "1.5.0",
      "model_name": "ButtonModel",
      "state": {
       "button_style": "primary",
       "description": "Clear",
       "layout": "IPY_MODEL_ba6d9d5431694432a6661910f606cfbc",
       "style": "IPY_MODEL_d5fadb91a4ad4f50b4ca1999a8396240"
      }
     },
     "970e669e4b85410aa67ad84d5fc4ca3c": {
      "model_module": "@jupyter-widgets/base",
      "model_module_version": "1.2.0",
      "model_name": "LayoutModel",
      "state": {}
     },
     "9e6c42ae15d24c86ab0b25031c30c116": {
      "model_module": "@jupyter-widgets/base",
      "model_module_version": "1.2.0",
      "model_name": "LayoutModel",
      "state": {
       "width": "190px"
      }
     },
     "a59938ed9d2546ec857bc8700b01e733": {
      "model_module": "@jupyter-widgets/controls",
      "model_module_version": "1.5.0",
      "model_name": "DescriptionStyleModel",
      "state": {
       "description_width": ""
      }
     },
     "ae75bcc1ba98419e81c1a1dcff6d9311": {
      "model_module": "@jupyter-widgets/controls",
      "model_module_version": "1.5.0",
      "model_name": "HTMLModel",
      "state": {
       "layout": "IPY_MODEL_204b7a0b183d454b9d71a9df256023cd",
       "style": "IPY_MODEL_e9d3feb636ac4bf58c845ddf0318cbc4",
       "value": "<h5>Queue</h5>"
      }
     },
     "b6b4ae11364649349e28e63fbf8f6745": {
      "model_module": "@jupyter-widgets/controls",
      "model_module_version": "1.5.0",
      "model_name": "HTMLModel",
      "state": {
       "layout": "IPY_MODEL_970e669e4b85410aa67ad84d5fc4ca3c",
       "style": "IPY_MODEL_a59938ed9d2546ec857bc8700b01e733",
       "value": "<h5>Message</h5>"
      }
     },
     "ba6d9d5431694432a6661910f606cfbc": {
      "model_module": "@jupyter-widgets/base",
      "model_module_version": "1.2.0",
      "model_name": "LayoutModel",
      "state": {
       "grid_area": "right",
       "padding": "0px 0px 0px 0px",
       "width": "70px"
      }
     },
     "bd05c742ad0247fa99121d992011ba05": {
      "model_module": "@jupyter-widgets/base",
      "model_module_version": "1.2.0",
      "model_name": "LayoutModel",
      "state": {
       "margin": "0px 0px 10px 0px"
      }
     },
     "c29eae0ae9aa4b15879e55a6f767caa0": {
      "model_module": "@jupyter-widgets/base",
      "model_module_version": "1.2.0",
      "model_name": "LayoutModel",
      "state": {
       "margin": "0px 0px 0px 37px",
       "width": "600px"
      }
     },
     "d1d2ec1bcc4e4a528e240f9001df60dd": {
      "model_module": "@jupyter-widgets/controls",
      "model_module_version": "1.5.0",
      "model_name": "HBoxModel",
      "state": {
       "children": [
        "IPY_MODEL_1101592b99694c20837cad41cf7749f5",
        "IPY_MODEL_7f6b07a6c14544e1878df0f77bf5b592",
        "IPY_MODEL_84faf020bcb548b5a8ff51e91b100578",
        "IPY_MODEL_ae75bcc1ba98419e81c1a1dcff6d9311",
        "IPY_MODEL_b6b4ae11364649349e28e63fbf8f6745"
       ],
       "layout": "IPY_MODEL_c29eae0ae9aa4b15879e55a6f767caa0"
      }
     },
     "d5fadb91a4ad4f50b4ca1999a8396240": {
      "model_module": "@jupyter-widgets/controls",
      "model_module_version": "1.5.0",
      "model_name": "ButtonStyleModel",
      "state": {}
     },
     "e9d3feb636ac4bf58c845ddf0318cbc4": {
      "model_module": "@jupyter-widgets/controls",
      "model_module_version": "1.5.0",
      "model_name": "DescriptionStyleModel",
      "state": {
       "description_width": ""
      }
     },
     "ebb7e55add3149da9606ad190c6461d2": {
      "model_module": "@jupyter-widgets/base",
      "model_module_version": "1.2.0",
      "model_name": "LayoutModel",
      "state": {
       "width": "95px"
      }
     },
     "f97822b1f560459b9fe34c6a6714f612": {
      "model_module": "@jupyter-widgets/controls",
      "model_module_version": "1.5.0",
      "model_name": "DescriptionStyleModel",
      "state": {
       "description_width": ""
      }
     }
    },
    "version_major": 2,
    "version_minor": 0
   }
  }
 },
 "nbformat": 4,
 "nbformat_minor": 5
}
