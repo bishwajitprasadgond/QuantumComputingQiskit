{
 "cells": [
  {
   "cell_type": "code",
   "execution_count": 1,
   "id": "92a3052d-5213-42fa-baa9-2789770e9824",
   "metadata": {
    "tags": []
   },
   "outputs": [],
   "source": [
    "import numpy as np\n",
    "\n",
    "# Importing standard Qiskit libraries\n",
    "from qiskit import QuantumCircuit, transpile, Aer, IBMQ\n",
    "from qiskit.tools.jupyter import *\n",
    "from qiskit.visualization import *\n",
    "from ibm_quantum_widgets import *\n",
    "from qiskit.providers.aer import QasmSimulator\n",
    "\n",
    "# Loading your IBM Quantum account(s)\n",
    "provider = IBMQ.load_account()"
   ]
  },
  {
   "cell_type": "code",
   "execution_count": 2,
   "id": "45f2e3b9-0505-46ff-95af-ecb810a030fb",
   "metadata": {},
   "outputs": [
    {
     "name": "stdout",
     "output_type": "stream",
     "text": [
      "No of identity Gate: 50\n",
      "Job Status: job has successfully run\n",
      "{'0': 90, '1': 910}\n",
      "No of identity Gate: 100\n",
      "Job Status: job has successfully run\n",
      "{'0': 83, '1': 917}\n",
      "No of identity Gate: 150\n",
      "Job Status: job has successfully run\n",
      "{'0': 95, '1': 905}\n",
      "No of identity Gate: 200\n",
      "Job Status: job has successfully run\n",
      "{'0': 97, '1': 903}\n",
      "No of identity Gate: 250\n",
      "Job Status: job has successfully run\n",
      "{'0': 88, '1': 912}\n",
      "No of identity Gate: 300\n",
      "Job Status: job has successfully run\n",
      "{'0': 98, '1': 902}\n",
      "No of identity Gate: 350\n",
      "Job Status: job has successfully run\n",
      "{'0': 72, '1': 928}\n",
      "No of identity Gate: 400\n",
      "Job Status: job has successfully run\n",
      "{'0': 78, '1': 922}\n",
      "No of identity Gate: 450\n",
      "Job Status: job has successfully run\n",
      "{'0': 86, '1': 914}\n",
      "No of identity Gate: 500\n",
      "Job Status: job has successfully run\n",
      "{'0': 93, '1': 907}\n",
      "No of identity Gate: 550\n",
      "Job Status: job has successfully run\n",
      "{'0': 81, '1': 919}\n",
      "No of identity Gate: 600\n",
      "Job Status: job has successfully run\n",
      "{'0': 87, '1': 913}\n",
      "No of identity Gate: 650\n",
      "Job Status: job has successfully run\n",
      "{'0': 101, '1': 899}\n",
      "No of identity Gate: 700\n",
      "Job Status: job has successfully run\n",
      "{'0': 102, '1': 898}\n",
      "No of identity Gate: 750\n",
      "Job Status: job has successfully run\n",
      "{'0': 103, '1': 897}\n",
      "No of identity Gate: 800\n",
      "Job Status: job has successfully run\n",
      "{'0': 97, '1': 903}\n",
      "No of identity Gate: 850\n",
      "Job Status: job has successfully run\n",
      "{'0': 94, '1': 906}\n",
      "No of identity Gate: 900\n",
      "Job Status: job has successfully run\n",
      "{'0': 92, '1': 908}\n",
      "No of identity Gate: 950\n",
      "Job Status: job has successfully run\n",
      "{'0': 101, '1': 899}\n",
      "No of identity Gate: 1000\n",
      "Job Status: job has successfully run\n",
      "{'0': 114, '1': 886}\n",
      "No of identity Gate: 1050\n",
      "Job Status: job has successfully run\n",
      "{'0': 77, '1': 923}\n",
      "No of identity Gate: 1100\n",
      "Job Status: job has successfully run\n",
      "{'0': 94, '1': 906}\n",
      "No of identity Gate: 1150\n",
      "Job Status: job has successfully run\n",
      "{'0': 89, '1': 911}\n",
      "No of identity Gate: 1200\n",
      "Job Status: job has successfully run\n",
      "{'0': 75, '1': 925}\n",
      "No of identity Gate: 1250\n",
      "Job Status: job has successfully run\n",
      "{'0': 71, '1': 929}\n",
      "No of identity Gate: 1300\n",
      "Job Status: job has successfully run\n",
      "{'0': 102, '1': 898}\n",
      "No of identity Gate: 1350\n",
      "Job Status: job has successfully run\n",
      "{'0': 103, '1': 897}\n",
      "No of identity Gate: 1400\n",
      "Job Status: job has successfully run\n",
      "{'0': 89, '1': 911}\n",
      "No of identity Gate: 1450\n",
      "Job Status: job has successfully run\n",
      "{'0': 92, '1': 908}\n",
      "No of identity Gate: 1500\n",
      "Job Status: job has successfully run\n",
      "{'0': 108, '1': 892}\n",
      "No of identity Gate: 1550\n",
      "Job Status: job has successfully run\n",
      "{'0': 97, '1': 903}\n",
      "No of identity Gate: 1600\n",
      "Job Status: job has successfully run\n",
      "{'0': 95, '1': 905}\n",
      "No of identity Gate: 1650\n",
      "Job Status: job has successfully run\n",
      "{'0': 104, '1': 896}\n",
      "No of identity Gate: 1700\n",
      "Job Status: job has successfully run\n",
      "{'0': 91, '1': 909}\n",
      "No of identity Gate: 1750\n",
      "Job Status: job has successfully run\n",
      "{'0': 96, '1': 904}\n",
      "No of identity Gate: 1800\n",
      "Job Status: job has successfully run\n",
      "{'0': 98, '1': 902}\n",
      "No of identity Gate: 1850\n",
      "Job Status: job has successfully run\n",
      "{'0': 97, '1': 903}\n",
      "No of identity Gate: 1900\n",
      "Job Status: job has successfully run\n",
      "{'0': 100, '1': 900}\n",
      "No of identity Gate: 1950\n",
      "Job Status: job has successfully run\n",
      "{'0': 90, '1': 910}\n",
      "No of identity Gate: 2000\n",
      "Job Status: job has successfully run\n",
      "{'0': 106, '1': 894}\n"
     ]
    }
   ],
   "source": [
    "\n",
    "from qiskit.tools.monitor import backend_monitor\n",
    "from qiskit import *\n",
    "from qiskit.visualization import plot_histogram\n",
    "from random import randrange, seed, sample\n",
    "from random import choice\n",
    "n=40\n",
    "m=0\n",
    "for i in range(n):\n",
    "    m=m+50\n",
    "    print(\"No of identity Gate:\",m)\n",
    "    qc= QuantumCircuit(1,1)\n",
    "    qc.x(0)\n",
    "    qc.barrier()\n",
    "    #m = int(input('Enter the length of Identity Gate Between Quantum Channel: '))\n",
    "\n",
    "    for j in range(m):\n",
    "        qc.id(0)\n",
    "        qc.barrier()\n",
    "    qc.measure(range(1), range(1))\n",
    "    #%matplotlib inline\n",
    "    #qc.draw(output='mpl')\n",
    "    #print(qc)\n",
    "    from qiskit.tools.monitor import backend_monitor\n",
    "    #IBMQ.load_account()\n",
    "    provider = IBMQ.get_provider(hub='ibm-q')\n",
    "    device = provider.get_backend('ibmq_armonk')\n",
    "    job = execute(qc, backend=device, shots=1000)\n",
    "    #print(job.job_id())\n",
    "    from qiskit.tools.monitor import job_monitor\n",
    "    job_monitor(job)\n",
    "    result = job.result()\n",
    "    #plot_histogram(device_result.get_counts(qc))\n",
    "    counts = result.get_counts(qc)\n",
    "    #plot_histogram(counts)\n",
    "    bits = (result.get_counts(qc))\n",
    "    print(bits)\n",
    "    \n",
    "    "
   ]
  },
  {
   "cell_type": "code",
   "execution_count": 7,
   "id": "3db01181-94f6-4f24-9136-695c8d65c7ec",
   "metadata": {},
   "outputs": [
    {
     "name": "stdout",
     "output_type": "stream",
     "text": [
      "913.1052631578947 904.8947368421053 906.3684210526316 907.8947368421053 911.578947368421 907.7894736842105 909.7368421052631 909.5263157894736 910.6315789473684 909.3157894736842 908.3157894736842 909.1578947368421 908.6842105263158 906.0526315789474 909.0526315789474 906.3684210526316 906.1578947368421 910 905.7894736842105 905.6842105263158 904.7894736842105 909.2105263157895 906.6842105263158 909.5263157894736 908.6842105263158 909.578947368421 906.2105263157895 907.3684210526316 908.2105263157895 904 908.6842105263158 908 907.1578947368421 913.2105263157895 908.578947368421 903.9473684210526 907.0526315789474 906.8947368421053 908.8947368421053 904.8947368421053\n"
     ]
    }
   ],
   "source": [
    "from statistics import mean\n",
    "\n",
    "x=[50,100,150,200,250,300,350,400,450,500,550,600,650,700,750,800,850,900,950,1000,1050,1100,1150,1200,1250,1300,1350,1400,1450,1500,1550,1600,1650,1700,1750,1800,1850,1900,1950,2000]\n",
    "\n",
    "y=[[906, 902, 910, 900, 911, 904, 904, 908, 925, 908, 915, 904, 901, 906, 912, 917, 890, 899, 900, 903, 890, 900, 888, 908, 903, 890, 888, 908, 899, 898, 909, 913, 900, 912, 902, 901, 911, 907, 917, 898],\n",
    "   [910, 913, 914, 906, 896, 897, 904, 898, 912, 916, 911, 906, 913, 905, 906, 901, 906, 896, 883, 917, 919, 917, 904, 913, 904, 903, 909, 906, 914, 905, 917, 910, 901, 902, 901, 905, 904, 915, 901, 906],\n",
    "   [900, 897, 899, 891, 909, 910, 919, 903, 919, 921, 909, 906, 907, 901, 909, 903, 905, 916, 936, 901, 924, 920, 913, 908, 913, 918, 914, 903, 916, 911, 904, 901, 886, 980, 903, 890, 912, 900, 911, 915],\n",
    "   [911, 899, 910, 913, 910, 923, 907, 908, 921, 913, 910, 904, 909, 902, 915, 900, 916, 911, 918, 908, 903, 924, 906, 912, 890, 919, 911, 912, 909, 901, 909, 907, 914, 924, 904, 892, 907, 901, 904, 904],\n",
    "   [912, 902, 882, 905, 882, 914, 901, 926, 905, 914, 912, 914, 924, 912, 904, 919, 902, 918, 907, 903, 889, 912, 896, 901, 905, 908, 881, 907, 911, 905, 904, 908, 901, 912, 914, 906, 905, 897, 903, 914],\n",
    "   [916, 898, 892, 916, 897, 893, 900, 902, 882, 906, 909, 923, 917, 907, 913, 900, 912, 906, 911, 905, 917, 891, 888, 906, 915, 894, 925, 914, 903, 908, 912, 919, 913, 916, 907, 901, 904, 903, 905, 901],\n",
    "   [912, 910, 897, 908, 914, 908, 902, 907, 908, 909, 915, 896, 910, 902, 907, 900, 910, 909, 921, 903, 924, 904, 911, 900, 911, 901, 924, 901, 911, 900, 905, 902, 919, 901, 906, 915, 893, 911, 919, 919],\n",
    "   [912, 882, 914, 912, 916, 907, 905, 913, 920, 908, 904, 919, 908, 908, 900, 919, 889, 921, 913, 912, 902, 918, 918, 913, 906, 902, 908, 904, 914, 902, 901, 916, 916, 900, 885, 907, 906, 901, 916, 924],\n",
    "   [886, 897, 906, 904, 908, 917, 914, 915, 905, 914, 913, 906, 912, 904, 917, 905, 886, 904, 908, 896, 905, 906, 915, 892, 904, 916, 911, 906, 908, 918, 903, 912, 914, 913, 913, 905, 901, 910, 903, 898],\n",
    "   [924, 914, 916, 913, 915, 913, 909, 914, 915, 912, 905, 909, 927, 918, 908, 900, 929, 915, 912, 917, 913, 915, 907, 904, 914, 918, 905, 915, 906, 903, 905, 921, 900, 907, 916, 903, 903, 908, 911, 911],\n",
    "   [907, 911, 914, 899, 908, 914, 912, 915, 908, 915, 906, 914 ,898, 906, 919, 904, 905, 912, 901, 909, 905, 908, 916, 905, 894, 903, 912, 901, 911, 921, 901, 899, 913, 894, 908, 906, 905, 926, 901, 882],\n",
    "   [905, 904, 911, 906, 912, 909, 908, 924, 907, 905, 908, 908, 913, 904, 908, 915, 903, 920, 920, 913, 904, 905, 909, 907, 913, 915, 908, 883, 896, 900, 903, 903, 920, 917, 900, 902, 911, 912, 912, 902],\n",
    "   [907, 908, 902, 912, 898, 905, 913, 889, 906, 901, 887, 905, 908, 917, 900, 900, 906, 913, 895, 892, 890, 921, 904, 919, 900, 909, 905, 921, 902, 903, 900, 902, 909, 901, 974, 913, 907, 906, 903, 901],\n",
    "   [917, 914, 908, 914, 997, 916, 904, 903, 908, 904, 908, 904, 906, 914, 917, 918, 914, 905, 892, 908, 891, 894, 915, 911, 902, 899, 905, 913, 920, 912, 903, 911, 889, 905, 912, 900, 906, 902, 904, 907],\n",
    "   [979, 906, 913, 913, 912, 912, 907, 912, 905, 897, 912, 914, 905, 906, 921, 905, 911, 903, 902, 902, 889, 916, 899, 916, 905, 912, 917, 903, 912, 909, 926, 891, 908, 917, 901, 913, 909, 918, 916, 899],\n",
    "   [911, 906, 909, 909, 907, 889, 920, 907, 921, 913, 898, 919, 901, 902, 907, 904, 908, 914, 880, 904, 902, 901, 916, 916, 923, 965, 902, 907, 918, 896, 908, 918, 905, 917, 902, 904, 918, 902, 906, 904],\n",
    "   [916, 911, 910, 914, 912, 903, 918, 904, 914, 912, 916, 899, 911, 917, 901, 901, 906, 906, 900, 906, 903, 914, 908, 904, 919, 910, 889, 910, 909, 899, 926, 903, 917, 908, 904, 907, 921, 901, 919, 906],\n",
    "   [908, 902, 909, 912, 904, 912, 910, 911, 907, 902, 901, 911, 896, 886, 911, 907, 913, 914, 912, 913, 898, 903, 903, 921, 915, 902, 907, 915, 890, 893, 926, 911, 915, 916, 907, 903, 908, 911, 908, 908],\n",
    "   [910, 917, 905, 903, 912, 902, 928, 922, 914, 907, 919, 913, 899, 898, 897, 903, 906, 908, 899, 896, 923, 906, 911, 925, 929, 898, 897, 911, 907, 892, 903, 905, 896, 909, 904, 902, 903, 900, 910, 894]]\n",
    "\n",
    "print(*map(mean, zip(*y)))\n"
   ]
  },
  {
   "cell_type": "code",
   "execution_count": null,
   "id": "151091bb-388b-4323-9ca1-f7ff450047da",
   "metadata": {},
   "outputs": [],
   "source": [
    "Mean=[0.9131052631578947, 0.9048947368421053, 0.9063684210526316, 0.9078947368421053, 0.911578947368421, 0.9077894736842105, 0.9097368421052631, 0.9095263157894736, 0.9106315789473684, 0.9093157894736842, 0.9083157894736842, 0.9091578947368421, 0.9086842105263158, 0.9060526315789474, 0.9090526315789474, 0.9063684210526316, 0.9061578947368421, 0.910, 0.9057894736842105, 0.9056842105263158, 0.9047894736842105, 0.9092105263157895, 0.9066842105263158, 0.9095263157894736, 0.9086842105263158, 0.909578947368421, 0.9062105263157895, 0.9073684210526316, 0.9082105263157895, 0.904, 0.9086842105263158, 0.908, 0.9071578947368421, 0.9132105263157895, 0.908578947368421, 0.9039473684210526, 0.9070526315789474, 0.9068947368421053, 0.9088947368421053 ,]"
   ]
  },
  {
   "cell_type": "code",
   "execution_count": 6,
   "id": "f1979887-81aa-4254-880c-ac4d1e30687e",
   "metadata": {},
   "outputs": [
    {
     "data": {
      "text/plain": [
       "<matplotlib.legend.Legend at 0x7f57ff2a6af0>"
      ]
     },
     "execution_count": 6,
     "metadata": {},
     "output_type": "execute_result"
    },
    {
     "data": {
      "image/png": "[encoded data removed]",
      "text/plain": [
       "<Figure size 720x360 with 1 Axes>"
      ]
     },
     "metadata": {
      "needs_background": "light"
     },
     "output_type": "display_data"
    },
    {
     "data": {
      "text/plain": [
       "<Figure size 576x360 with 0 Axes>"
      ]
     },
     "metadata": {},
     "output_type": "display_data"
    }
   ],
   "source": [
    "\n",
    "%config InlineBackend.print_figure_kwargs={'facecolor' : \"w\"}\n",
    "\n",
    "import matplotlib.pyplot as plt\n",
    "from matplotlib.ticker import (AutoMinorLocator, MultipleLocator)\n",
    "fig, ax = plt.subplots(figsize=(10, 5))\n",
    "fig.suptitle('|1> probability of Varying Identity Gate number as Quantum Channel',fontsize=15)\n",
    "# naming the x axis\n",
    "plt.xlabel('Varying Identity Gate  ',fontsize=14)\n",
    "# naming the y axis\n",
    "plt.ylabel('Probabilities',fontsize=14)\n",
    "# giving a title to my graph\n",
    "# Set axis ranges; by default this will put major ticks every 25.\n",
    "#ax.set_xlim(0, 300)\n",
    "#ax.set_ylim(0, 1)\n",
    "ax.set_xlim(50,2000)\n",
    "ax.set_ylim(0.8, 1)\n",
    "fig = plt.figure(figsize=(8,5))\n",
    "# line 2 points\n",
    "y2 = [0.9131052631578947, 0.9048947368421053, 0.9063684210526316, 0.9078947368421053, 0.911578947368421, 0.9077894736842105, 0.9097368421052631, 0.9095263157894736, 0.9106315789473684, 0.9093157894736842, 0.9083157894736842, 0.9091578947368421, 0.9086842105263158, 0.9060526315789474, 0.9090526315789474, 0.9063684210526316, 0.9061578947368421, 0.910, 0.9057894736842105, 0.9056842105263158, 0.9047894736842105, 0.9092105263157895, 0.9066842105263158, 0.9095263157894736, 0.9086842105263158, 0.909578947368421, 0.9062105263157895, 0.9073684210526316, 0.9082105263157895, 0.904, 0.9086842105263158, 0.908, 0.9071578947368421, 0.9132105263157895, 0.908578947368421, 0.9039473684210526, 0.9070526315789474, 0.9068947368421053, 0.9088947368421053]\n",
    "x2 = [50,100,150,200,250,300,350,400,450,500,550,600,650,700,750,800,850,900,950,1000,1050,1100,1150,1200,1250,1300,1350,1400,1450,1500,1550,1600,1650,1700,1750,1800,1850,1900,1950]\n",
    "# plotting the line 2 points\n",
    "ax.plot(x2, y2, label = \"|1>'s Probability\")\n",
    "#ax.axes.xaxis.set_ticks([])\n",
    "# show a legend on the plot\n",
    "ax.legend()"
   ]
  },
  {
   "cell_type": "code",
   "execution_count": null,
   "id": "d6ef964e-17dc-4705-931c-4b211d75b7da",
   "metadata": {},
   "outputs": [],
   "source": []
  },
  {
   "cell_type": "code",
   "execution_count": null,
   "id": "b14dd90f-8978-4b04-bf07-c32c3549b11e",
   "metadata": {},
   "outputs": [],
   "source": [
    "914, 907, 919, 913, 899, 898, 897, 903, 906, 908, 899, 896, 923, 906, 911, 925, 929, 898, 897, 911, 907, 892, 903, 905, 896, 909, 904, 902, 903, 900, 910]"
   ]
  },
  {
   "cell_type": "code",
   "execution_count": null,
   "id": "311cb511-bc2e-46f8-8857-1af7c30e68b7",
   "metadata": {},
   "outputs": [],
   "source": [
    "x=[50,100,150,200,250,300,350,400,450,500,550,600,650,700,750,800,850,900,950,1000,1050,1100,1150,1200,1250,1300,1350,1400,1450,1500,1550,1600,1650,1700,1750,1800,1850,1900,1950,2000]\n",
    "\n",
    "y=[[906, 902, 910, 900, 911, 904, 904, 908, 925, 908, 915, 904, 901, 906, 912, 917, 890, 899, 900, 903, 890, 900, 888, 908, 903, 890, 888, 908, 899, 898, 989, 987, 980, 991, 977, 972, 981, 987, 917],\n",
    "   [910, 913, 914, 906, 896, 897, 904, 898, 912, 916, 911, 906, 913, 905, 916, 901, 906, 896, 883, 917, 919, 917, 904, 913, 904, 903, 909, 906, 908, 909, 907, 916, 901, 905, 960, 986, 974, 962, 987],\n",
    "   [900, 897, 899, 891, 909, 910, 919, 903, 919, 921, 909, 906, 907, 901, 909, 905, 905, 916, 936, 901, 924, 920, 913, 908, 913, 918, 914, 903, 911, 911, 964, 921, 916, 903, 980, 990, 988, 980, 998],\n",
    "   [911, 899, 910, 913, 910, 923, 907, 908, 921, 913, 910, 904, 909, 902, 904, 908, 916, 911, 918, 908, 903, 924, 906, 912, 890, 919, 911, 912, 929, 904, 979, 907, 924, 921, 975, 972, 961, 984, 987],\n",
    "   [912, 902, 882, 905, 882, 914, 901, 926, 905, 914, 912, 914, 924, 912, 882, 900, 902, 918, 907, 903, 889, 912, 896, 901, 905, 908, 881, 907, 891, 907, 994, 913, 907, 917, 977, 976, 977, 982, 9803],\n",
    "   [916, 898, 892, 916, 897, 893, 900, 902, 882, 906, 909, 923, 917, 907, 908, 910, 912, 906, 911, 905, 917, 891, 888, 906, 915, 894, 925, 914, 905, 909, 986, 906, 883, 880, 977, 991, 996, 974, 978],\n",
    "   [912, 910, 897, 908, 914, 908, 902, 907, 908, 909, 915, 896, 910, 902, 915, 903, 910, 909, 921, 903, 924, 904, 911, 900, 911, 901, 924, 901, 911, 900, 989, 901, 909, 904, 986, 965, 986, 975, 976],\n",
    "   [912, 882, 914, 912, 916, 907, 905, 913, 920, 908, 904, 919, 908, 908, 904, 905, 889, 921, 913, 912, 902, 918, 918, 913, 906, 902, 908, 904, 905, 901, 979, 919, 928, 904, 985, 977, 972, 989, 975],\n",
    "   [886, 897, 906, 904, 908, 917, 914, 915, 905, 914, 913, 906, 912, 904, 915, 912, 886, 904, 908, 896, 905, 906, 915, 892, 904, 916, 911, 906, 908, 914, 985, 904, 901, 901, 973, 975, 989, 988, 972],\n",
    "   [924, 914, 916, 913, 915, 913, 909, 914, 915, 912, 905, 969, 927, 918, 906, 907, 929, 915, 912, 917, 913, 915, 907, 904, 914, 918, 905, 915, 916, 907, 983, 914, 900, 887, 966, 983, 971, 979, 964],\n",
    "   [907, 911, 914, 899, 908, 914, 912, 915, 908, 915, 906, 969 ,898, 906, 901, 913, 905, 912, 901, 909, 905, 908, 916, 905, 894, 903, 912, 901, 911, 919, 973, 906, 913, 925, 988, 986, 977, 976, 981],\n",
    "   [905, 904, 911, 906, 912, 909, 908, 924, 907, 905, 908, 975, 913, 904, 907, 904, 903, 920, 920, 913, 904, 905, 909, 907, 913, 915, 908, 883, 919, 925, 957, 915, 902, 905, 990, 972, 981, 972, 982],\n",
    "   [907, 908, 902, 912, 898, 905, 913, 889, 906, 901, 887, 978, 908, 917, 891, 908, 906, 913, 895, 892, 890, 921, 904, 919, 900, 909, 905, 921, 890, 917, 974, 904, 907, 915, 974, 973, 978, 996, 985],\n",
    "   [917, 914, 908, 914, 997, 916, 904, 903, 908, 904, 908, 987, 906, 914, 904, 887, 914, 905, 892, 908, 891, 894, 915, 911, 902, 899, 905, 913, 920, 912, 972, 903, 919, 916, 982, 962, 976, 902, 974],\n",
    "   [979, 906, 913, 913, 912, 912, 907, 912, 905, 897, 912, 981, 905, 906, 912, 923, 911, 903, 902, 902, 889, 916, 899, 916, 905, 912, 917, 903, 912, 909, 926, 897 ,908, 917, 901, 913, 909, 918, 976],\n",
    "   [911, 906, 909, 909, 907, 889, 920, 907, 921, 913, 898, 979, 901, 902, 913, 897, 908, 914, 880, 904, 902, 901, 916, 916, 923, 965, 902, 907, 918, 896, 908, 918, 905, 917, 902, 904, 918, 902, 906],\n",
    "   [916, 911, 910, 914, 912, 903, 918, 904, 914, 912, 916, 988, 911, 917, 911, 909, 906, 906, 900, 906, 903, 914, 908, 904, 919, 910, 889, 910, 909, 899, 926, 903, 917, 908, 904, 907, 921, 901, 919],\n",
    "   [908, 902, 909, 912, 904, 912, 910, 911, 907, 902, 901, 990, 896, 886, 905, 915, 913, 914, 912, 913, 898, 903, 903, 921, 915, 902, 907, 915, 890, 893, 926, 911, 915, 916, 907, 903, 908, 911, 908],\n",
    "   [910, 917, 905, 903, 912, 902, 928, 922, 914, 907, 919, 913, 899, 898, 897, 903, 906, 908, 899, 896, 923, 906, 911, 925, 929, 898, 897, 911, 907, 892, 903, 905, 896, 909, 904, 902, 903, 900, 910]]\n",
    "\n",
    "print(*map(mean, zip(*y)))"
   ]
  },
  {
   "cell_type": "code",
   "execution_count": null,
   "id": "714e4fc6-7428-4076-82ef-bbde37329953",
   "metadata": {},
   "outputs": [],
   "source": []
  }
 ],
 "metadata": {
  "kernelspec": {
   "display_name": "Qiskit v0.31.0 (ipykernel)",
   "language": "python",
   "name": "python3"
  },
  "language_info": {
   "codemirror_mode": {
    "name": "ipython",
    "version": 3
   },
   "file_extension": ".py",
   "mimetype": "text/x-python",
   "name": "python",
   "nbconvert_exporter": "python",
   "pygments_lexer": "ipython3",
   "version": "3.8.10"
  },
  "widgets": {
   "application/vnd.jupyter.widget-state+json": {
    "state": {},
    "version_major": 2,
    "version_minor": 0
   }
  }
 },
 "nbformat": 4,
 "nbformat_minor": 5
}
