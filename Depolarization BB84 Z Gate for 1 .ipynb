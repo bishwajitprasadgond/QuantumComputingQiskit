{
 "cells": [
  {
   "cell_type": "code",
   "execution_count": 1,
   "id": "4f0e4eab-bc68-47b5-b84e-f7cd33b70917",
   "metadata": {},
   "outputs": [],
   "source": [
    "import numpy as np\n",
    "\n",
    "# Importing standard Qiskit libraries\n",
    "from qiskit import QuantumCircuit, transpile, Aer, IBMQ\n",
    "from qiskit.tools.jupyter import *\n",
    "from qiskit.visualization import *\n",
    "from ibm_quantum_widgets import *\n",
    "from qiskit.providers.aer import QasmSimulator\n",
    "\n",
    "# Loading your IBM Quantum account(s)\n",
    "provider = IBMQ.load_account()"
   ]
  },
  {
   "cell_type": "code",
   "execution_count": 3,
   "id": "80b4773a-5f03-4d69-87a0-c66b3d88a32b",
   "metadata": {},
   "outputs": [],
   "source": [
    "from qiskit.providers.aer.noise import NoiseModel\n",
    "from qiskit.providers.aer.noise.errors import pauli_error, depolarizing_error\n",
    "from qiskit import *\n",
    "from qiskit.visualization import plot_histogram\n",
    "import matplotlib.pyplot as plt\n",
    "import numpy as np\n",
    "%matplotlib inline"
   ]
  },
  {
   "cell_type": "code",
   "execution_count": 4,
   "id": "32ae19b7-1fa6-416c-8af0-5b9adae5f383",
   "metadata": {},
   "outputs": [],
   "source": [
    "def get_noise_dep(p_m, p_g):\n",
    "    error_m = pauli_error([('X',p_m),('I',1-p_m)])\n",
    "    error_g1 = depolarizing_error(p_g,1)\n",
    "    error_g2 = error_g1.tensor(error_g1)\n",
    "    \n",
    "    noise_model = NoiseModel()\n",
    "    \n",
    "    # measurement error is applied to measurements\n",
    "    noise_model.add_all_qubit_quantum_error(error_m, \"measure\")\n",
    "    # single qubit gate error is applied to x gates\n",
    "    noise_model.add_all_qubit_quantum_error(error_g1, [\"h\",\"x\",\"id\"])\n",
    "    # two qubit gate error is applied to cx gates\n",
    "    noise_model.add_all_qubit_quantum_error(error_g2, [\"cx\"])\n",
    "    return noise_model"
   ]
  },
  {
   "cell_type": "code",
   "execution_count": 5,
   "id": "e253fd4c-0b52-4da2-a090-d5d69cafad9a",
   "metadata": {},
   "outputs": [
    {
     "name": "stdout",
     "output_type": "stream",
     "text": [
      "[1, 1, 1, 1, 1, 1, 1, 1, 1, 1, 1, 1, 1, 1, 1, 1, 1, 1, 1, 1, 1, 1, 1, 1, 1, 1, 1, 1, 1, 1, 1, 1, 1, 1, 1, 1, 1, 1, 1, 1, 1, 1, 1, 1, 1, 1, 1, 1, 1, 1]\n",
      "\n",
      "\n",
      "No of identity Gate: 10\n",
      "('1', 963)\n",
      "No of identity Gate: 20\n",
      "('1', 967)\n",
      "No of identity Gate: 30\n",
      "('1', 964)\n",
      "No of identity Gate: 40\n",
      "('1', 968)\n",
      "No of identity Gate: 50\n",
      "('1', 974)\n",
      "No of identity Gate: 60\n",
      "('1', 958)\n",
      "No of identity Gate: 70\n",
      "('1', 964)\n",
      "No of identity Gate: 80\n",
      "('1', 948)\n",
      "No of identity Gate: 90\n",
      "('1', 972)\n",
      "No of identity Gate: 100\n",
      "('1', 963)\n",
      "No of identity Gate: 110\n",
      "('1', 950)\n",
      "No of identity Gate: 120\n",
      "('1', 967)\n",
      "No of identity Gate: 130\n",
      "('1', 977)\n",
      "No of identity Gate: 140\n",
      "('1', 968)\n",
      "No of identity Gate: 150\n",
      "('1', 965)\n",
      "No of identity Gate: 160\n",
      "('1', 979)\n",
      "No of identity Gate: 170\n",
      "('1', 969)\n",
      "No of identity Gate: 180\n",
      "('1', 955)\n",
      "No of identity Gate: 190\n",
      "('1', 969)\n",
      "No of identity Gate: 200\n",
      "('1', 960)\n",
      "No of identity Gate: 210\n",
      "('1', 956)\n",
      "No of identity Gate: 220\n",
      "('1', 960)\n",
      "No of identity Gate: 230\n",
      "('1', 962)\n",
      "No of identity Gate: 240\n",
      "('1', 969)\n",
      "No of identity Gate: 250\n",
      "('1', 972)\n",
      "No of identity Gate: 260\n",
      "('1', 960)\n",
      "No of identity Gate: 270\n",
      "('1', 954)\n",
      "No of identity Gate: 280\n",
      "('1', 958)\n",
      "No of identity Gate: 290\n",
      "('1', 965)\n",
      "No of identity Gate: 300\n",
      "('1', 968)\n",
      "No of identity Gate: 310\n",
      "('1', 962)\n",
      "No of identity Gate: 320\n",
      "('1', 969)\n",
      "No of identity Gate: 330\n",
      "('1', 969)\n",
      "No of identity Gate: 340\n",
      "('1', 957)\n",
      "No of identity Gate: 350\n",
      "('1', 969)\n",
      "No of identity Gate: 360\n",
      "('1', 956)\n",
      "No of identity Gate: 370\n",
      "('1', 950)\n",
      "No of identity Gate: 380\n",
      "('1', 957)\n",
      "No of identity Gate: 390\n",
      "('1', 960)\n",
      "No of identity Gate: 400\n",
      "('1', 960)\n",
      "No of identity Gate: 410\n",
      "('1', 970)\n",
      "No of identity Gate: 420\n",
      "('1', 968)\n",
      "No of identity Gate: 430\n",
      "('1', 970)\n",
      "No of identity Gate: 440\n",
      "('1', 958)\n",
      "No of identity Gate: 450\n",
      "('1', 964)\n",
      "No of identity Gate: 460\n",
      "('1', 954)\n",
      "No of identity Gate: 470\n",
      "('1', 957)\n",
      "No of identity Gate: 480\n",
      "('1', 966)\n",
      "No of identity Gate: 490\n",
      "('1', 970)\n",
      "No of identity Gate: 500\n",
      "('1', 959)\n",
      "[963, 967, 964, 968, 974, 958, 964, 948, 972, 963, 950, 967, 977, 968, 965, 979, 969, 955, 969, 960, 956, 960, 962, 969, 972, 960, 954, 958, 965, 968, 962, 969, 969, 957, 969, 956, 950, 957, 960, 960, 970, 968, 970, 958, 964, 954, 957, 966, 970, 959]\n"
     ]
    }
   ],
   "source": [
    "    bob_bits=[]\n",
    "    from qiskit.tools.monitor import backend_monitor\n",
    "    import matplotlib.pyplot as plt\n",
    "    from qiskit.tools.visualization import circuit_drawer\n",
    "    from qiskit import *\n",
    "    from qiskit.visualization import plot_histogram\n",
    "    from random import randrange, seed, sample\n",
    "    from sys import argv, exit\n",
    "    import random\n",
    "    #data = int(input('ENTER LENGTH OF BIT STREAM (example 5 For 10110):'))\n",
    "    data=50\n",
    "    ##########################################################################\n",
    "    h=1\n",
    "    #h=int(input())\n",
    "    def bit_stream(p):\n",
    "        key1 = \"\"\n",
    "        for i in range(p):\n",
    "            temp = str(random.randint(h,h))\n",
    "            key1 += temp\n",
    "        return(key1)\n",
    "    \n",
    "    bitstream= bit_stream(data)\n",
    "    digits = [int(x) for x in str(bitstream)]\n",
    "    print(digits)\n",
    "    ##########################################################################\n",
    "    #print('List of Bit Stream to transfer over Quantum Channel')\n",
    "    #print(digits)\n",
    "    print('\\n')\n",
    "    #n = len(digits)\n",
    "    \n",
    "    ##########################################################################\n",
    "    bob_bits=[]\n",
    "    from random import choice\n",
    "    m=0\n",
    "    n=50\n",
    "    for i in range(n):\n",
    "        m=m+10\n",
    "        print(\"No of identity Gate:\",m)\n",
    "        if digits[i] == 1:\n",
    "            q = QuantumRegister(1, 'q')\n",
    "            c = ClassicalRegister(1, 'c')\n",
    "            qc = QuantumCircuit(q, c)\n",
    "            qc.x(0)\n",
    "            qc.barrier()\n",
    "            for j in range(m):\n",
    "                qc.id(0)\n",
    "                qc.barrier()\n",
    "            qc.measure(q[0], c[0])\n",
    "            #print(qc)\n",
    "            # Perform a noise simulation\n",
    "            counts = execute(qc,Aer.get_backend('qasm_simulator'),noise_model=get_noise_dep(0.036,0.00036),shots=1000).result().get_counts()\n",
    "            #counts = result.get_counts(qc)\n",
    "            %matplotlib inline\n",
    "            #print(qc)\n",
    "            #qc.draw(output='mpl')\n",
    "            #plt.show()\n",
    "            #print(counts)\n",
    "            #plot_histogram(counts)\n",
    "            \n",
    "            itemMaxValue = max(counts.items(), key=lambda x : x[1])\n",
    "            print(itemMaxValue)\n",
    "            # Iterate over all the items in dictionary to find keys with max value\n",
    "            for key, value in counts.items():\n",
    "                if value == itemMaxValue[1]:\n",
    "                    bob_bits.append(value)\n",
    "            \n",
    "    print(bob_bits)"
   ]
  },
  {
   "cell_type": "markdown",
   "id": "72d251d0-f4b0-4e0b-ac58-dfb7a8e940ed",
   "metadata": {},
   "source": [
    "## 20 time Average"
   ]
  },
  {
   "cell_type": "code",
   "execution_count": null,
   "id": "8f1afe92-7be1-400d-b01a-c8c729fcb578",
   "metadata": {},
   "outputs": [],
   "source": [
    "x =[10, 20, 30, 40, 50, 60, 70, 80, 90, 100, 110, 120, 130, 140, 150, 160, 170, 180, 190, 200, 210, 220, 230, 240, 250, 260, 270, 280, 290, 300, 310, 320, 330, 340, 350, 360, 370, 380, 390, 400, 410, 420, 430, 440, 450, 460, 470, 480, 490, 500]\n",
    "y1=[[956, 964, 964, 968, 970, 969, 962, 955, 972, 969, 972, 965, 963, 963, 960, 945, 955, 962, 970, 972, 958, 969, 966, 958, 966, 967, 956, 963, 957, 964, 971, 959, 960, 962, 964, 964, 955, 974, 963, 964, 955, 957, 961, 970, 960, 960, 962, 972, 969, 960],\n",
    "[969, 963, 966, 965, 958, 966, 964, 947, 958, 970, 960, 966, 962, 966, 966, 964, 967, 956, 967, 966, 962, 973, 964, 956, 966, 971, 969, 958, 966, 969, 972, 962, 958, 962, 944, 962, 964, 959, 956, 960, 963, 961, 966, 956, 967, 956, 966, 951, 954, 967],\n",
    "[955, 965, 960, 963, 967, 974, 963, 975, 956, 971, 963, 969, 971, 954, 959, 973, 965, 963, 967, 966, 966, 972, 959, 955, 965, 957, 968, 958, 962, 968, 971, 964, 961, 961, 964, 961, 964, 960, 956, 952, 964, 967, 957, 967, 969, 972, 950, 968, 967, 968],\n",
    "[970, 968, 948, 967, 973, 973, 966, 967, 973, 965, 966, 969, 959, 960, 969, 971, 964, 970, 964, 954, 964, 958, 966, 960, 972, 966, 966, 973, 956, 962, 960, 959, 979, 968, 964, 967, 969, 963, 963, 965, 974, 963, 963, 961, 967, 966, 965, 976, 953, 979],\n",
    "[970, 959, 966, 973, 962, 969, 964, 967, 971, 957, 963, 967, 959, 979, 967, 971, 965, 966, 963, 968, 959, 962, 964, 954, 971, 966, 972, 960, 962, 963, 963, 960, 967, 968, 965, 962, 967, 972, 959, 976, 964, 959, 951, 962, 956, 956, 962, 957, 971, 970],\n",
    "[969, 965, 948, 967, 978, 966, 972, 959, 960, 969, 966, 957, 957, 955, 969, 977, 965, 958, 972, 968, 962, 961, 966, 958, 967, 965, 969, 974, 957, 966, 964, 965, 958, 969, 960, 960, 952, 966, 971, 968, 961, 965, 968, 966, 968, 961, 970, 969, 969, 968],\n",
    "[965, 971, 964, 973, 953, 964, 960, 962, 952, 971, 962, 957, 962, 966, 962, 965, 960, 960, 964, 960, 970, 962, 958, 959, 965, 968, 957, 957, 969, 954, 961, 967, 967, 960, 954, 963, 970, 958, 958, 954, 966, 969, 948, 964, 970, 966, 971, 964, 956, 963],\n",
    "[956, 959, 959, 954, 964, 958, 975, 967, 957, 968, 969, 976, 974, 976, 962, 962, 958, 961, 968, 957, 961, 967, 955, 957, 961, 963, 968, 951, 964, 968, 963, 961, 980, 977, 959, 956, 970, 965, 970, 961, 958, 959, 963, 963, 958, 965, 968, 962, 962, 958],\n",
    "[961, 970, 966, 956, 950, 952, 950, 973, 975, 960, 968, 956, 967, 967, 960, 964, 967, 961, 959, 953, 964, 973, 953, 966, 957, 953, 956, 971, 958, 968, 971, 964, 963, 964, 967, 969, 962, 966, 959, 973, 962, 967, 966, 973, 967, 956, 968, 952, 969, 959],\n",
    "[962, 961, 962, 958, 973, 963, 966, 972, 965, 968, 967, 960, 968, 951, 971, 967, 956, 964, 969, 963, 959, 973, 964, 965, 966, 959, 965, 957, 961, 970, 963, 971, 971, 966, 955, 958, 962, 959, 962, 964, 955, 969, 972, 966, 966, 971, 961, 957, 963, 962],\n",
    "[954, 955, 961, 971, 965, 966, 960, 954, 963, 969, 960, 960, 966, 959, 969, 970, 957, 951, 973, 964, 970, 954, 964, 958, 963, 962, 964, 971, 966, 963, 967, 966, 955, 952, 965, 959, 972, 962, 964, 969, 967, 967, 978, 959, 965, 953, 970, 968, 966, 959],\n",
    "[965, 969, 964, 968, 952, 969, 958, 977, 969, 966, 962, 966, 977, 961, 959, 964, 959, 965, 964, 961, 962, 965, 963, 959, 972, 958, 967, 961, 956, 973, 959, 964, 974, 963, 963, 971, 975, 964, 962, 965, 965, 964, 966, 958, 962, 961, 970, 962, 961, 962],\n",
    "[974, 966, 967, 965, 966, 974, 963, 970, 958, 965, 953, 964, 965, 956, 959, 958, 963, 955, 961, 963, 962, 968, 970, 965, 967, 964, 975, 966, 968, 960, 965, 963, 958, 969, 964, 960, 970, 969, 970, 962, 964, 963, 963, 963, 964, 962, 966, 978, 961, 972],\n",
    "[955, 972, 969, 969, 969, 959, 957, 969, 957, 973, 967, 959, 961, 979, 968, 957, 966, 968, 947, 954, 967, 957, 968, 974, 972, 964, 969, 952, 967, 959, 959, 966, 964, 970, 960, 964, 963, 965, 965, 951, 965, 972, 955, 969, 959, 952, 973, 961, 962, 970],   \n",
    "[961, 958, 961, 961, 962, 968, 968, 963, 965, 960, 970, 966, 958, 964, 961, 972, 964, 956, 966, 952, 959, 971, 957, 967, 968, 966, 969, 965, 970, 959, 971, 957, 962, 968, 966, 967, 952, 963, 962, 964, 958, 974, 958, 960, 963, 967, 957, 962, 971, 961],   \n",
    "[960, 974, 968, 970, 961, 960, 961, 961, 963, 958, 968, 969, 963, 947, 964, 959, 961, 973, 972, 971, 966, 966, 950, 966, 970, 963, 969, 961, 963, 959, 965, 956, 960, 970, 951, 970, 969, 964, 961, 966, 971, 968, 969, 968, 972, 961, 963, 969, 964, 961],\n",
    "[957, 967, 959, 968, 966, 962, 956, 962, 966, 975, 977, 972, 961, 958, 981, 967, 959, 968, 965, 969, 967, 961, 961, 962, 966, 954, 963, 969, 959, 968, 970, 957, 955, 971, 962, 961, 951, 962, 963, 961, 962, 966, 961, 968, 965, 961, 970, 968, 965, 961],   \n",
    "[962, 969, 968, 957, 971, 970, 949, 974, 972, 964, 961, 962, 961, 964, 967, 968, 963, 969, 962, 967, 959, 958, 960, 957, 963, 963, 961, 953, 966, 967, 959, 968, 963, 963, 964, 962, 978, 967, 964, 969, 960, 972, 969, 967, 972, 956, 962, 963, 962, 952], \n",
    "[949, 961, 961, 964, 961, 968, 975, 960, 960, 959, 958, 961, 966, 963, 968, 966, 960, 969, 953, 960, 964, 959, 964, 971, 961, 961, 970, 963, 964, 956, 969, 968, 969, 953, 958, 969, 965, 961, 970, 967, 961, 967, 971, 959, 970, 960, 965, 951, 970, 963],   \n",
    "[961, 968, 972, 960, 970, 970, 962, 967, 966, 962, 962, 962, 950, 966, 966, 957, 969, 960, 963, 955, 962, 964, 965, 959, 967, 963, 973, 961, 968, 961, 962, 959, 973, 961, 956, 966, 961, 965, 960, 963, 958, 950, 949, 957, 952, 967, 959, 969, 959, 966]] \n",
    "    \n",
    "Average = [961.55 965.2 962.65 964.85 964.55 966 962.55 965.05 963.9 965.95 964.7 964.15 963.5 962.7 965.35 964.85 962.15 962.75 964.45 962.15 963.15 964.65 961.85 961.3 966.25 962.65 966.3 962.2 962.95 963.85 965.25 962.8 964.85 964.85 960.25 963.55 964.55 964.2 962.9 963.7 962.65 964.95 962.7 963.8 964.6 961.45 964.9 963.95 963.7 964.05\n",
    "]\n",
    "    "
   ]
  },
  {
   "cell_type": "markdown",
   "id": "11bb8d09-82f0-4dc2-b013-963e482c3198",
   "metadata": {},
   "source": [
    "## Converting the average in plotable format (Divided by 1000)"
   ]
  },
  {
   "cell_type": "code",
   "execution_count": null,
   "id": "5533dd36-0bb1-43b3-a726-a49d52f44e04",
   "metadata": {},
   "outputs": [],
   "source": [
    "\n",
    "Average = [961.55 965.2 962.65 964.85 964.55 966 962.55 965.05 963.9 965.95 964.7 964.15 963.5 962.7 965.35 964.85 962.15 962.75 964.45 962.15 963.15 964.65 961.85 961.3 966.25 962.65 966.3 962.2 962.95 963.85 965.25 962.8 964.85 964.85 960.25 963.55 964.55 964.2 962.9 963.7 962.65 964.95 962.7 963.8 964.6 961.45 964.9 963.95 963.7 964.05]\n",
    "\n",
    "y1=[0.96155,0.9652,0.96265,0.96485,0.96455,0.966,0.96255,0.96505,0.9639,0.96595,0.9647,0.96415,0.9635,0.9627,0.96535,0.96485,0.96215,0.96275,0.96445,0.96215,0.96315,0.96465,0.96185,0.9613,0.96625,0.96265,0.9663,0.9622,0.96295,0.96385,0.96525,0.9628,0.96485,0.96485,0.96025,0.96355,0.96455,0.9642,0.9629,0.9637,0.96265,0.96495,0.9627,0.9638,0.9646,0.96145,0.9649,0.96395,0.9637,0.96405]"
   ]
  },
  {
   "cell_type": "markdown",
   "id": "fa70d531-1748-48c1-8d12-fb7fb4b312b6",
   "metadata": {},
   "source": [
    "## Map Plotting"
   ]
  },
  {
   "cell_type": "code",
   "execution_count": 61,
   "id": "e654c266-691a-4157-9c89-e28888e05852",
   "metadata": {},
   "outputs": [
    {
     "data": {
      "text/plain": [
       "<matplotlib.legend.Legend at 0x7fe39e506820>"
      ]
     },
     "execution_count": 61,
     "metadata": {},
     "output_type": "execute_result"
    },
    {
     "data": {
      "image/png": "[encoded data removed]",
      "text/plain": [
       "<Figure size 720x360 with 1 Axes>"
      ]
     },
     "metadata": {
      "needs_background": "light"
     },
     "output_type": "display_data"
    },
    {
     "data": {
      "text/plain": [
       "<Figure size 1152x720 with 0 Axes>"
      ]
     },
     "metadata": {},
     "output_type": "display_data"
    }
   ],
   "source": [
    "%config InlineBackend.print_figure_kwargs={'facecolor' : \"w\"}\n",
    "import matplotlib.pyplot as plt\n",
    "from matplotlib.ticker import (AutoMinorLocator, MultipleLocator)\n",
    "fig, ax = plt.subplots(figsize=(10, 5))\n",
    "fig.suptitle('Depolarisation error BB84 Protocol Using Z Basis with variable I Gate as Quantum Channel',fontsize=14)\n",
    "# naming the x axis\n",
    "plt.xlabel('Varying Error Probability ',fontsize=14)\n",
    "# naming the y axis\n",
    "plt.ylabel('Probabilities',fontsize=14)\n",
    "# giving a title to my graph\n",
    "# Set axis ranges; by default this will put major ticks every 25.\n",
    "#ax.set_xlim(0, 300)\n",
    "#ax.set_ylim(0, 1)\n",
    "ax.set_xlim(10, 500)\n",
    "ax.set_ylim(0,1)\n",
    "fig = plt.figure(figsize=(16,10))\n",
    "# line 2 points\n",
    "y1=[0.96155,0.9652,0.96265,0.96485,0.96455,0.966,0.96255,0.96505,0.9639,0.96595,0.9647,0.96415,0.9635,0.9627,0.96535,0.96485,0.96215,0.96275,0.96445,0.96215,0.96315,0.96465,0.96185,0.9613,0.96625,0.96265,0.9663,0.9622,0.96295,0.96385,0.96525,0.9628,0.96485,0.96485,0.96025,0.96355,0.96455,0.9642,0.9629,0.9637,0.96265,0.96495,0.9627,0.9638,0.9646,0.96145,0.9649,0.96395,0.9637,0.96405]\n",
    "x1 = [10, 20, 30, 40, 50, 60, 70, 80, 90, 100, 110, 120, 130, 140, 150, 160, 170, 180, 190, 200, 210, 220, 230, 240, 250, 260, 270, 280, 290, 300, 310, 320, 330, 340, 350, 360, 370, 380, 390, 400, 410, 420, 430, 440, 450, 460, 470, 480, 490, 500]\n",
    "\n",
    "# plotting the line 2 points\n",
    "ax.plot(x1, y1, label = \"|1>'s Probability\")\n",
    "#ax.axes.xaxis.set_ticks([])\n",
    "# show a legend on the plot\n",
    "ax.legend()"
   ]
  },
  {
   "cell_type": "markdown",
   "id": "66d57be8-0de4-41f6-a5ad-fb3bac092cad",
   "metadata": {},
   "source": [
    "## Mean"
   ]
  },
  {
   "cell_type": "code",
   "execution_count": 59,
   "id": "8d093a04-3372-45c9-bd28-479fb1d373f3",
   "metadata": {},
   "outputs": [
    {
     "name": "stdout",
     "output_type": "stream",
     "text": [
      "961.55 965.2 962.65 964.85 964.55 966 962.55 965.05 963.9 965.95 964.7 964.15 963.5 962.7 965.35 964.85 962.15 962.75 964.45 962.15 963.15 964.65 961.85 961.3 966.25 962.65 966.3 962.2 962.95 963.85 965.25 962.8 964.85 964.85 960.25 963.55 964.55 964.2 962.9 963.7 962.65 964.95 962.7 963.8 964.6 961.45 964.9 963.95 963.7 964.05\n"
     ]
    }
   ],
   "source": [
    "from statistics import mean\n",
    "a=[[956, 964, 964, 968, 970, 969, 962, 955, 972, 969, 972, 965, 963, 963, 960, 945, 955, 962, 970, 972, 958, 969, 966, 958, 966, 967, 956, 963, 957, 964, 971, 959, 960, 962, 964, 964, 955, 974, 963, 964, 955, 957, 961, 970, 960, 960, 962, 972, 969, 960],\n",
    "[969, 963, 966, 965, 958, 966, 964, 947, 958, 970, 960, 966, 962, 966, 966, 964, 967, 956, 967, 966, 962, 973, 964, 956, 966, 971, 969, 958, 966, 969, 972, 962, 958, 962, 944, 962, 964, 959, 956, 960, 963, 961, 966, 956, 967, 956, 966, 951, 954, 967],\n",
    "[955, 965, 960, 963, 967, 974, 963, 975, 956, 971, 963, 969, 971, 954, 959, 973, 965, 963, 967, 966, 966, 972, 959, 955, 965, 957, 968, 958, 962, 968, 971, 964, 961, 961, 964, 961, 964, 960, 956, 952, 964, 967, 957, 967, 969, 972, 950, 968, 967, 968],\n",
    "[970, 968, 948, 967, 973, 973, 966, 967, 973, 965, 966, 969, 959, 960, 969, 971, 964, 970, 964, 954, 964, 958, 966, 960, 972, 966, 966, 973, 956, 962, 960, 959, 979, 968, 964, 967, 969, 963, 963, 965, 974, 963, 963, 961, 967, 966, 965, 976, 953, 979],\n",
    "[970, 959, 966, 973, 962, 969, 964, 967, 971, 957, 963, 967, 959, 979, 967, 971, 965, 966, 963, 968, 959, 962, 964, 954, 971, 966, 972, 960, 962, 963, 963, 960, 967, 968, 965, 962, 967, 972, 959, 976, 964, 959, 951, 962, 956, 956, 962, 957, 971, 970],\n",
    "[969, 965, 948, 967, 978, 966, 972, 959, 960, 969, 966, 957, 957, 955, 969, 977, 965, 958, 972, 968, 962, 961, 966, 958, 967, 965, 969, 974, 957, 966, 964, 965, 958, 969, 960, 960, 952, 966, 971, 968, 961, 965, 968, 966, 968, 961, 970, 969, 969, 968],\n",
    "[965, 971, 964, 973, 953, 964, 960, 962, 952, 971, 962, 957, 962, 966, 962, 965, 960, 960, 964, 960, 970, 962, 958, 959, 965, 968, 957, 957, 969, 954, 961, 967, 967, 960, 954, 963, 970, 958, 958, 954, 966, 969, 948, 964, 970, 966, 971, 964, 956, 963],\n",
    "[956, 959, 959, 954, 964, 958, 975, 967, 957, 968, 969, 976, 974, 976, 962, 962, 958, 961, 968, 957, 961, 967, 955, 957, 961, 963, 968, 951, 964, 968, 963, 961, 980, 977, 959, 956, 970, 965, 970, 961, 958, 959, 963, 963, 958, 965, 968, 962, 962, 958],\n",
    "[961, 970, 966, 956, 950, 952, 950, 973, 975, 960, 968, 956, 967, 967, 960, 964, 967, 961, 959, 953, 964, 973, 953, 966, 957, 953, 956, 971, 958, 968, 971, 964, 963, 964, 967, 969, 962, 966, 959, 973, 962, 967, 966, 973, 967, 956, 968, 952, 969, 959],\n",
    "[962, 961, 962, 958, 973, 963, 966, 972, 965, 968, 967, 960, 968, 951, 971, 967, 956, 964, 969, 963, 959, 973, 964, 965, 966, 959, 965, 957, 961, 970, 963, 971, 971, 966, 955, 958, 962, 959, 962, 964, 955, 969, 972, 966, 966, 971, 961, 957, 963, 962],\n",
    "[954, 955, 961, 971, 965, 966, 960, 954, 963, 969, 960, 960, 966, 959, 969, 970, 957, 951, 973, 964, 970, 954, 964, 958, 963, 962, 964, 971, 966, 963, 967, 966, 955, 952, 965, 959, 972, 962, 964, 969, 967, 967, 978, 959, 965, 953, 970, 968, 966, 959],\n",
    "[965, 969, 964, 968, 952, 969, 958, 977, 969, 966, 962, 966, 977, 961, 959, 964, 959, 965, 964, 961, 962, 965, 963, 959, 972, 958, 967, 961, 956, 973, 959, 964, 974, 963, 963, 971, 975, 964, 962, 965, 965, 964, 966, 958, 962, 961, 970, 962, 961, 962],\n",
    "[974, 966, 967, 965, 966, 974, 963, 970, 958, 965, 953, 964, 965, 956, 959, 958, 963, 955, 961, 963, 962, 968, 970, 965, 967, 964, 975, 966, 968, 960, 965, 963, 958, 969, 964, 960, 970, 969, 970, 962, 964, 963, 963, 963, 964, 962, 966, 978, 961, 972],\n",
    "[955, 972, 969, 969, 969, 959, 957, 969, 957, 973, 967, 959, 961, 979, 968, 957, 966, 968, 947, 954, 967, 957, 968, 974, 972, 964, 969, 952, 967, 959, 959, 966, 964, 970, 960, 964, 963, 965, 965, 951, 965, 972, 955, 969, 959, 952, 973, 961, 962, 970],   \n",
    "[961, 958, 961, 961, 962, 968, 968, 963, 965, 960, 970, 966, 958, 964, 961, 972, 964, 956, 966, 952, 959, 971, 957, 967, 968, 966, 969, 965, 970, 959, 971, 957, 962, 968, 966, 967, 952, 963, 962, 964, 958, 974, 958, 960, 963, 967, 957, 962, 971, 961],   \n",
    "[960, 974, 968, 970, 961, 960, 961, 961, 963, 958, 968, 969, 963, 947, 964, 959, 961, 973, 972, 971, 966, 966, 950, 966, 970, 963, 969, 961, 963, 959, 965, 956, 960, 970, 951, 970, 969, 964, 961, 966, 971, 968, 969, 968, 972, 961, 963, 969, 964, 961],\n",
    "[957, 967, 959, 968, 966, 962, 956, 962, 966, 975, 977, 972, 961, 958, 981, 967, 959, 968, 965, 969, 967, 961, 961, 962, 966, 954, 963, 969, 959, 968, 970, 957, 955, 971, 962, 961, 951, 962, 963, 961, 962, 966, 961, 968, 965, 961, 970, 968, 965, 961],   \n",
    "[962, 969, 968, 957, 971, 970, 949, 974, 972, 964, 961, 962, 961, 964, 967, 968, 963, 969, 962, 967, 959, 958, 960, 957, 963, 963, 961, 953, 966, 967, 959, 968, 963, 963, 964, 962, 978, 967, 964, 969, 960, 972, 969, 967, 972, 956, 962, 963, 962, 952], \n",
    "[949, 961, 961, 964, 961, 968, 975, 960, 960, 959, 958, 961, 966, 963, 968, 966, 960, 969, 953, 960, 964, 959, 964, 971, 961, 961, 970, 963, 964, 956, 969, 968, 969, 953, 958, 969, 965, 961, 970, 967, 961, 967, 971, 959, 970, 960, 965, 951, 970, 963],   \n",
    "[961, 968, 972, 960, 970, 970, 962, 967, 966, 962, 962, 962, 950, 966, 966, 957, 969, 960, 963, 955, 962, 964, 965, 959, 967, 963, 973, 961, 968, 961, 962, 959, 973, 961, 956, 966, 961, 965, 960, 963, 958, 950, 949, 957, 952, 967, 959, 969, 959, 966]] \n",
    "    \n",
    "print(*map(mean, zip(*a)))"
   ]
  },
  {
   "cell_type": "code",
   "execution_count": null,
   "id": "bb17ea12-1e56-46f4-8aeb-476da9b0e689",
   "metadata": {},
   "outputs": [],
   "source": []
  },
  {
   "cell_type": "markdown",
   "id": "f68f4089-7934-4159-8457-a5f500afed93",
   "metadata": {},
   "source": [
    "## Sir's Code"
   ]
  },
  {
   "cell_type": "code",
   "execution_count": 35,
   "id": "f31f8b99-b8de-42fe-bb05-376a272a182e",
   "metadata": {},
   "outputs": [
    {
     "name": "stdout",
     "output_type": "stream",
     "text": [
      "        ┌───┐ ░ ┌───┐ ░ ┌───┐ ░ ┌───┐ ░ ┌───┐ ░ ┌───┐ ░ ┌───┐ ░ ┌───┐ ░ ┌───┐»\n",
      "   q_0: ┤ X ├─░─┤ I ├─░─┤ I ├─░─┤ I ├─░─┤ I ├─░─┤ I ├─░─┤ I ├─░─┤ I ├─░─┤ I ├»\n",
      "        └───┘ ░ └───┘ ░ └───┘ ░ └───┘ ░ └───┘ ░ └───┘ ░ └───┘ ░ └───┘ ░ └───┘»\n",
      "meas: 1/═════════════════════════════════════════════════════════════════════»\n",
      "                                                                             »\n",
      "«         ░ ┌───┐ ░ ┌───┐ ░  ░ ┌─┐\n",
      "«   q_0: ─░─┤ I ├─░─┤ I ├─░──░─┤M├\n",
      "«         ░ └───┘ ░ └───┘ ░  ░ └╥┘\n",
      "«meas: 1/═══════════════════════╩═\n",
      "«                               0 \n"
     ]
    },
    {
     "data": {
      "image/png": "[encoded data removed]",
      "text/plain": [
       "<Figure size 504x360 with 1 Axes>"
      ]
     },
     "execution_count": 35,
     "metadata": {},
     "output_type": "execute_result"
    }
   ],
   "source": [
    "qc = QuantumCircuit(1)\n",
    "qc.x(0)\n",
    "qc.barrier()\n",
    "for i in range(10):\n",
    "    qc.i(0)\n",
    "    qc.barrier()\n",
    "qc.measure_all()\n",
    "print(qc)\n",
    "\n",
    "counts = execute(qc,Aer.get_backend('qasm_simulator'),noise_model=get_noise_dep(0.036,0.00036),shots=2048).result().get_counts()\n",
    "plot_histogram(counts)"
   ]
  },
  {
   "cell_type": "code",
   "execution_count": 36,
   "id": "212f2870-f391-41fd-ab4a-291cd3e4a596",
   "metadata": {},
   "outputs": [
    {
     "data": {
      "image/png": "[encoded data removed]",
      "text/plain": [
       "<Figure size 504x360 with 1 Axes>"
      ]
     },
     "execution_count": 36,
     "metadata": {},
     "output_type": "execute_result"
    }
   ],
   "source": [
    "qc = QuantumCircuit(1)\n",
    "qc.x(0)\n",
    "qc.barrier()\n",
    "\n",
    "for i in range(10000):\n",
    "    qc.i(0)\n",
    "    qc.barrier()\n",
    "qc.measure_all()\n",
    "#print(qc)\n",
    "\n",
    "counts = execute(qc,Aer.get_backend('qasm_simulator'),noise_model=get_noise_dep(0.036,0.00036),shots=2048).result().get_counts()\n",
    "plot_histogram(counts)"
   ]
  },
  {
   "cell_type": "code",
   "execution_count": 37,
   "id": "107dc189-0bf4-4992-a24e-26fdce4a0e4f",
   "metadata": {},
   "outputs": [
    {
     "data": {
      "image/png": "[encoded data removed]",
      "text/plain": [
       "<Figure size 504x360 with 1 Axes>"
      ]
     },
     "execution_count": 37,
     "metadata": {},
     "output_type": "execute_result"
    }
   ],
   "source": [
    "qc = QuantumCircuit(1)\n",
    "qc.x(0)\n",
    "qc.barrier()\n",
    "for i in range(500):\n",
    "    qc.i(0)\n",
    "    qc.barrier()\n",
    "qc.measure_all()\n",
    "#print(qc)\n",
    "\n",
    "counts = execute(qc,Aer.get_backend('qasm_simulator'),noise_model=get_noise_dep(0.036,0.00036),shots=2048).result().get_counts()\n",
    "plot_histogram(counts)"
   ]
  },
  {
   "cell_type": "code",
   "execution_count": 38,
   "id": "3d17754e-e7d7-4c7a-a939-dbe6f19b0ee9",
   "metadata": {},
   "outputs": [
    {
     "data": {
      "image/png": "[encoded data removed]",
      "text/plain": [
       "<Figure size 504x360 with 1 Axes>"
      ]
     },
     "execution_count": 38,
     "metadata": {},
     "output_type": "execute_result"
    }
   ],
   "source": [
    "qc = QuantumCircuit(1)\n",
    "qc.x(0)\n",
    "qc.barrier()\n",
    "\n",
    "for i in range(500):\n",
    "    qc.i(0)\n",
    "    qc.barrier()\n",
    "qc.measure_all()\n",
    "#print(qc)\n",
    "\n",
    "counts = execute(qc,Aer.get_backend('qasm_simulator'),noise_model=get_noise_dep(0.036,0.00036),shots=1000).result().get_counts()\n",
    "plot_histogram(counts)"
   ]
  },
  {
   "cell_type": "code",
   "execution_count": null,
   "id": "31310bd2-a08c-4275-bb2b-14b807c74570",
   "metadata": {},
   "outputs": [],
   "source": []
  }
 ],
 "metadata": {
  "kernelspec": {
   "display_name": "Qiskit v0.31.0 (ipykernel)",
   "language": "python",
   "name": "python3"
  },
  "language_info": {
   "codemirror_mode": {
    "name": "ipython",
    "version": 3
   },
   "file_extension": ".py",
   "mimetype": "text/x-python",
   "name": "python",
   "nbconvert_exporter": "python",
   "pygments_lexer": "ipython3",
   "version": "3.8.10"
  },
  "widgets": {
   "application/vnd.jupyter.widget-state+json": {
    "state": {
     "019926f6035d48b7a63009010d1e4a33": {
      "model_module": "@jupyter-widgets/base",
      "model_module_version": "1.2.0",
      "model_name": "LayoutModel",
      "state": {
       "width": "145px"
      }
     },
     "0757cfe5765c4bb2a8be64567dc7527f": {
      "model_module": "@jupyter-widgets/base",
      "model_module_version": "1.2.0",
      "model_name": "LayoutModel",
      "state": {
       "margin": "0px 0px 0px 37px",
       "width": "600px"
      }
     },
     "099c666621974e4c9cada2a801b9df34": {
      "model_module": "@jupyter-widgets/controls",
      "model_module_version": "1.5.0",
      "model_name": "HTMLModel",
      "state": {
       "layout": "IPY_MODEL_c6bd7d7e9a174792b0515d5267549b4c",
       "style": "IPY_MODEL_32f26d47548c42c0a1c84c7ea66aaab1",
       "value": "<p style='font-family: IBM Plex Sans, Arial, Helvetica, sans-serif; font-size: 20px; font-weight: medium;'>Circuit Properties</p>"
      }
     },
     "189a89f9571b468e9b0a9b233d501a1d": {
      "model_module": "@jupyter-widgets/base",
      "model_module_version": "1.2.0",
      "model_name": "LayoutModel",
      "state": {}
     },
     "32f26d47548c42c0a1c84c7ea66aaab1": {
      "model_module": "@jupyter-widgets/controls",
      "model_module_version": "1.5.0",
      "model_name": "DescriptionStyleModel",
      "state": {
       "description_width": ""
      }
     },
     "33f7205ed18e46cd96bfefb045064165": {
      "model_module": "@jupyter-widgets/base",
      "model_module_version": "1.2.0",
      "model_name": "LayoutModel",
      "state": {
       "width": "190px"
      }
     },
     "3bc658f7bf2c4bfb988cf9c444a9be5b": {
      "model_module": "@jupyter-widgets/controls",
      "model_module_version": "1.5.0",
      "model_name": "ButtonModel",
      "state": {
       "button_style": "primary",
       "description": "Clear",
       "layout": "IPY_MODEL_d54c85ce2f854cfda3b857c31d746aab",
       "style": "IPY_MODEL_9f06451e3b1545d29a754e0d47d5d39a"
      }
     },
     "4049d12d40c34d21b899cc9734caf632": {
      "model_module": "@jupyter-widgets/controls",
      "model_module_version": "1.5.0",
      "model_name": "DescriptionStyleModel",
      "state": {
       "description_width": ""
      }
     },
     "5eb12a54a91041dabb47fd3fa4b0ec8b": {
      "model_module": "@jupyter-widgets/base",
      "model_module_version": "1.2.0",
      "model_name": "LayoutModel",
      "state": {
       "width": "95px"
      }
     },
     "84362927a3ef4a698c8651f05f6b4e79": {
      "model_module": "@jupyter-widgets/controls",
      "model_module_version": "1.5.0",
      "model_name": "DescriptionStyleModel",
      "state": {
       "description_width": ""
      }
     },
     "9f06451e3b1545d29a754e0d47d5d39a": {
      "model_module": "@jupyter-widgets/controls",
      "model_module_version": "1.5.0",
      "model_name": "ButtonStyleModel",
      "state": {}
     },
     "b7a781ceafe24db8a36abacc26e8278a": {
      "model_module": "@jupyter-widgets/controls",
      "model_module_version": "1.5.0",
      "model_name": "DescriptionStyleModel",
      "state": {
       "description_width": ""
      }
     },
     "b8eb6690afe14c48965e3e0ca3289999": {
      "model_module": "@jupyter-widgets/controls",
      "model_module_version": "1.5.0",
      "model_name": "HTMLModel",
      "state": {
       "layout": "IPY_MODEL_33f7205ed18e46cd96bfefb045064165",
       "style": "IPY_MODEL_b7a781ceafe24db8a36abacc26e8278a",
       "value": "<h5>Job ID</h5>"
      }
     },
     "bcda338373184b00aeb65dc66f573315": {
      "model_module": "@jupyter-widgets/controls",
      "model_module_version": "1.5.0",
      "model_name": "GridBoxModel",
      "state": {
       "children": [
        "IPY_MODEL_3bc658f7bf2c4bfb988cf9c444a9be5b"
       ],
       "layout": "IPY_MODEL_f3ef944be6244213acffe35d12525f50"
      }
     },
     "bfef537b68bb4915901d50d9942e4bbc": {
      "model_module": "@jupyter-widgets/controls",
      "model_module_version": "1.5.0",
      "model_name": "HTMLModel",
      "state": {
       "layout": "IPY_MODEL_189a89f9571b468e9b0a9b233d501a1d",
       "style": "IPY_MODEL_84362927a3ef4a698c8651f05f6b4e79",
       "value": "<h5>Message</h5>"
      }
     },
     "c4b07cefe9fc468592b1476a9619a59c": {
      "model_module": "@jupyter-widgets/controls",
      "model_module_version": "1.5.0",
      "model_name": "DescriptionStyleModel",
      "state": {
       "description_width": ""
      }
     },
     "c6bd7d7e9a174792b0515d5267549b4c": {
      "model_module": "@jupyter-widgets/base",
      "model_module_version": "1.2.0",
      "model_name": "LayoutModel",
      "state": {
       "margin": "0px 0px 10px 0px"
      }
     },
     "d54c85ce2f854cfda3b857c31d746aab": {
      "model_module": "@jupyter-widgets/base",
      "model_module_version": "1.2.0",
      "model_name": "LayoutModel",
      "state": {
       "grid_area": "right",
       "padding": "0px 0px 0px 0px",
       "width": "70px"
      }
     },
     "e24d03702f8242888dc648a1c7b4c8b6": {
      "model_module": "@jupyter-widgets/controls",
      "model_module_version": "1.5.0",
      "model_name": "HTMLModel",
      "state": {
       "layout": "IPY_MODEL_019926f6035d48b7a63009010d1e4a33",
       "style": "IPY_MODEL_4049d12d40c34d21b899cc9734caf632",
       "value": "<h5>Backend</h5>"
      }
     },
     "ec2d99e4d3424afc8b7e1e501c7f5fb2": {
      "model_module": "@jupyter-widgets/controls",
      "model_module_version": "1.5.0",
      "model_name": "HTMLModel",
      "state": {
       "layout": "IPY_MODEL_5eb12a54a91041dabb47fd3fa4b0ec8b",
       "style": "IPY_MODEL_c4b07cefe9fc468592b1476a9619a59c",
       "value": "<h5>Status</h5>"
      }
     },
     "ede6c7c4e9d046a4a7455516f8129c80": {
      "model_module": "@jupyter-widgets/controls",
      "model_module_version": "1.5.0",
      "model_name": "DescriptionStyleModel",
      "state": {
       "description_width": ""
      }
     },
     "f052173741084b7b997bb3e794855edc": {
      "model_module": "@jupyter-widgets/controls",
      "model_module_version": "1.5.0",
      "model_name": "HTMLModel",
      "state": {
       "layout": "IPY_MODEL_ff42ba1a62644b6ca83049f97a46508a",
       "style": "IPY_MODEL_ede6c7c4e9d046a4a7455516f8129c80",
       "value": "<h5>Queue</h5>"
      }
     },
     "f3ef944be6244213acffe35d12525f50": {
      "model_module": "@jupyter-widgets/base",
      "model_module_version": "1.2.0",
      "model_name": "LayoutModel",
      "state": {
       "grid_template_areas": "\n                                       \". . . . right \"\n                                        ",
       "grid_template_columns": "20% 20% 20% 20% 20%",
       "width": "100%"
      }
     },
     "f5f137e827f64d7aa423556ce8ad53e2": {
      "model_module": "@jupyter-widgets/controls",
      "model_module_version": "1.5.0",
      "model_name": "HBoxModel",
      "state": {
       "children": [
        "IPY_MODEL_b8eb6690afe14c48965e3e0ca3289999",
        "IPY_MODEL_e24d03702f8242888dc648a1c7b4c8b6",
        "IPY_MODEL_ec2d99e4d3424afc8b7e1e501c7f5fb2",
        "IPY_MODEL_f052173741084b7b997bb3e794855edc",
        "IPY_MODEL_bfef537b68bb4915901d50d9942e4bbc"
       ],
       "layout": "IPY_MODEL_0757cfe5765c4bb2a8be64567dc7527f"
      }
     },
     "ff42ba1a62644b6ca83049f97a46508a": {
      "model_module": "@jupyter-widgets/base",
      "model_module_version": "1.2.0",
      "model_name": "LayoutModel",
      "state": {
       "width": "70px"
      }
     }
    },
    "version_major": 2,
    "version_minor": 0
   }
  }
 },
 "nbformat": 4,
 "nbformat_minor": 5
}
